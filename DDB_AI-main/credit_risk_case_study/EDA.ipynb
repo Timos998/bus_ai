{
 "cells": [
  {
   "cell_type": "markdown",
   "metadata": {
    "cell_id": "ff110dab-193c-485d-a893-22b366a0d059",
    "deepnote_cell_type": "markdown"
   },
   "source": [
    "# EDA for the default risk dataset\n",
    "\n",
    "In this notebook we conduct an analysis to better understand the default risk dataset. The goal is to understand what data is available, and what we can use as features for a classification model.\n",
    "Note: to run this analysis notebook you need numpy, pandas, scipy, scikit-learn, pyarrow, and plotnine installed. You can install these in a conda environment using the conda package manager, or from command line:\n",
    "\n",
    "- conda install -y numpy pandas scikit-learn scipy\n",
    "- conda install -c conda-forge plotnine"
   ]
  },
  {
   "cell_type": "markdown",
   "metadata": {
    "cell_id": "00001-63795557-0220-4ea7-9ce9-140725d2cf4a",
    "deepnote_cell_type": "markdown"
   },
   "source": [
    "## Read and clean data"
   ]
  },
  {
   "cell_type": "code",
   "execution_count": 287,
   "metadata": {
    "cell_id": "e6c4fc56-70ba-473e-ab6c-40e98ee02535",
    "deepnote_cell_type": "code",
    "deepnote_to_be_reexecuted": false,
    "execution_millis": 3232,
    "execution_start": 1642512437305,
    "source_hash": "7ccb456c",
    "tags": []
   },
   "outputs": [
    {
     "name": "stdout",
     "output_type": "stream",
     "text": [
      "Requirement already satisfied: plotnine in c:\\users\\eigenaar\\anaconda3\\lib\\site-packages (0.8.0)\n",
      "Requirement already satisfied: statsmodels>=0.12.1 in c:\\users\\eigenaar\\anaconda3\\lib\\site-packages (from plotnine) (0.12.2)\n",
      "Requirement already satisfied: descartes>=1.1.0 in c:\\users\\eigenaar\\anaconda3\\lib\\site-packages (from plotnine) (1.1.0)Note: you may need to restart the kernel to use updated packages.\n",
      "\n",
      "Requirement already satisfied: scipy>=1.5.0 in c:\\users\\eigenaar\\anaconda3\\lib\\site-packages (from plotnine) (1.7.1)\n",
      "Requirement already satisfied: patsy>=0.5.1 in c:\\users\\eigenaar\\anaconda3\\lib\\site-packages (from plotnine) (0.5.2)\n",
      "Requirement already satisfied: numpy>=1.19.0 in c:\\users\\eigenaar\\anaconda3\\lib\\site-packages (from plotnine) (1.20.3)\n",
      "Requirement already satisfied: matplotlib>=3.1.1 in c:\\users\\eigenaar\\anaconda3\\lib\\site-packages (from plotnine) (3.4.3)\n",
      "Requirement already satisfied: pandas>=1.1.0 in c:\\users\\eigenaar\\anaconda3\\lib\\site-packages (from plotnine) (1.3.4)\n",
      "Requirement already satisfied: mizani>=0.7.3 in c:\\users\\eigenaar\\anaconda3\\lib\\site-packages (from plotnine) (0.7.3)\n",
      "Requirement already satisfied: pillow>=6.2.0 in c:\\users\\eigenaar\\anaconda3\\lib\\site-packages (from matplotlib>=3.1.1->plotnine) (8.4.0)\n",
      "Requirement already satisfied: python-dateutil>=2.7 in c:\\users\\eigenaar\\anaconda3\\lib\\site-packages (from matplotlib>=3.1.1->plotnine) (2.8.2)\n",
      "Requirement already satisfied: kiwisolver>=1.0.1 in c:\\users\\eigenaar\\anaconda3\\lib\\site-packages (from matplotlib>=3.1.1->plotnine) (1.3.1)\n",
      "Requirement already satisfied: pyparsing>=2.2.1 in c:\\users\\eigenaar\\anaconda3\\lib\\site-packages (from matplotlib>=3.1.1->plotnine) (3.0.4)\n",
      "Requirement already satisfied: cycler>=0.10 in c:\\users\\eigenaar\\anaconda3\\lib\\site-packages (from matplotlib>=3.1.1->plotnine) (0.10.0)\n",
      "Requirement already satisfied: six in c:\\users\\eigenaar\\anaconda3\\lib\\site-packages (from cycler>=0.10->matplotlib>=3.1.1->plotnine) (1.16.0)\n",
      "Requirement already satisfied: palettable in c:\\users\\eigenaar\\anaconda3\\lib\\site-packages (from mizani>=0.7.3->plotnine) (3.3.0)\n",
      "Requirement already satisfied: pytz>=2017.3 in c:\\users\\eigenaar\\anaconda3\\lib\\site-packages (from pandas>=1.1.0->plotnine) (2021.3)\n"
     ]
    }
   ],
   "source": [
    "pip install plotnine"
   ]
  },
  {
   "cell_type": "code",
   "execution_count": 288,
   "metadata": {
    "cell_id": "00002-9c66b4bc-7df9-42c4-ba3a-21becddb52c5",
    "deepnote_cell_type": "code",
    "deepnote_output_heights": [
     194
    ],
    "deepnote_to_be_reexecuted": false,
    "execution_millis": 2659,
    "execution_start": 1642512440541,
    "source_hash": "421e4c70"
   },
   "outputs": [],
   "source": [
    "import numpy as np\n",
    "import pandas as pd\n",
    "from plotnine import * # generally not a good thing to do to import everything from a package. However it's ok for visualization purposes in an analysis.\n",
    "import os\n",
    "import scipy"
   ]
  },
  {
   "cell_type": "code",
   "execution_count": 289,
   "metadata": {
    "cell_id": "00003-d45a924d-091e-463a-b17e-9bb8ec85f371",
    "deepnote_cell_type": "code",
    "deepnote_to_be_reexecuted": false,
    "execution_millis": 0,
    "execution_start": 1642512443205,
    "source_hash": "94685b0d"
   },
   "outputs": [],
   "source": [
    "from IPython.core.interactiveshell import InteractiveShell\n",
    "InteractiveShell.ast_node_interactivity = \"all\" # to make jupyter print all outputs, not just the last one\n",
    "from IPython.core.display import HTML # to pretty print pandas df and be able to copy them over (e.g. to ppt slides)"
   ]
  },
  {
   "cell_type": "code",
   "execution_count": 290,
   "metadata": {
    "cell_id": "00004-9b18d7bb-1017-449a-b529-0e382a9cc757",
    "deepnote_cell_type": "code",
    "deepnote_output_heights": [
     21.1875
    ],
    "deepnote_to_be_reexecuted": false,
    "execution_millis": 4,
    "execution_start": 1642512443211,
    "source_hash": "faadef6b"
   },
   "outputs": [
    {
     "data": {
      "text/plain": [
       "'c:\\\\Users\\\\Eigenaar\\\\Documents\\\\AI\\\\DDB_AI-main\\\\credit_risk_case_study'"
      ]
     },
     "execution_count": 290,
     "metadata": {},
     "output_type": "execute_result"
    }
   ],
   "source": [
    "os.getcwd()"
   ]
  },
  {
   "cell_type": "code",
   "execution_count": 291,
   "metadata": {
    "cell_id": "00005-f4274bb5-f545-406a-aa1f-23ea635b0e95",
    "deepnote_cell_type": "code",
    "deepnote_to_be_reexecuted": false,
    "execution_millis": 4,
    "execution_start": 1642512443217,
    "source_hash": "350ffc4e"
   },
   "outputs": [],
   "source": [
    "#os.listdir(os.path.join('..', 'dataset1')) # independent of the platform (unix, windows)"
   ]
  },
  {
   "cell_type": "code",
   "execution_count": 292,
   "metadata": {
    "cell_id": "00006-4a323414-36c7-4094-b83c-691fe9e173bf",
    "deepnote_cell_type": "code",
    "deepnote_to_be_reexecuted": false,
    "execution_millis": 4,
    "execution_start": 1642512443222,
    "source_hash": "55985e6b"
   },
   "outputs": [],
   "source": [
    "#credit_card_data_path = os.path.join(\"..\", \"dataset1\", \"funda_ai_dataset_v3.txt\")\n",
    "#credit_card_df = pd.read_csv(credit_card_data_path, sep='\\t')"
   ]
  },
  {
   "cell_type": "code",
   "execution_count": 293,
   "metadata": {
    "cell_id": "00007-72eeb339-a0aa-481f-b556-eba547231285",
    "deepnote_cell_type": "code",
    "deepnote_to_be_reexecuted": false,
    "execution_millis": 0,
    "execution_start": 1642512443267,
    "source_hash": "259a51c1"
   },
   "outputs": [],
   "source": [
    "#print(\"There are {} rows and {} columns in the dataset\".format(credit_card_df.shape[0], credit_card_df.shape[1]))"
   ]
  },
  {
   "cell_type": "code",
   "execution_count": 294,
   "metadata": {
    "cell_id": "00008-20481347-28cf-40b9-9c7b-3f9ce010830f",
    "deepnote_cell_type": "code",
    "deepnote_output_heights": [
     606.1875
    ],
    "deepnote_to_be_reexecuted": false,
    "execution_millis": 6237,
    "execution_start": 1642512443268,
    "source_hash": "23eab798"
   },
   "outputs": [],
   "source": [
    "df = pd.read_csv('funda_ai_dataset_v3.1.csv', delimiter=',')"
   ]
  },
  {
   "cell_type": "code",
   "execution_count": 295,
   "metadata": {
    "cell_id": "00009-a0376231-6cc1-4f29-80e9-a53f59f3f1bd",
    "deepnote_cell_type": "code",
    "deepnote_output_heights": [
     177,
     177
    ],
    "deepnote_to_be_reexecuted": false,
    "execution_millis": 176,
    "execution_start": 1642512449521,
    "source_hash": "354e6a9a"
   },
   "outputs": [
    {
     "data": {
      "text/html": [
       "<div>\n",
       "<style scoped>\n",
       "    .dataframe tbody tr th:only-of-type {\n",
       "        vertical-align: middle;\n",
       "    }\n",
       "\n",
       "    .dataframe tbody tr th {\n",
       "        vertical-align: top;\n",
       "    }\n",
       "\n",
       "    .dataframe thead th {\n",
       "        text-align: right;\n",
       "    }\n",
       "</style>\n",
       "<table border=\"1\" class=\"dataframe\">\n",
       "  <thead>\n",
       "    <tr style=\"text-align: right;\">\n",
       "      <th></th>\n",
       "      <th>Unnamed: 0</th>\n",
       "      <th>house_description</th>\n",
       "      <th>living_area_surface</th>\n",
       "      <th>property_surface</th>\n",
       "      <th>construction_year</th>\n",
       "      <th>garden</th>\n",
       "      <th>type_house</th>\n",
       "      <th>energy_label</th>\n",
       "      <th>number_bathrooms</th>\n",
       "      <th>aantalfotos</th>\n",
       "      <th>publication_date</th>\n",
       "      <th>date_of_signiture</th>\n",
       "      <th>sell_time</th>\n",
       "      <th>plaats</th>\n",
       "      <th>postcode</th>\n",
       "      <th>ask_price</th>\n",
       "      <th>number_room</th>\n",
       "      <th>bedrooms</th>\n",
       "      <th>sell_time_cal</th>\n",
       "      <th>construction_year_1</th>\n",
       "    </tr>\n",
       "  </thead>\n",
       "  <tbody>\n",
       "    <tr>\n",
       "      <th>0</th>\n",
       "      <td>0</td>\n",
       "      <td>Een heerlijk, lichte  middenwoning  gelegen in...</td>\n",
       "      <td>115.0</td>\n",
       "      <td>166.0</td>\n",
       "      <td>1962</td>\n",
       "      <td>Tuin</td>\n",
       "      <td>Eengezinswoning, tussenwoning</td>\n",
       "      <td>D</td>\n",
       "      <td>1 badkamer en 1 apart toilet</td>\n",
       "      <td>61</td>\n",
       "      <td>2021-10-27</td>\n",
       "      <td>2021-11-24</td>\n",
       "      <td>4 weken</td>\n",
       "      <td>Heiloo</td>\n",
       "      <td>1851SK</td>\n",
       "      <td>375.000</td>\n",
       "      <td>6</td>\n",
       "      <td>5.0</td>\n",
       "      <td>28</td>\n",
       "      <td>1962</td>\n",
       "    </tr>\n",
       "    <tr>\n",
       "      <th>1</th>\n",
       "      <td>1</td>\n",
       "      <td>Instapklare en ruime  twee-onder-een-kapwoning...</td>\n",
       "      <td>130.0</td>\n",
       "      <td>243.0</td>\n",
       "      <td>1992</td>\n",
       "      <td>Tuin</td>\n",
       "      <td>Eengezinswoning, 2-onder-1-kapwoning</td>\n",
       "      <td>A</td>\n",
       "      <td>1 badkamer en 1 apart toilet</td>\n",
       "      <td>46</td>\n",
       "      <td>2021-07-10</td>\n",
       "      <td>2021-07-22</td>\n",
       "      <td>12 dagen</td>\n",
       "      <td>Vlijmen</td>\n",
       "      <td>5251SG</td>\n",
       "      <td>425.000</td>\n",
       "      <td>5</td>\n",
       "      <td>4.0</td>\n",
       "      <td>12</td>\n",
       "      <td>1992</td>\n",
       "    </tr>\n",
       "    <tr>\n",
       "      <th>2</th>\n",
       "      <td>2</td>\n",
       "      <td>Mooie en ruime  helft  van een  dubbel woonhui...</td>\n",
       "      <td>124.0</td>\n",
       "      <td>245.0</td>\n",
       "      <td>1981</td>\n",
       "      <td>Tuin</td>\n",
       "      <td>Eengezinswoning, 2-onder-1-kapwoning</td>\n",
       "      <td>C</td>\n",
       "      <td>1 badkamer en 1 apart toilet</td>\n",
       "      <td>43</td>\n",
       "      <td>2021-08-17</td>\n",
       "      <td>2021-11-29</td>\n",
       "      <td>3 maanden</td>\n",
       "      <td>Dinxperlo</td>\n",
       "      <td>7091TB</td>\n",
       "      <td>299.000</td>\n",
       "      <td>5</td>\n",
       "      <td>4.0</td>\n",
       "      <td>104</td>\n",
       "      <td>1981</td>\n",
       "    </tr>\n",
       "    <tr>\n",
       "      <th>3</th>\n",
       "      <td>3</td>\n",
       "      <td>Geheel opgeknapte hoekwoning  met  dakopbouw e...</td>\n",
       "      <td>92.0</td>\n",
       "      <td>257.0</td>\n",
       "      <td>1961</td>\n",
       "      <td>Tuin</td>\n",
       "      <td>Eengezinswoning, hoekwoning</td>\n",
       "      <td>D</td>\n",
       "      <td>1 badkamer en 1 apart toilet</td>\n",
       "      <td>35</td>\n",
       "      <td>2021-08-27</td>\n",
       "      <td>2021-09-14</td>\n",
       "      <td>2 weken</td>\n",
       "      <td>Hellevoetsluis</td>\n",
       "      <td>3222CA</td>\n",
       "      <td>295.000</td>\n",
       "      <td>5</td>\n",
       "      <td>4.0</td>\n",
       "      <td>18</td>\n",
       "      <td>1961</td>\n",
       "    </tr>\n",
       "    <tr>\n",
       "      <th>4</th>\n",
       "      <td>4</td>\n",
       "      <td>Deze ruime en  goed  onderhouden eindwoning  m...</td>\n",
       "      <td>126.0</td>\n",
       "      <td>131.0</td>\n",
       "      <td>1983</td>\n",
       "      <td>Tuin</td>\n",
       "      <td>Eengezinswoning, eindwoning</td>\n",
       "      <td>A</td>\n",
       "      <td>1 badkamer en 1 apart toilet</td>\n",
       "      <td>29</td>\n",
       "      <td>2021-11-26</td>\n",
       "      <td>2021-12-20</td>\n",
       "      <td>3 weken</td>\n",
       "      <td>Rotterdam</td>\n",
       "      <td>3068GN</td>\n",
       "      <td>345.000</td>\n",
       "      <td>5</td>\n",
       "      <td>4.0</td>\n",
       "      <td>24</td>\n",
       "      <td>1983</td>\n",
       "    </tr>\n",
       "  </tbody>\n",
       "</table>\n",
       "</div>"
      ],
      "text/plain": [
       "   Unnamed: 0                                  house_description  \\\n",
       "0           0  Een heerlijk, lichte  middenwoning  gelegen in...   \n",
       "1           1  Instapklare en ruime  twee-onder-een-kapwoning...   \n",
       "2           2  Mooie en ruime  helft  van een  dubbel woonhui...   \n",
       "3           3  Geheel opgeknapte hoekwoning  met  dakopbouw e...   \n",
       "4           4  Deze ruime en  goed  onderhouden eindwoning  m...   \n",
       "\n",
       "   living_area_surface  property_surface construction_year garden  \\\n",
       "0                115.0             166.0              1962   Tuin   \n",
       "1                130.0             243.0              1992   Tuin   \n",
       "2                124.0             245.0              1981   Tuin   \n",
       "3                 92.0             257.0              1961   Tuin   \n",
       "4                126.0             131.0              1983   Tuin   \n",
       "\n",
       "                             type_house energy_label  \\\n",
       "0         Eengezinswoning, tussenwoning            D   \n",
       "1  Eengezinswoning, 2-onder-1-kapwoning            A   \n",
       "2  Eengezinswoning, 2-onder-1-kapwoning            C   \n",
       "3           Eengezinswoning, hoekwoning            D   \n",
       "4           Eengezinswoning, eindwoning            A   \n",
       "\n",
       "               number_bathrooms aantalfotos publication_date  \\\n",
       "0  1 badkamer en 1 apart toilet          61       2021-10-27   \n",
       "1  1 badkamer en 1 apart toilet          46       2021-07-10   \n",
       "2  1 badkamer en 1 apart toilet          43       2021-08-17   \n",
       "3  1 badkamer en 1 apart toilet          35       2021-08-27   \n",
       "4  1 badkamer en 1 apart toilet          29       2021-11-26   \n",
       "\n",
       "  date_of_signiture  sell_time          plaats postcode ask_price  \\\n",
       "0        2021-11-24    4 weken          Heiloo   1851SK   375.000   \n",
       "1        2021-07-22   12 dagen         Vlijmen   5251SG   425.000   \n",
       "2        2021-11-29  3 maanden       Dinxperlo   7091TB   299.000   \n",
       "3        2021-09-14    2 weken  Hellevoetsluis   3222CA   295.000   \n",
       "4        2021-12-20    3 weken       Rotterdam   3068GN   345.000   \n",
       "\n",
       "   number_room  bedrooms  sell_time_cal construction_year_1  \n",
       "0            6       5.0             28                1962  \n",
       "1            5       4.0             12                1992  \n",
       "2            5       4.0            104                1981  \n",
       "3            5       4.0             18                1961  \n",
       "4            5       4.0             24                1983  "
      ]
     },
     "execution_count": 295,
     "metadata": {},
     "output_type": "execute_result"
    },
    {
     "data": {
      "text/html": [
       "<div>\n",
       "<style scoped>\n",
       "    .dataframe tbody tr th:only-of-type {\n",
       "        vertical-align: middle;\n",
       "    }\n",
       "\n",
       "    .dataframe tbody tr th {\n",
       "        vertical-align: top;\n",
       "    }\n",
       "\n",
       "    .dataframe thead th {\n",
       "        text-align: right;\n",
       "    }\n",
       "</style>\n",
       "<table border=\"1\" class=\"dataframe\">\n",
       "  <thead>\n",
       "    <tr style=\"text-align: right;\">\n",
       "      <th></th>\n",
       "      <th>Unnamed: 0</th>\n",
       "      <th>house_description</th>\n",
       "      <th>living_area_surface</th>\n",
       "      <th>property_surface</th>\n",
       "      <th>construction_year</th>\n",
       "      <th>garden</th>\n",
       "      <th>type_house</th>\n",
       "      <th>energy_label</th>\n",
       "      <th>number_bathrooms</th>\n",
       "      <th>aantalfotos</th>\n",
       "      <th>publication_date</th>\n",
       "      <th>date_of_signiture</th>\n",
       "      <th>sell_time</th>\n",
       "      <th>plaats</th>\n",
       "      <th>postcode</th>\n",
       "      <th>ask_price</th>\n",
       "      <th>number_room</th>\n",
       "      <th>bedrooms</th>\n",
       "      <th>sell_time_cal</th>\n",
       "      <th>construction_year_1</th>\n",
       "    </tr>\n",
       "  </thead>\n",
       "  <tbody>\n",
       "    <tr>\n",
       "      <th>174955</th>\n",
       "      <td>174955</td>\n",
       "      <td>Aan de burgemeester  Vogelaarstraat  in Kruini...</td>\n",
       "      <td>88.0</td>\n",
       "      <td>266.0</td>\n",
       "      <td>1956</td>\n",
       "      <td>Tuin</td>\n",
       "      <td>Eengezinswoning, vrijstaande woning</td>\n",
       "      <td>F</td>\n",
       "      <td>1 badkamer en 1 apart toilet</td>\n",
       "      <td>45</td>\n",
       "      <td>2020-11-02</td>\n",
       "      <td>2020-12-15</td>\n",
       "      <td>6 weken</td>\n",
       "      <td>Kruiningen</td>\n",
       "      <td>4416BP</td>\n",
       "      <td>265.000</td>\n",
       "      <td>5</td>\n",
       "      <td>3.0</td>\n",
       "      <td>43</td>\n",
       "      <td>1956</td>\n",
       "    </tr>\n",
       "    <tr>\n",
       "      <th>174956</th>\n",
       "      <td>174956</td>\n",
       "      <td>KEURIG ONDERHOUDEN TUSSENWONING  MET  ZONNIG G...</td>\n",
       "      <td>103.0</td>\n",
       "      <td>93.0</td>\n",
       "      <td>1984</td>\n",
       "      <td>Tuin</td>\n",
       "      <td>Eengezinswoning, tussenwoning</td>\n",
       "      <td>B</td>\n",
       "      <td>1 badkamer en 1 apart toilet</td>\n",
       "      <td>30</td>\n",
       "      <td>2020-11-10</td>\n",
       "      <td>2021-01-01</td>\n",
       "      <td>7 weken</td>\n",
       "      <td>Delft</td>\n",
       "      <td>2622GH</td>\n",
       "      <td>329.500</td>\n",
       "      <td>4</td>\n",
       "      <td>3.0</td>\n",
       "      <td>52</td>\n",
       "      <td>1984</td>\n",
       "    </tr>\n",
       "    <tr>\n",
       "      <th>174957</th>\n",
       "      <td>174957</td>\n",
       "      <td>Op een hele  fijne  plek, centraal  in Maaslan...</td>\n",
       "      <td>109.0</td>\n",
       "      <td>156.0</td>\n",
       "      <td>1968</td>\n",
       "      <td>Achtertuin</td>\n",
       "      <td>Eengezinswoning, tussenwoning</td>\n",
       "      <td>C</td>\n",
       "      <td>1 badkamer en 1 apart toilet</td>\n",
       "      <td>49</td>\n",
       "      <td>2020-11-03</td>\n",
       "      <td>2020-11-23</td>\n",
       "      <td>2 weken</td>\n",
       "      <td>Maasland</td>\n",
       "      <td>3155VD</td>\n",
       "      <td>367.000</td>\n",
       "      <td>5</td>\n",
       "      <td>4.0</td>\n",
       "      <td>20</td>\n",
       "      <td>1968</td>\n",
       "    </tr>\n",
       "    <tr>\n",
       "      <th>174958</th>\n",
       "      <td>174958</td>\n",
       "      <td>** Englisch text  below  ** ,  ,U bent  van ha...</td>\n",
       "      <td>234.0</td>\n",
       "      <td>455.0</td>\n",
       "      <td>1960</td>\n",
       "      <td>Tuin</td>\n",
       "      <td>Villa, vrijstaande woning (drive-in woning)</td>\n",
       "      <td>F</td>\n",
       "      <td>2 badkamers en 2 aparte toiletten</td>\n",
       "      <td>53</td>\n",
       "      <td>2020-11-03</td>\n",
       "      <td>2020-12-04</td>\n",
       "      <td>4 weken</td>\n",
       "      <td>Diemen</td>\n",
       "      <td>1111EW</td>\n",
       "      <td>1.000.000</td>\n",
       "      <td>5</td>\n",
       "      <td>4.0</td>\n",
       "      <td>31</td>\n",
       "      <td>1960</td>\n",
       "    </tr>\n",
       "    <tr>\n",
       "      <th>174959</th>\n",
       "      <td>174959</td>\n",
       "      <td>Vanwege de grote  belangstelling  voor deze  w...</td>\n",
       "      <td>118.0</td>\n",
       "      <td>200.0</td>\n",
       "      <td>1981</td>\n",
       "      <td>Tuin</td>\n",
       "      <td>Eengezinswoning, hoekwoning</td>\n",
       "      <td>C</td>\n",
       "      <td>1 badkamer en 1 apart toilet</td>\n",
       "      <td>55</td>\n",
       "      <td>2020-11-05</td>\n",
       "      <td>2020-11-25</td>\n",
       "      <td>2 weken</td>\n",
       "      <td>Hellevoetsluis</td>\n",
       "      <td>3224PN</td>\n",
       "      <td>bij</td>\n",
       "      <td>5</td>\n",
       "      <td>4.0</td>\n",
       "      <td>20</td>\n",
       "      <td>1981</td>\n",
       "    </tr>\n",
       "  </tbody>\n",
       "</table>\n",
       "</div>"
      ],
      "text/plain": [
       "        Unnamed: 0                                  house_description  \\\n",
       "174955      174955  Aan de burgemeester  Vogelaarstraat  in Kruini...   \n",
       "174956      174956  KEURIG ONDERHOUDEN TUSSENWONING  MET  ZONNIG G...   \n",
       "174957      174957  Op een hele  fijne  plek, centraal  in Maaslan...   \n",
       "174958      174958  ** Englisch text  below  ** ,  ,U bent  van ha...   \n",
       "174959      174959  Vanwege de grote  belangstelling  voor deze  w...   \n",
       "\n",
       "        living_area_surface  property_surface construction_year      garden  \\\n",
       "174955                 88.0             266.0              1956        Tuin   \n",
       "174956                103.0              93.0              1984        Tuin   \n",
       "174957                109.0             156.0              1968  Achtertuin   \n",
       "174958                234.0             455.0              1960        Tuin   \n",
       "174959                118.0             200.0              1981        Tuin   \n",
       "\n",
       "                                         type_house energy_label  \\\n",
       "174955          Eengezinswoning, vrijstaande woning            F   \n",
       "174956                Eengezinswoning, tussenwoning            B   \n",
       "174957                Eengezinswoning, tussenwoning            C   \n",
       "174958  Villa, vrijstaande woning (drive-in woning)            F   \n",
       "174959                  Eengezinswoning, hoekwoning            C   \n",
       "\n",
       "                         number_bathrooms aantalfotos publication_date  \\\n",
       "174955       1 badkamer en 1 apart toilet          45       2020-11-02   \n",
       "174956       1 badkamer en 1 apart toilet          30       2020-11-10   \n",
       "174957       1 badkamer en 1 apart toilet          49       2020-11-03   \n",
       "174958  2 badkamers en 2 aparte toiletten          53       2020-11-03   \n",
       "174959       1 badkamer en 1 apart toilet          55       2020-11-05   \n",
       "\n",
       "       date_of_signiture sell_time          plaats postcode  ask_price  \\\n",
       "174955        2020-12-15   6 weken      Kruiningen   4416BP    265.000   \n",
       "174956        2021-01-01   7 weken           Delft   2622GH    329.500   \n",
       "174957        2020-11-23   2 weken        Maasland   3155VD    367.000   \n",
       "174958        2020-12-04   4 weken          Diemen   1111EW  1.000.000   \n",
       "174959        2020-11-25   2 weken  Hellevoetsluis   3224PN        bij   \n",
       "\n",
       "        number_room  bedrooms  sell_time_cal construction_year_1  \n",
       "174955            5       3.0             43                1956  \n",
       "174956            4       3.0             52                1984  \n",
       "174957            5       4.0             20                1968  \n",
       "174958            5       4.0             31                1960  \n",
       "174959            5       4.0             20                1981  "
      ]
     },
     "execution_count": 295,
     "metadata": {},
     "output_type": "execute_result"
    }
   ],
   "source": [
    "df.head()\n",
    "df.tail()"
   ]
  },
  {
   "cell_type": "code",
   "execution_count": 296,
   "metadata": {
    "cell_id": "00010-6a124d90-5efb-436f-84c0-ba85f841a3ba",
    "deepnote_cell_type": "code",
    "deepnote_output_heights": [
     21.1875
    ],
    "deepnote_to_be_reexecuted": false,
    "execution_millis": 53,
    "execution_start": 1642512449697,
    "source_hash": "25e08000"
   },
   "outputs": [
    {
     "data": {
      "text/plain": [
       "True"
      ]
     },
     "execution_count": 296,
     "metadata": {},
     "output_type": "execute_result"
    }
   ],
   "source": [
    "df.drop_duplicates(subset=['Unnamed: 0']).shape[0] == df.shape[0]"
   ]
  },
  {
   "cell_type": "code",
   "execution_count": 297,
   "metadata": {
    "cell_id": "00011-d281cea9-8fbe-42bc-9fe6-617b78e8be3a",
    "deepnote_cell_type": "code",
    "deepnote_to_be_reexecuted": false,
    "execution_millis": 0,
    "execution_start": 1642512449753,
    "source_hash": "ef08353b"
   },
   "outputs": [],
   "source": [
    "#rename columns\n",
    "df.rename(columns={'Unnamed: 0': 'id'}, inplace=True)"
   ]
  },
  {
   "cell_type": "code",
   "execution_count": 298,
   "metadata": {
    "cell_id": "00012-29743715-27ae-42ed-9a2d-2b417dc3cd02",
    "deepnote_cell_type": "code",
    "deepnote_output_heights": [
     206
    ],
    "deepnote_to_be_reexecuted": false,
    "execution_millis": 117,
    "execution_start": 1642512449756,
    "source_hash": "2daaf1d6"
   },
   "outputs": [
    {
     "data": {
      "text/html": [
       "<div>\n",
       "<style scoped>\n",
       "    .dataframe tbody tr th:only-of-type {\n",
       "        vertical-align: middle;\n",
       "    }\n",
       "\n",
       "    .dataframe tbody tr th {\n",
       "        vertical-align: top;\n",
       "    }\n",
       "\n",
       "    .dataframe thead th {\n",
       "        text-align: right;\n",
       "    }\n",
       "</style>\n",
       "<table border=\"1\" class=\"dataframe\">\n",
       "  <thead>\n",
       "    <tr style=\"text-align: right;\">\n",
       "      <th></th>\n",
       "      <th>house_description</th>\n",
       "      <th>living_area_surface</th>\n",
       "      <th>property_surface</th>\n",
       "      <th>construction_year</th>\n",
       "      <th>garden</th>\n",
       "      <th>type_house</th>\n",
       "      <th>energy_label</th>\n",
       "      <th>number_bathrooms</th>\n",
       "      <th>aantalfotos</th>\n",
       "      <th>publication_date</th>\n",
       "      <th>date_of_signiture</th>\n",
       "      <th>sell_time</th>\n",
       "      <th>plaats</th>\n",
       "      <th>postcode</th>\n",
       "      <th>ask_price</th>\n",
       "      <th>number_room</th>\n",
       "      <th>bedrooms</th>\n",
       "      <th>sell_time_cal</th>\n",
       "      <th>construction_year_1</th>\n",
       "    </tr>\n",
       "    <tr>\n",
       "      <th>id</th>\n",
       "      <th></th>\n",
       "      <th></th>\n",
       "      <th></th>\n",
       "      <th></th>\n",
       "      <th></th>\n",
       "      <th></th>\n",
       "      <th></th>\n",
       "      <th></th>\n",
       "      <th></th>\n",
       "      <th></th>\n",
       "      <th></th>\n",
       "      <th></th>\n",
       "      <th></th>\n",
       "      <th></th>\n",
       "      <th></th>\n",
       "      <th></th>\n",
       "      <th></th>\n",
       "      <th></th>\n",
       "      <th></th>\n",
       "    </tr>\n",
       "  </thead>\n",
       "  <tbody>\n",
       "    <tr>\n",
       "      <th>0</th>\n",
       "      <td>Een heerlijk, lichte  middenwoning  gelegen in...</td>\n",
       "      <td>115.0</td>\n",
       "      <td>166.0</td>\n",
       "      <td>1962</td>\n",
       "      <td>Tuin</td>\n",
       "      <td>Eengezinswoning, tussenwoning</td>\n",
       "      <td>D</td>\n",
       "      <td>1 badkamer en 1 apart toilet</td>\n",
       "      <td>61</td>\n",
       "      <td>2021-10-27</td>\n",
       "      <td>2021-11-24</td>\n",
       "      <td>4 weken</td>\n",
       "      <td>Heiloo</td>\n",
       "      <td>1851SK</td>\n",
       "      <td>375.000</td>\n",
       "      <td>6</td>\n",
       "      <td>5.0</td>\n",
       "      <td>28</td>\n",
       "      <td>1962</td>\n",
       "    </tr>\n",
       "    <tr>\n",
       "      <th>1</th>\n",
       "      <td>Instapklare en ruime  twee-onder-een-kapwoning...</td>\n",
       "      <td>130.0</td>\n",
       "      <td>243.0</td>\n",
       "      <td>1992</td>\n",
       "      <td>Tuin</td>\n",
       "      <td>Eengezinswoning, 2-onder-1-kapwoning</td>\n",
       "      <td>A</td>\n",
       "      <td>1 badkamer en 1 apart toilet</td>\n",
       "      <td>46</td>\n",
       "      <td>2021-07-10</td>\n",
       "      <td>2021-07-22</td>\n",
       "      <td>12 dagen</td>\n",
       "      <td>Vlijmen</td>\n",
       "      <td>5251SG</td>\n",
       "      <td>425.000</td>\n",
       "      <td>5</td>\n",
       "      <td>4.0</td>\n",
       "      <td>12</td>\n",
       "      <td>1992</td>\n",
       "    </tr>\n",
       "    <tr>\n",
       "      <th>2</th>\n",
       "      <td>Mooie en ruime  helft  van een  dubbel woonhui...</td>\n",
       "      <td>124.0</td>\n",
       "      <td>245.0</td>\n",
       "      <td>1981</td>\n",
       "      <td>Tuin</td>\n",
       "      <td>Eengezinswoning, 2-onder-1-kapwoning</td>\n",
       "      <td>C</td>\n",
       "      <td>1 badkamer en 1 apart toilet</td>\n",
       "      <td>43</td>\n",
       "      <td>2021-08-17</td>\n",
       "      <td>2021-11-29</td>\n",
       "      <td>3 maanden</td>\n",
       "      <td>Dinxperlo</td>\n",
       "      <td>7091TB</td>\n",
       "      <td>299.000</td>\n",
       "      <td>5</td>\n",
       "      <td>4.0</td>\n",
       "      <td>104</td>\n",
       "      <td>1981</td>\n",
       "    </tr>\n",
       "    <tr>\n",
       "      <th>3</th>\n",
       "      <td>Geheel opgeknapte hoekwoning  met  dakopbouw e...</td>\n",
       "      <td>92.0</td>\n",
       "      <td>257.0</td>\n",
       "      <td>1961</td>\n",
       "      <td>Tuin</td>\n",
       "      <td>Eengezinswoning, hoekwoning</td>\n",
       "      <td>D</td>\n",
       "      <td>1 badkamer en 1 apart toilet</td>\n",
       "      <td>35</td>\n",
       "      <td>2021-08-27</td>\n",
       "      <td>2021-09-14</td>\n",
       "      <td>2 weken</td>\n",
       "      <td>Hellevoetsluis</td>\n",
       "      <td>3222CA</td>\n",
       "      <td>295.000</td>\n",
       "      <td>5</td>\n",
       "      <td>4.0</td>\n",
       "      <td>18</td>\n",
       "      <td>1961</td>\n",
       "    </tr>\n",
       "    <tr>\n",
       "      <th>4</th>\n",
       "      <td>Deze ruime en  goed  onderhouden eindwoning  m...</td>\n",
       "      <td>126.0</td>\n",
       "      <td>131.0</td>\n",
       "      <td>1983</td>\n",
       "      <td>Tuin</td>\n",
       "      <td>Eengezinswoning, eindwoning</td>\n",
       "      <td>A</td>\n",
       "      <td>1 badkamer en 1 apart toilet</td>\n",
       "      <td>29</td>\n",
       "      <td>2021-11-26</td>\n",
       "      <td>2021-12-20</td>\n",
       "      <td>3 weken</td>\n",
       "      <td>Rotterdam</td>\n",
       "      <td>3068GN</td>\n",
       "      <td>345.000</td>\n",
       "      <td>5</td>\n",
       "      <td>4.0</td>\n",
       "      <td>24</td>\n",
       "      <td>1983</td>\n",
       "    </tr>\n",
       "  </tbody>\n",
       "</table>\n",
       "</div>"
      ],
      "text/plain": [
       "                                    house_description  living_area_surface  \\\n",
       "id                                                                           \n",
       "0   Een heerlijk, lichte  middenwoning  gelegen in...                115.0   \n",
       "1   Instapklare en ruime  twee-onder-een-kapwoning...                130.0   \n",
       "2   Mooie en ruime  helft  van een  dubbel woonhui...                124.0   \n",
       "3   Geheel opgeknapte hoekwoning  met  dakopbouw e...                 92.0   \n",
       "4   Deze ruime en  goed  onderhouden eindwoning  m...                126.0   \n",
       "\n",
       "    property_surface construction_year garden  \\\n",
       "id                                              \n",
       "0              166.0              1962   Tuin   \n",
       "1              243.0              1992   Tuin   \n",
       "2              245.0              1981   Tuin   \n",
       "3              257.0              1961   Tuin   \n",
       "4              131.0              1983   Tuin   \n",
       "\n",
       "                              type_house energy_label  \\\n",
       "id                                                      \n",
       "0          Eengezinswoning, tussenwoning            D   \n",
       "1   Eengezinswoning, 2-onder-1-kapwoning            A   \n",
       "2   Eengezinswoning, 2-onder-1-kapwoning            C   \n",
       "3            Eengezinswoning, hoekwoning            D   \n",
       "4            Eengezinswoning, eindwoning            A   \n",
       "\n",
       "                number_bathrooms aantalfotos publication_date  \\\n",
       "id                                                              \n",
       "0   1 badkamer en 1 apart toilet          61       2021-10-27   \n",
       "1   1 badkamer en 1 apart toilet          46       2021-07-10   \n",
       "2   1 badkamer en 1 apart toilet          43       2021-08-17   \n",
       "3   1 badkamer en 1 apart toilet          35       2021-08-27   \n",
       "4   1 badkamer en 1 apart toilet          29       2021-11-26   \n",
       "\n",
       "   date_of_signiture  sell_time          plaats postcode ask_price  \\\n",
       "id                                                                   \n",
       "0         2021-11-24    4 weken          Heiloo   1851SK   375.000   \n",
       "1         2021-07-22   12 dagen         Vlijmen   5251SG   425.000   \n",
       "2         2021-11-29  3 maanden       Dinxperlo   7091TB   299.000   \n",
       "3         2021-09-14    2 weken  Hellevoetsluis   3222CA   295.000   \n",
       "4         2021-12-20    3 weken       Rotterdam   3068GN   345.000   \n",
       "\n",
       "    number_room  bedrooms  sell_time_cal construction_year_1  \n",
       "id                                                            \n",
       "0             6       5.0             28                1962  \n",
       "1             5       4.0             12                1992  \n",
       "2             5       4.0            104                1981  \n",
       "3             5       4.0             18                1961  \n",
       "4             5       4.0             24                1983  "
      ]
     },
     "execution_count": 298,
     "metadata": {},
     "output_type": "execute_result"
    }
   ],
   "source": [
    "df = df.set_index(\"id\")\n",
    "df.head()"
   ]
  },
  {
   "cell_type": "code",
   "execution_count": 299,
   "metadata": {
    "cell_id": "00013-779dc538-3171-4ee2-b3c4-6c6816d0297d",
    "deepnote_cell_type": "code",
    "deepnote_output_heights": [
     21.1875
    ],
    "deepnote_to_be_reexecuted": false,
    "execution_millis": 104,
    "execution_start": 1642512449872,
    "source_hash": "40f5af9c"
   },
   "outputs": [
    {
     "data": {
      "text/plain": [
       "32323"
      ]
     },
     "execution_count": 299,
     "metadata": {},
     "output_type": "execute_result"
    }
   ],
   "source": [
    "#count nans in entire dataset\n",
    "df.isnull().sum().sum()"
   ]
  },
  {
   "cell_type": "code",
   "execution_count": 300,
   "metadata": {
    "cell_id": "00014-2e9f030e-d5ba-45b5-b697-f58884c41432",
    "deepnote_cell_type": "code",
    "deepnote_output_heights": [
     21.1875,
     21.1875
    ],
    "deepnote_to_be_reexecuted": false,
    "execution_millis": 1,
    "execution_start": 1642512450028,
    "source_hash": "1a132d91"
   },
   "outputs": [],
   "source": [
    "#count nans in specifik column\n",
    "#df['house_description'].isnull().sum()\n",
    "#df['living_area_surface'].isnull().sum()\n",
    "#df['property_surface'].isnull().sum()\n",
    "#df['construction_year'].isnull().sum()\n",
    "#df['garden'].isnull().sum() #keep this one\n",
    "#df['type_house'].isnull().sum()\n",
    "#df['energy_label'].isnull().sum()\n",
    "#df['aantalfotos'].isnull().sum()\n",
    "#df['publication_date'].isnull().sum()\n",
    "#df['date_of_signiture'].isnull().sum()\n",
    "#df['sell_time'].isnull().sum()\n",
    "#df['plaats'].isnull().sum()\n",
    "#df['postcode'].isnull().sum()\n",
    "#df['ask_price'].isnull().sum()\n",
    "#df['number_room'].isnull().sum()\n",
    "#df['bedrooms'].isnull().sum()\n",
    "#df['sell_time_cal'].isnull().sum()\n",
    "#df['construction_year_1'].isnull().sum()"
   ]
  },
  {
   "cell_type": "code",
   "execution_count": 301,
   "metadata": {
    "cell_id": "00015-145236ff-4f65-4a26-be46-c4a523c26e22",
    "deepnote_cell_type": "code",
    "deepnote_to_be_reexecuted": false,
    "execution_millis": 152,
    "execution_start": 1642512450029,
    "source_hash": "a0026ab8"
   },
   "outputs": [],
   "source": [
    "#drop nans\n",
    "df.dropna(subset = [\"living_area_surface\"], inplace=True)\n",
    "df.dropna(subset = [\"property_surface\"], inplace=True)\n",
    "df.dropna(subset = [\"aantalfotos\"], inplace=True)\n",
    "df.dropna(subset = [\"plaats\"], inplace=True)\n",
    "df.dropna(subset = [\"bedrooms\"], inplace=True)"
   ]
  },
  {
   "cell_type": "code",
   "execution_count": 302,
   "metadata": {
    "cell_id": "d6f9c567-6736-4083-ba5b-72d739017316",
    "deepnote_cell_type": "code",
    "deepnote_output_heights": [
     606.1875
    ],
    "deepnote_to_be_reexecuted": false,
    "execution_millis": 415,
    "execution_start": 1642512450193,
    "source_hash": "30714556",
    "tags": []
   },
   "outputs": [],
   "source": [
    "#make column aantalfotos and ask_price float or int \n",
    "#Split postcode\n",
    "new = df['ask_price'].str.split(\".\", n = 2, expand = True)\n",
    "  \n",
    "# making separate first name column from new data frame\n",
    "df[\"a\"]= new[0]\n",
    "  \n",
    "# making separate last name column from new data frame\n",
    "df[\"b\"]= new[1]\n",
    "\n",
    "df['c']= new[2]\n",
    "  \n",
    "# Dropping old Name columns"
   ]
  },
  {
   "cell_type": "code",
   "execution_count": 303,
   "metadata": {
    "cell_id": "09834e3c-da4e-472e-9200-c02eda4fbeac",
    "deepnote_cell_type": "code",
    "deepnote_output_heights": [
     78.796875
    ],
    "deepnote_to_be_reexecuted": false,
    "execution_millis": 61,
    "execution_start": 1642512450617,
    "source_hash": "334ff35d",
    "tags": []
   },
   "outputs": [],
   "source": [
    "df['asking_price'] = df[\"a\"].astype(str) + df[\"b\"].astype(str) + df[\"c\"].astype(str)"
   ]
  },
  {
   "cell_type": "code",
   "execution_count": 304,
   "metadata": {
    "cell_id": "075b69b3-6822-41db-a262-a18945076bb6",
    "deepnote_cell_type": "code",
    "deepnote_to_be_reexecuted": false,
    "execution_millis": 57,
    "execution_start": 1642512450687,
    "source_hash": "a9b53ac7",
    "tags": []
   },
   "outputs": [],
   "source": [
    "df['asking_price'] = df['asking_price'].str.strip('None')"
   ]
  },
  {
   "cell_type": "code",
   "execution_count": 305,
   "metadata": {
    "cell_id": "e98adef3-e2aa-407a-a097-af9512982fff",
    "deepnote_cell_type": "code",
    "deepnote_to_be_reexecuted": false,
    "execution_millis": 128,
    "execution_start": 1642512450762,
    "source_hash": "a2c54796",
    "tags": []
   },
   "outputs": [],
   "source": [
    "#del tekst in asking prce\n",
    "df['asking_price'] = df['asking_price'].str.replace('bij', '0')\n",
    "df['asking_price'] = df['asking_price'].str.replace('p', '0')"
   ]
  },
  {
   "cell_type": "code",
   "execution_count": 306,
   "metadata": {
    "cell_id": "2b470ef6-78ec-4f41-9484-8e7820d5437c",
    "deepnote_cell_type": "code",
    "deepnote_to_be_reexecuted": false,
    "execution_millis": 1,
    "execution_start": 1642512450900,
    "source_hash": "1b8b62ec",
    "tags": []
   },
   "outputs": [],
   "source": [
    "del df['a']\n",
    "del df['b']\n",
    "del df['c']"
   ]
  },
  {
   "cell_type": "code",
   "execution_count": 307,
   "metadata": {
    "cell_id": "80bea111-a162-4c2b-9b1c-6b1ca61804b4",
    "deepnote_cell_type": "code",
    "deepnote_output_heights": [
     606.1875
    ],
    "deepnote_to_be_reexecuted": false,
    "execution_millis": 1,
    "execution_start": 1642512450947,
    "source_hash": "dd5bbd89",
    "tags": []
   },
   "outputs": [],
   "source": [
    "df['asking_price'] = df['asking_price'].astype(int)"
   ]
  },
  {
   "cell_type": "code",
   "execution_count": 308,
   "metadata": {
    "cell_id": "bad5f245-1e76-4f50-952a-00d0835d3661",
    "deepnote_cell_type": "code",
    "deepnote_to_be_reexecuted": false,
    "execution_millis": 42,
    "execution_start": 1642512450948,
    "source_hash": "7e261b0f",
    "tags": []
   },
   "outputs": [],
   "source": [
    "df['construction_year_1'] = df['construction_year_1'].str.strip('Na ')"
   ]
  },
  {
   "cell_type": "code",
   "execution_count": 309,
   "metadata": {
    "cell_id": "31f7f445-9494-48f4-957b-56159a175e17",
    "deepnote_cell_type": "code",
    "deepnote_to_be_reexecuted": false,
    "execution_millis": 14,
    "execution_start": 1642512450991,
    "source_hash": "b28bf2b9",
    "tags": []
   },
   "outputs": [],
   "source": [
    "#construction_year into ing\n",
    "df['construction_year_1'] = df['construction_year_1'].astype(int)"
   ]
  },
  {
   "cell_type": "code",
   "execution_count": 310,
   "metadata": {
    "cell_id": "00016-3f7b67f6-83e6-4430-babd-0fdcb2883f6c",
    "deepnote_cell_type": "code",
    "deepnote_output_heights": [
     606.1875
    ],
    "deepnote_to_be_reexecuted": false,
    "execution_millis": 0,
    "execution_start": 1642512451051,
    "source_hash": "77f8a299"
   },
   "outputs": [],
   "source": [
    "# colums to integer type\n",
    "for i in [x for x in df.columns if x not in ['house_description', 'construction_year', 'garden', 'type_house', 'energy_label', 'aantalfotos', 'number_bathrooms', 'publication_date', 'date_of_signiture', 'sell_time', 'plaats', 'postcode', 'ask_price', 'construction_year_1'] ]:\n",
    "    df[i]= df[i].astype(int)"
   ]
  },
  {
   "cell_type": "code",
   "execution_count": 311,
   "metadata": {
    "cell_id": "00017-1f3f8d67-b0bf-452d-b493-a5f27a752b4a",
    "deepnote_cell_type": "code",
    "deepnote_output_heights": [
     404.9375
    ],
    "deepnote_to_be_reexecuted": false,
    "execution_millis": 111,
    "execution_start": 1642512451052,
    "source_hash": "52430027"
   },
   "outputs": [
    {
     "data": {
      "text/plain": [
       "house_description      object\n",
       "living_area_surface     int32\n",
       "property_surface        int32\n",
       "construction_year      object\n",
       "garden                 object\n",
       "type_house             object\n",
       "energy_label           object\n",
       "number_bathrooms       object\n",
       "aantalfotos            object\n",
       "publication_date       object\n",
       "date_of_signiture      object\n",
       "sell_time              object\n",
       "plaats                 object\n",
       "postcode               object\n",
       "ask_price              object\n",
       "number_room             int32\n",
       "bedrooms                int32\n",
       "sell_time_cal           int32\n",
       "construction_year_1     int32\n",
       "asking_price            int32\n",
       "dtype: object"
      ]
     },
     "execution_count": 311,
     "metadata": {},
     "output_type": "execute_result"
    }
   ],
   "source": [
    "df.dtypes"
   ]
  },
  {
   "cell_type": "code",
   "execution_count": 312,
   "metadata": {
    "cell_id": "00018-5759c12e-7170-481a-8943-6c751e72705b",
    "deepnote_cell_type": "code",
    "deepnote_output_heights": [
     148
    ],
    "deepnote_to_be_reexecuted": false,
    "execution_millis": 111,
    "execution_start": 1642512451053,
    "source_hash": "25a0a4d0"
   },
   "outputs": [
    {
     "data": {
      "text/html": [
       "<div>\n",
       "<style scoped>\n",
       "    .dataframe tbody tr th:only-of-type {\n",
       "        vertical-align: middle;\n",
       "    }\n",
       "\n",
       "    .dataframe tbody tr th {\n",
       "        vertical-align: top;\n",
       "    }\n",
       "\n",
       "    .dataframe thead th {\n",
       "        text-align: right;\n",
       "    }\n",
       "</style>\n",
       "<table border=\"1\" class=\"dataframe\">\n",
       "  <thead>\n",
       "    <tr style=\"text-align: right;\">\n",
       "      <th></th>\n",
       "      <th>living_area_surface</th>\n",
       "      <th>property_surface</th>\n",
       "      <th>number_room</th>\n",
       "      <th>bedrooms</th>\n",
       "      <th>sell_time_cal</th>\n",
       "      <th>construction_year_1</th>\n",
       "      <th>asking_price</th>\n",
       "    </tr>\n",
       "  </thead>\n",
       "  <tbody>\n",
       "    <tr>\n",
       "      <th>count</th>\n",
       "      <td>169717.000000</td>\n",
       "      <td>169717.000000</td>\n",
       "      <td>169717.000000</td>\n",
       "      <td>169717.000000</td>\n",
       "      <td>169717.000000</td>\n",
       "      <td>169717.000000</td>\n",
       "      <td>1.697170e+05</td>\n",
       "    </tr>\n",
       "    <tr>\n",
       "      <th>mean</th>\n",
       "      <td>120.315708</td>\n",
       "      <td>170.195702</td>\n",
       "      <td>4.690379</td>\n",
       "      <td>3.254712</td>\n",
       "      <td>42.673786</td>\n",
       "      <td>1970.552885</td>\n",
       "      <td>4.011160e+05</td>\n",
       "    </tr>\n",
       "    <tr>\n",
       "      <th>std</th>\n",
       "      <td>51.455494</td>\n",
       "      <td>187.411793</td>\n",
       "      <td>1.600285</td>\n",
       "      <td>1.195171</td>\n",
       "      <td>96.430241</td>\n",
       "      <td>37.107286</td>\n",
       "      <td>2.421808e+05</td>\n",
       "    </tr>\n",
       "    <tr>\n",
       "      <th>min</th>\n",
       "      <td>1.000000</td>\n",
       "      <td>1.000000</td>\n",
       "      <td>1.000000</td>\n",
       "      <td>1.000000</td>\n",
       "      <td>0.000000</td>\n",
       "      <td>1005.000000</td>\n",
       "      <td>0.000000e+00</td>\n",
       "    </tr>\n",
       "    <tr>\n",
       "      <th>25%</th>\n",
       "      <td>89.000000</td>\n",
       "      <td>3.000000</td>\n",
       "      <td>4.000000</td>\n",
       "      <td>2.000000</td>\n",
       "      <td>16.000000</td>\n",
       "      <td>1955.000000</td>\n",
       "      <td>2.600000e+05</td>\n",
       "    </tr>\n",
       "    <tr>\n",
       "      <th>50%</th>\n",
       "      <td>113.000000</td>\n",
       "      <td>140.000000</td>\n",
       "      <td>5.000000</td>\n",
       "      <td>3.000000</td>\n",
       "      <td>22.000000</td>\n",
       "      <td>1975.000000</td>\n",
       "      <td>3.450000e+05</td>\n",
       "    </tr>\n",
       "    <tr>\n",
       "      <th>75%</th>\n",
       "      <td>138.000000</td>\n",
       "      <td>241.000000</td>\n",
       "      <td>5.000000</td>\n",
       "      <td>4.000000</td>\n",
       "      <td>34.000000</td>\n",
       "      <td>1997.000000</td>\n",
       "      <td>4.690000e+05</td>\n",
       "    </tr>\n",
       "    <tr>\n",
       "      <th>max</th>\n",
       "      <td>937.000000</td>\n",
       "      <td>999.000000</td>\n",
       "      <td>40.000000</td>\n",
       "      <td>28.000000</td>\n",
       "      <td>5106.000000</td>\n",
       "      <td>2024.000000</td>\n",
       "      <td>7.800000e+06</td>\n",
       "    </tr>\n",
       "  </tbody>\n",
       "</table>\n",
       "</div>"
      ],
      "text/plain": [
       "       living_area_surface  property_surface    number_room       bedrooms  \\\n",
       "count        169717.000000     169717.000000  169717.000000  169717.000000   \n",
       "mean            120.315708        170.195702       4.690379       3.254712   \n",
       "std              51.455494        187.411793       1.600285       1.195171   \n",
       "min               1.000000          1.000000       1.000000       1.000000   \n",
       "25%              89.000000          3.000000       4.000000       2.000000   \n",
       "50%             113.000000        140.000000       5.000000       3.000000   \n",
       "75%             138.000000        241.000000       5.000000       4.000000   \n",
       "max             937.000000        999.000000      40.000000      28.000000   \n",
       "\n",
       "       sell_time_cal  construction_year_1  asking_price  \n",
       "count  169717.000000        169717.000000  1.697170e+05  \n",
       "mean       42.673786          1970.552885  4.011160e+05  \n",
       "std        96.430241            37.107286  2.421808e+05  \n",
       "min         0.000000          1005.000000  0.000000e+00  \n",
       "25%        16.000000          1955.000000  2.600000e+05  \n",
       "50%        22.000000          1975.000000  3.450000e+05  \n",
       "75%        34.000000          1997.000000  4.690000e+05  \n",
       "max      5106.000000          2024.000000  7.800000e+06  "
      ]
     },
     "execution_count": 312,
     "metadata": {},
     "output_type": "execute_result"
    }
   ],
   "source": [
    "df[[ 'living_area_surface', 'property_surface', 'number_room', 'bedrooms', 'sell_time_cal', 'construction_year_1', 'asking_price']].describe()"
   ]
  },
  {
   "cell_type": "code",
   "execution_count": 313,
   "metadata": {
    "cell_id": "00019-a671c00d-83ec-4eaf-88a3-d95f412a6cbc",
    "deepnote_cell_type": "code",
    "deepnote_output_heights": [
     295.1875
    ],
    "deepnote_to_be_reexecuted": false,
    "execution_millis": 81,
    "execution_start": 1642512451131,
    "source_hash": "f88152d9"
   },
   "outputs": [
    {
     "data": {
      "text/html": [
       "<div>\n",
       "<style scoped>\n",
       "    .dataframe tbody tr th:only-of-type {\n",
       "        vertical-align: middle;\n",
       "    }\n",
       "\n",
       "    .dataframe tbody tr th {\n",
       "        vertical-align: top;\n",
       "    }\n",
       "\n",
       "    .dataframe thead th {\n",
       "        text-align: right;\n",
       "    }\n",
       "</style>\n",
       "<table border=\"1\" class=\"dataframe\">\n",
       "  <thead>\n",
       "    <tr style=\"text-align: right;\">\n",
       "      <th></th>\n",
       "      <th>living_area_surface</th>\n",
       "      <th>property_surface</th>\n",
       "      <th>number_room</th>\n",
       "      <th>bedrooms</th>\n",
       "      <th>sell_time_cal</th>\n",
       "      <th>construction_year_1</th>\n",
       "      <th>asking_price</th>\n",
       "    </tr>\n",
       "  </thead>\n",
       "  <tbody>\n",
       "    <tr>\n",
       "      <th>count</th>\n",
       "      <td>169717.000000</td>\n",
       "      <td>169717.000000</td>\n",
       "      <td>169717.000000</td>\n",
       "      <td>169717.000000</td>\n",
       "      <td>169717.000000</td>\n",
       "      <td>169717.000000</td>\n",
       "      <td>1.697170e+05</td>\n",
       "    </tr>\n",
       "    <tr>\n",
       "      <th>mean</th>\n",
       "      <td>120.315708</td>\n",
       "      <td>170.195702</td>\n",
       "      <td>4.690379</td>\n",
       "      <td>3.254712</td>\n",
       "      <td>42.673786</td>\n",
       "      <td>1970.552885</td>\n",
       "      <td>4.011160e+05</td>\n",
       "    </tr>\n",
       "    <tr>\n",
       "      <th>std</th>\n",
       "      <td>51.455494</td>\n",
       "      <td>187.411793</td>\n",
       "      <td>1.600285</td>\n",
       "      <td>1.195171</td>\n",
       "      <td>96.430241</td>\n",
       "      <td>37.107286</td>\n",
       "      <td>2.421808e+05</td>\n",
       "    </tr>\n",
       "    <tr>\n",
       "      <th>min</th>\n",
       "      <td>1.000000</td>\n",
       "      <td>1.000000</td>\n",
       "      <td>1.000000</td>\n",
       "      <td>1.000000</td>\n",
       "      <td>0.000000</td>\n",
       "      <td>1005.000000</td>\n",
       "      <td>0.000000e+00</td>\n",
       "    </tr>\n",
       "    <tr>\n",
       "      <th>25%</th>\n",
       "      <td>89.000000</td>\n",
       "      <td>3.000000</td>\n",
       "      <td>4.000000</td>\n",
       "      <td>2.000000</td>\n",
       "      <td>16.000000</td>\n",
       "      <td>1955.000000</td>\n",
       "      <td>2.600000e+05</td>\n",
       "    </tr>\n",
       "    <tr>\n",
       "      <th>50%</th>\n",
       "      <td>113.000000</td>\n",
       "      <td>140.000000</td>\n",
       "      <td>5.000000</td>\n",
       "      <td>3.000000</td>\n",
       "      <td>22.000000</td>\n",
       "      <td>1975.000000</td>\n",
       "      <td>3.450000e+05</td>\n",
       "    </tr>\n",
       "    <tr>\n",
       "      <th>75%</th>\n",
       "      <td>138.000000</td>\n",
       "      <td>241.000000</td>\n",
       "      <td>5.000000</td>\n",
       "      <td>4.000000</td>\n",
       "      <td>34.000000</td>\n",
       "      <td>1997.000000</td>\n",
       "      <td>4.690000e+05</td>\n",
       "    </tr>\n",
       "    <tr>\n",
       "      <th>max</th>\n",
       "      <td>937.000000</td>\n",
       "      <td>999.000000</td>\n",
       "      <td>40.000000</td>\n",
       "      <td>28.000000</td>\n",
       "      <td>5106.000000</td>\n",
       "      <td>2024.000000</td>\n",
       "      <td>7.800000e+06</td>\n",
       "    </tr>\n",
       "  </tbody>\n",
       "</table>\n",
       "</div>"
      ],
      "text/plain": [
       "       living_area_surface  property_surface    number_room       bedrooms  \\\n",
       "count        169717.000000     169717.000000  169717.000000  169717.000000   \n",
       "mean            120.315708        170.195702       4.690379       3.254712   \n",
       "std              51.455494        187.411793       1.600285       1.195171   \n",
       "min               1.000000          1.000000       1.000000       1.000000   \n",
       "25%              89.000000          3.000000       4.000000       2.000000   \n",
       "50%             113.000000        140.000000       5.000000       3.000000   \n",
       "75%             138.000000        241.000000       5.000000       4.000000   \n",
       "max             937.000000        999.000000      40.000000      28.000000   \n",
       "\n",
       "       sell_time_cal  construction_year_1  asking_price  \n",
       "count  169717.000000        169717.000000  1.697170e+05  \n",
       "mean       42.673786          1970.552885  4.011160e+05  \n",
       "std        96.430241            37.107286  2.421808e+05  \n",
       "min         0.000000          1005.000000  0.000000e+00  \n",
       "25%        16.000000          1955.000000  2.600000e+05  \n",
       "50%        22.000000          1975.000000  3.450000e+05  \n",
       "75%        34.000000          1997.000000  4.690000e+05  \n",
       "max      5106.000000          2024.000000  7.800000e+06  "
      ]
     },
     "execution_count": 313,
     "metadata": {},
     "output_type": "execute_result"
    }
   ],
   "source": [
    "df.describe()"
   ]
  },
  {
   "cell_type": "code",
   "execution_count": 314,
   "metadata": {
    "cell_id": "00020-d7953e81-5a2c-431a-9cf4-65c86bcfca9b",
    "deepnote_cell_type": "code",
    "deepnote_to_be_reexecuted": false,
    "execution_millis": 66,
    "execution_start": 1642512451258,
    "source_hash": "1bba8192"
   },
   "outputs": [
    {
     "name": "stdout",
     "output_type": "stream",
     "text": [
      "There are 22298 rows with null values in this dataset\n"
     ]
    }
   ],
   "source": [
    "n_nulls = df.loc[lambda x: x.isnull().any(axis=1)].shape \n",
    "print(f\"There are {n_nulls[0]} rows with null values in this dataset\") \n",
    "\n",
    "#the nans are from garden"
   ]
  },
  {
   "cell_type": "code",
   "execution_count": 315,
   "metadata": {
    "cell_id": "00a7ff9c-8db6-400d-bc7c-59652154936d",
    "deepnote_cell_type": "code",
    "deepnote_output_heights": [
     78.796875
    ],
    "deepnote_to_be_reexecuted": false,
    "execution_millis": 2165636,
    "execution_start": 1642512451364,
    "source_hash": "6b5670c8",
    "tags": []
   },
   "outputs": [],
   "source": [
    "#replace garden nan with geen tuin\n",
    "df['garden'] = df['garden'].fillna('Geen tuin')"
   ]
  },
  {
   "cell_type": "markdown",
   "metadata": {
    "cell_id": "00021-945c97d6-ebec-40f4-a500-570538409e00",
    "deepnote_cell_type": "markdown"
   },
   "source": [
    "There are no null values in this dataset. For a real-life dataset (such as the the energy consumption forecast that we will discuss later), this is rarely the case. There are a couple of things that are possible if there are null values:\n",
    "- drop the column if there's too many missing values\n",
    "- impute the missing values otherwise. For a categorical variable you can use for instance the mode, while for a numeric variable you can use e.g. the mean. However it's always crucial to first understand your data and on that basis determine if the imputation makes sense.\n",
    "- for instance, in the Funda dataset the **perceeloppervlakte** is missing from apartments. That's because for apartments perceeloppervlakte is the same as the woonoppervlakte. Hence in this case it would make more sense to just impute the perceeloppervlakte column with the value of the woonoppervlakte if the house is an apartment."
   ]
  },
  {
   "cell_type": "code",
   "execution_count": 316,
   "metadata": {
    "cell_id": "00022-94206712-2a1b-4b6f-8151-5a4fed49796b",
    "deepnote_cell_type": "code",
    "deepnote_output_heights": [
     98
    ],
    "deepnote_to_be_reexecuted": false,
    "execution_millis": 1,
    "execution_start": 1642512451365,
    "source_hash": "1c29461c"
   },
   "outputs": [],
   "source": [
    "# let's rename the target and pay_0\n",
    "#df = df.rename(columns={'default payment next month': 'default',\n",
    "#'pay_0': 'pay_1'\n",
    "#})\n",
    "#df.columns"
   ]
  },
  {
   "cell_type": "markdown",
   "metadata": {
    "cell_id": "00023-cf38199f-a324-4c42-beee-28963cbb819d",
    "deepnote_cell_type": "markdown"
   },
   "source": [
    "I am going to create a class and instance to rename column values on the fly to human-readable format."
   ]
  },
  {
   "cell_type": "code",
   "execution_count": 317,
   "metadata": {
    "cell_id": "00024-46416392-1578-4291-8950-ebd5be92bd3a",
    "deepnote_cell_type": "code",
    "deepnote_output_heights": [
     611
    ],
    "deepnote_to_be_reexecuted": false,
    "execution_millis": 8,
    "execution_start": 1642512451367,
    "source_hash": "8e8f719b"
   },
   "outputs": [
    {
     "data": {
      "text/plain": [
       "array(['Eengezinswoning, tussenwoning',\n",
       "       'Eengezinswoning, 2-onder-1-kapwoning',\n",
       "       'Eengezinswoning, hoekwoning', 'Eengezinswoning, eindwoning',\n",
       "       'Herenhuis, tussenwoning', 'Bovenwoning (appartement)',\n",
       "       'Portiekflat (appartement)',\n",
       "       'Eengezinswoning, tussenwoning (drive-in woning)',\n",
       "       'Eengezinswoning, eindwoning (hofjeswoning)', 'Portiekflat',\n",
       "       'Maisonnette', 'Woonboerderij, vrijstaande woning',\n",
       "       'Galerijflat (appartement)', 'Eengezinswoning, vrijstaande woning',\n",
       "       'Eengezinswoning, geschakelde 2-onder-1-kapwoning', 'Galerijflat',\n",
       "       'Bovenwoning (dubbel bovenhuis)', 'Benedenwoning',\n",
       "       'Maisonnette (appartement)', 'Villa, vrijstaande woning',\n",
       "       'Penthouse (appartement)', 'Bungalow, vrijstaande woning',\n",
       "       'Woonboerderij, vrijstaande woning (bedrijfs- of dienstwoning)',\n",
       "       'Tussenverdieping (appartement)', 'Portiekwoning (appartement)',\n",
       "       'Eengezinswoning, vrijstaande woning (dijkwoning)',\n",
       "       'Eengezinswoning, geschakelde woning',\n",
       "       'Landhuis, vrijstaande woning', 'Benedenwoning (appartement)',\n",
       "       'Bungalow, vrijstaande woning (semi-bungalow)',\n",
       "       'Eengezinswoning, halfvrijstaande woning',\n",
       "       'Villa, geschakelde woning',\n",
       "       'Herenhuis, geschakelde 2-onder-1-kapwoning (split-level woning)',\n",
       "       'Villa, 2-onder-1-kapwoning',\n",
       "       'Eengezinswoning, geschakelde woning (patiowoning)',\n",
       "       'Eengezinswoning, geschakelde 2-onder-1-kapwoning (dijkwoning)',\n",
       "       'Eengezinswoning, 2-onder-1-kapwoning (dijkwoning)',\n",
       "       'Herenhuis, vrijstaande woning', 'Herenhuis, 2-onder-1-kapwoning',\n",
       "       'Herenhuis, hoekwoning',\n",
       "       'Eengezinswoning, tussenwoning (split-level woning)', 'Penthouse',\n",
       "       'Maisonnette (dubbel bovenhuis)', 'Bungalow, tussenwoning',\n",
       "       'Eengezinswoning, halfvrijstaande woning (split-level woning)',\n",
       "       'Portiekflat (open portiek)', 'Dubbel benedenhuis (appartement)',\n",
       "       'Eengezinswoning, hoekwoning (drive-in woning)',\n",
       "       'Bungalow, geschakelde 2-onder-1-kapwoning (semi-bungalow)',\n",
       "       'Bungalow, geschakelde woning',\n",
       "       'Bungalow, geschakelde woning (patiowoning)',\n",
       "       'Benedenwoning (open portiek)', 'Dubbel benedenhuis (bel-etage)',\n",
       "       'Villa, tussenwoning',\n",
       "       'Eengezinswoning, geschakelde woning (kwadrant woning)',\n",
       "       'Beneden + bovenwoning (appartement)', 'Bovenwoning',\n",
       "       'Galerijflat (appartement met open portiek)',\n",
       "       'Benedenwoning (corridorflat)',\n",
       "       'Portiekflat (appartement met open portiek)',\n",
       "       'Portiekwoning (appartement met open portiek)',\n",
       "       'Woonboerderij, hoekwoning', 'Beneden + bovenwoning',\n",
       "       'Woonboerderij, 2-onder-1-kapwoning', 'Bungalow, hoekwoning',\n",
       "       'Bovenwoning (appartement met open portiek)', 'Portiekwoning',\n",
       "       'Villa, vrijstaande woning (waterwoning)',\n",
       "       'Bungalow, hoekwoning (patiowoning)',\n",
       "       'Eengezinswoning, eindwoning (drive-in woning)',\n",
       "       'Herenhuis, halfvrijstaande woning',\n",
       "       'Landhuis, vrijstaande woning (dijkwoning)',\n",
       "       'Villa, halfvrijstaande woning',\n",
       "       'Woonboerderij, vrijstaande woning (dijkwoning)',\n",
       "       'Grachtenpand, tussenwoning',\n",
       "       'Woonboerderij, halfvrijstaande woning',\n",
       "       'Bungalow, 2-onder-1-kapwoning',\n",
       "       'Bungalow, tussenwoning (patiowoning)',\n",
       "       'Villa, vrijstaande woning (split-level woning)',\n",
       "       'Eengezinswoning, hoekwoning (hofjeswoning)',\n",
       "       'Herenhuis, geschakelde woning (patiowoning)',\n",
       "       'Eengezinswoning, tussenwoning (hofjeswoning)',\n",
       "       'Galerijflat (open portiek)',\n",
       "       'Eengezinswoning, geschakelde woning (hofjeswoning)',\n",
       "       'Portiekflat (corridorflat)',\n",
       "       'Herenhuis, 2-onder-1-kapwoning (dijkwoning)',\n",
       "       'Bungalow, geschakelde woning (semi-bungalow)',\n",
       "       'Bungalow, hoekwoning (semi-bungalow)', 'Dubbel benedenhuis',\n",
       "       'Eengezinswoning, hoekwoning (dijkwoning)',\n",
       "       'Bungalow, geschakelde 2-onder-1-kapwoning',\n",
       "       'Portiekflat (service flat)', 'Penthouse (dubbel bovenhuis)',\n",
       "       'Herenhuis, geschakelde woning', 'Eengezinswoning, verspringend',\n",
       "       'Maisonnette (appartement met open portiek)',\n",
       "       'Eengezinswoning, 2-onder-1-kapwoning (waterwoning)',\n",
       "       'Benedenwoning (appartement met open portiek)',\n",
       "       'Tussenverdieping (appartement met open portiek)',\n",
       "       'Eengezinswoning, vrijstaande woning (split-level woning)',\n",
       "       'Tussenverdieping', 'Tussenverdieping (corridorflat)',\n",
       "       'Maisonnette (open portiek)', 'Grachtenpand, geschakelde woning',\n",
       "       'Herenhuis, tussenwoning (drive-in woning)',\n",
       "       'Bungalow, vrijstaande woning (split-level woning)',\n",
       "       'Galerijflat (service flat met open portiek)',\n",
       "       'Bungalow, halfvrijstaande woning',\n",
       "       'Eengezinswoning, 2-onder-1-kapwoning (split-level woning)',\n",
       "       'Eengezinswoning, geschakelde woning (drive-in woning)',\n",
       "       'Grachtenpand, halfvrijstaande woning',\n",
       "       'Bungalow, tussenwoning (semi-bungalow)',\n",
       "       'Woonboot, vrijstaande woning', 'Benedenwoning (souterrain)',\n",
       "       'Eengezinswoning, halfvrijstaande woning (dijkwoning)',\n",
       "       'Bungalow, 2-onder-1-kapwoning (semi-bungalow)',\n",
       "       'Portiekwoning (service flat)',\n",
       "       'Eengezinswoning, vrijstaande woning (bedrijfs- of dienstwoning)',\n",
       "       'Maisonnette (dubbel bovenhuis met open portiek)',\n",
       "       'Eengezinswoning, hoekwoning (split-level woning)',\n",
       "       'Herenhuis, eindwoning',\n",
       "       'Eengezinswoning, eindwoning (bedrijfs- of dienstwoning)',\n",
       "       'Bovenwoning (souterrain)',\n",
       "       'Eengezinswoning, hoekwoning (patiowoning)',\n",
       "       'Eengezinswoning, tussenwoning (dijkwoning)',\n",
       "       'Landhuis, halfvrijstaande woning',\n",
       "       'Eengezinswoning, tussenwoning (patiowoning)',\n",
       "       'Villa, halfvrijstaande woning (split-level woning)',\n",
       "       'Bungalow, geschakelde woning (waterwoning)',\n",
       "       'Woonboerderij, geschakelde woning',\n",
       "       'Villa, vrijstaande woning (hofjeswoning)',\n",
       "       'Penthouse (service flat)',\n",
       "       'Penthouse (appartement met open portiek)',\n",
       "       'Herenhuis, geschakelde 2-onder-1-kapwoning',\n",
       "       'Grachtenpand, vrijstaande woning',\n",
       "       'Bovenwoning (dubbel bovenhuis met open portiek)',\n",
       "       'Eengezinswoning, hoekwoning (kwadrant woning)',\n",
       "       'Bungalow, geschakelde woning (split-level woning)',\n",
       "       'Bovenwoning (service flat)', 'Galerijflat (bel-etage)',\n",
       "       'Herenhuis, 2-onder-1-kapwoning (split-level woning)',\n",
       "       'Benedenwoning (bel-etage)', 'Galerijflat (service flat)',\n",
       "       'Portiekwoning (open portiek)',\n",
       "       'Herenhuis, eindwoning (hofjeswoning)',\n",
       "       'Bovenwoning (corridorflat)', 'Portiekflat (bel-etage)',\n",
       "       'Eengezinswoning, geschakelde woning (dijkwoning)',\n",
       "       'Herenhuis, 2-onder-1-kapwoning (waterwoning)',\n",
       "       'Benedenwoning (service flat)',\n",
       "       'Eengezinswoning, eindwoning (split-level woning)',\n",
       "       'Herenhuis, tussenwoning (dijkwoning)',\n",
       "       'Eengezinswoning, tussenwoning (waterwoning)',\n",
       "       'Eengezinswoning, geschakelde woning (split-level woning)',\n",
       "       'Villa, hoekwoning',\n",
       "       'Eengezinswoning, geschakelde 2-onder-1-kapwoning (hofjeswoning)',\n",
       "       'Eengezinswoning, eindwoning (dijkwoning)',\n",
       "       'Eengezinswoning, geschakelde woning (bedrijfs- of dienstwoning)',\n",
       "       'Herenhuis, tussenwoning (split-level woning)',\n",
       "       'Portiekwoning (dubbel bovenhuis met open portiek)',\n",
       "       'Bovenwoning (verzorgingsflat)', 'Woonwagen, vrijstaande woning',\n",
       "       'Eengezinswoning, tussenwoning (kwadrant woning)',\n",
       "       'Eengezinswoning, 2-onder-1-kapwoning (bedrijfs- of dienstwoning)',\n",
       "       'Herenhuis, vrijstaande woning (dijkwoning)',\n",
       "       'Eengezinswoning, halfvrijstaande woning (drive-in woning)',\n",
       "       'Maisonnette (corridorflat)', 'Bovenwoning (open portiek)',\n",
       "       'Bungalow, eindwoning', 'Woonboerderij, tussenwoning',\n",
       "       'Eengezinswoning, 2-onder-1-kapwoning (kwadrant woning)',\n",
       "       'Portiekflat (dubbel bovenhuis)',\n",
       "       'Landhuis, vrijstaande woning (bedrijfs- of dienstwoning)',\n",
       "       'Eengezinswoning, eindwoning (waterwoning)',\n",
       "       'Woonboerderij, eindwoning',\n",
       "       'Villa, vrijstaande woning (bedrijfs- of dienstwoning)',\n",
       "       'Eengezinswoning, 2-onder-1-kapwoning (hofjeswoning)',\n",
       "       'Bungalow, halfvrijstaande woning (patiowoning)',\n",
       "       'Bungalow, 2-onder-1-kapwoning (patiowoning)',\n",
       "       'Herenhuis, vrijstaande woning (bedrijfs- of dienstwoning)',\n",
       "       'Villa, vrijstaande woning (dijkwoning)',\n",
       "       'Herenhuis, hoekwoning (hofjeswoning)',\n",
       "       'Portiekwoning (bel-etage)', 'Grachtenpand, hoekwoning',\n",
       "       'Eengezinswoning, geschakelde woning (waterwoning)',\n",
       "       'Landgoed, vrijstaande woning',\n",
       "       'Bungalow, eindwoning (semi-bungalow)',\n",
       "       'Eengezinswoning, geschakelde 2-onder-1-kapwoning (bedrijfs- of dienstwoning)',\n",
       "       'Eengezinswoning, verspringend (drive-in woning)',\n",
       "       'Herenhuis, hoekwoning (dijkwoning)',\n",
       "       'Villa, geschakelde woning (drive-in woning)',\n",
       "       'Eengezinswoning, vrijstaande woning (waterwoning)',\n",
       "       'Maisonnette (bel-etage)',\n",
       "       'Herenhuis, eindwoning (split-level woning)',\n",
       "       'Herenhuis, halfvrijstaande woning (hofjeswoning)',\n",
       "       'Woonboot, vrijstaande woning (waterwoning)',\n",
       "       'Eengezinswoning, hoekwoning (waterwoning)',\n",
       "       'Villa, vrijstaande woning (drive-in woning)',\n",
       "       'Bungalow, halfvrijstaande woning (semi-bungalow)',\n",
       "       'Bungalow, hoekwoning (kwadrant woning)',\n",
       "       'Bungalow, geschakelde woning (hofjeswoning)',\n",
       "       'Galerijflat (corridorflat)',\n",
       "       'Herenhuis, geschakelde woning (split-level woning)',\n",
       "       'Bungalow, geschakelde woning (kwadrant woning)',\n",
       "       'Eengezinswoning, 2-onder-1-kapwoning (drive-in woning)',\n",
       "       'Eengezinswoning, verspringend (split-level woning)',\n",
       "       'Grachtenpand, eindwoning',\n",
       "       'Eengezinswoning, tussenwoning (bedrijfs- of dienstwoning)',\n",
       "       'Eengezinswoning, vrijstaande woning (drive-in woning)',\n",
       "       'Herenhuis, hoekwoning (split-level woning)',\n",
       "       'Villa, 2-onder-1-kapwoning (dijkwoning)',\n",
       "       'Villa, halfvrijstaande woning (waterwoning)',\n",
       "       'Landhuis, 2-onder-1-kapwoning',\n",
       "       'Eengezinswoning, vrijstaande woning (patiowoning)',\n",
       "       'Dubbel benedenhuis (souterrain)',\n",
       "       'Eengezinswoning, geschakelde 2-onder-1-kapwoning (kwadrant woning)',\n",
       "       'Bungalow, vrijstaande woning (waterwoning)',\n",
       "       'Portiekwoning (dubbel bovenhuis)',\n",
       "       'Eengezinswoning, tussenwoning (paalwoning)',\n",
       "       'Herenhuis, tussenwoning (waterwoning)',\n",
       "       'Grachtenpand, tussenwoning (waterwoning)',\n",
       "       'Eengezinswoning, eindwoning (kwadrant woning)',\n",
       "       'Galerijflat (verzorgingsflat)',\n",
       "       'Eengezinswoning, geschakelde 2-onder-1-kapwoning (split-level woning)',\n",
       "       'Beneden + bovenwoning (appartement met open portiek)',\n",
       "       'Tussenverdieping (service flat)', 'Penthouse (corridorflat)',\n",
       "       'Eengezinswoning, eindwoning (patiowoning)',\n",
       "       'Bungalow, hoekwoning (drive-in woning)',\n",
       "       'Woonboerderij, halfvrijstaande woning (dijkwoning)',\n",
       "       'Eengezinswoning, vrijstaande woning (hofjeswoning)',\n",
       "       'Bungalow, tussenwoning (split-level woning)',\n",
       "       'Villa, geschakelde woning (split-level woning)',\n",
       "       'Benedenwoning (bel-etage met open portiek)',\n",
       "       'Eengezinswoning, geschakelde 2-onder-1-kapwoning (drive-in woning)',\n",
       "       'Bungalow, verspringend',\n",
       "       'Bungalow, vrijstaande woning (patiowoning)',\n",
       "       'Villa, geschakelde woning (dijkwoning)',\n",
       "       'Bovenwoning (bel-etage)',\n",
       "       'Bungalow, halfvrijstaande woning (hofjeswoning)',\n",
       "       'Portiekflat (verzorgingsflat)',\n",
       "       'Eengezinswoning, halfvrijstaande woning (hofjeswoning)',\n",
       "       'Herenhuis, tussenwoning (hofjeswoning)',\n",
       "       'Dubbel benedenhuis (dubbel bovenhuis)',\n",
       "       'Herenhuis, vrijstaande woning (split-level woning)',\n",
       "       'Bungalow, vrijstaande woning (bedrijfs- of dienstwoning)',\n",
       "       'Bungalow, tussenwoning (hofjeswoning)',\n",
       "       'Herenhuis, hoekwoning (drive-in woning)',\n",
       "       'Eengezinswoning, halfvrijstaande woning (patiowoning)',\n",
       "       'Landhuis, geschakelde woning',\n",
       "       'Bungalow, 2-onder-1-kapwoning (drive-in woning)',\n",
       "       'Villa, geschakelde 2-onder-1-kapwoning',\n",
       "       'Beneden + bovenwoning (dubbel bovenhuis)',\n",
       "       'Herenhuis, halfvrijstaande woning (drive-in woning)',\n",
       "       'Woonboerderij, halfvrijstaande woning (bedrijfs- of dienstwoning)',\n",
       "       'Portiekwoning (corridorflat)',\n",
       "       'Herenhuis, halfvrijstaande woning (dijkwoning)',\n",
       "       'Woonboerderij, hoekwoning (kwadrant woning)',\n",
       "       'Woonboerderij, geschakelde 2-onder-1-kapwoning',\n",
       "       'Dubbel benedenhuis (open portiek)',\n",
       "       'Bungalow, vrijstaande woning (dijkwoning)',\n",
       "       'Galerijflat (souterrain)', 'Beneden + bovenwoning (souterrain)',\n",
       "       'Grachtenpand, 2-onder-1-kapwoning',\n",
       "       'Eengezinswoning, geschakelde 2-onder-1-kapwoning (patiowoning)',\n",
       "       'Eengezinswoning, geschakelde 2-onder-1-kapwoning (waterwoning)',\n",
       "       'Dubbel benedenhuis (appartement met open portiek)',\n",
       "       'Woonboerderij, tussenwoning (hofjeswoning)',\n",
       "       'Tussenverdieping (dubbel bovenhuis)',\n",
       "       'Grachtenpand, vrijstaande woning (dijkwoning)',\n",
       "       'Villa, geschakelde woning (waterwoning)',\n",
       "       'Studentenkamer (appartement)', 'Villa, eindwoning',\n",
       "       'Herenhuis, vrijstaande woning (drive-in woning)',\n",
       "       'Landhuis, vrijstaande woning (split-level woning)',\n",
       "       'Herenhuis, 2-onder-1-kapwoning (bedrijfs- of dienstwoning)',\n",
       "       'Herenhuis, halfvrijstaande woning (split-level woning)',\n",
       "       'Villa, halfvrijstaande woning (bedrijfs- of dienstwoning)',\n",
       "       'Herenhuis, geschakelde woning (waterwoning)',\n",
       "       'Herenhuis, verspringend',\n",
       "       'Grachtenpand, vrijstaande woning (drive-in woning)',\n",
       "       'Herenhuis, 2-onder-1-kapwoning (drive-in woning)',\n",
       "       'Villa, hoekwoning (kwadrant woning)',\n",
       "       'Eengezinswoning, 2-onder-1-kapwoning (patiowoning)',\n",
       "       'Herenhuis, hoekwoning (waterwoning)',\n",
       "       'Herenhuis, vrijstaande woning (hofjeswoning)',\n",
       "       'Bungalow, verspringend (semi-bungalow)',\n",
       "       'Villa, geschakelde woning (hofjeswoning)',\n",
       "       'Eengezinswoning, hoekwoning (bedrijfs- of dienstwoning)',\n",
       "       'Herenhuis, geschakelde woning (kwadrant woning)',\n",
       "       'Bungalow, eindwoning (patiowoning)', 'Villa, verspringend',\n",
       "       'Herenhuis, vrijstaande woning (wind- of watermolen)',\n",
       "       'Studentenkamer',\n",
       "       'Grachtenpand, tussenwoning (bedrijfs- of dienstwoning)',\n",
       "       'Woonwagen, tussenwoning',\n",
       "       'Eengezinswoning, verspringend (kwadrant woning)',\n",
       "       'Maisonnette (souterrain)',\n",
       "       'Beneden + bovenwoning (bel-etage met open portiek)',\n",
       "       'Galerijflat (dubbel bovenhuis)', 'Portiekflat (souterrain)',\n",
       "       'Herenhuis, geschakelde woning (drive-in woning)',\n",
       "       'Villa, geschakelde 2-onder-1-kapwoning (waterwoning)',\n",
       "       'Eengezinswoning, halfvrijstaande woning (bedrijfs- of dienstwoning)',\n",
       "       'Eengezinswoning, halfvrijstaande woning (kwadrant woning)',\n",
       "       'Eengezinswoning, verspringend (patiowoning)',\n",
       "       'Eengezinswoning, 2-onder-1-kapwoning (paalwoning)',\n",
       "       'Beneden + bovenwoning (bel-etage)',\n",
       "       'Tussenverdieping (open portiek)',\n",
       "       'Villa, tussenwoning (drive-in woning)', 'Landhuis, tussenwoning',\n",
       "       'Villa, halfvrijstaande woning (dijkwoning)',\n",
       "       'Eengezinswoning, verspringend (hofjeswoning)',\n",
       "       'Herenhuis, geschakelde woning (dijkwoning)',\n",
       "       'Herenhuis, eindwoning (drive-in woning)',\n",
       "       'Villa, halfvrijstaande woning (drive-in woning)',\n",
       "       'Herenhuis, 2-onder-1-kapwoning (hofjeswoning)',\n",
       "       'Herenhuis, verspringend (split-level woning)',\n",
       "       'Landhuis, 2-onder-1-kapwoning (bedrijfs- of dienstwoning)',\n",
       "       'Portiekflat (dubbel bovenhuis met open portiek)',\n",
       "       'Benedenwoning (dubbel bovenhuis)',\n",
       "       'Eengezinswoning, tussenwoning (wind- of watermolen)',\n",
       "       'Portiekwoning (souterrain)',\n",
       "       'Tussenverdieping (bel-etage met open portiek)',\n",
       "       'Penthouse (verzorgingsflat)',\n",
       "       'Herenhuis, hoekwoning (patiowoning)',\n",
       "       'Beneden + bovenwoning (open portiek)',\n",
       "       'Woonboerderij, verspringend',\n",
       "       'Herenhuis, geschakelde 2-onder-1-kapwoning (patiowoning)',\n",
       "       'Herenhuis, halfvrijstaande woning (bedrijfs- of dienstwoning)',\n",
       "       'Villa, hoekwoning (split-level woning)',\n",
       "       'Maisonnette (service flat)', 'Studentenkamer (souterrain)',\n",
       "       'Eengezinswoning, halfvrijstaande woning (waterwoning)'],\n",
       "      dtype=object)"
      ]
     },
     "execution_count": 317,
     "metadata": {},
     "output_type": "execute_result"
    }
   ],
   "source": [
    "#unique column check\n",
    "\n",
    "#df['house_description'].unique()\n",
    "#df['living_area_surface'].unique()\n",
    "#df['property_surface'].unique()\n",
    "#df['construction_year'].unique()\n",
    "#df['garden'].unique()\n",
    "df['type_house'].unique()\n",
    "#df['energy_label'].unique()\n",
    "#df['aantalfotos'].unique()\n",
    "#df['publication_date'].unique()\n",
    "#df['date_of_signiture'].unique()\n",
    "#df['sell_time'].unique()\n",
    "#df['plaats'].unique()\n",
    "#df['postcode'].unique()\n",
    "#df['ask_price'].unique()\n",
    "#df['asking_price'].unique()\n",
    "#df['number_room'].unique()\n",
    "#df['bedrooms'].unique()\n",
    "#df['sell_time_cal'].unique()\n",
    "#df['construction_year_1'].unique()"
   ]
  },
  {
   "cell_type": "code",
   "execution_count": 318,
   "metadata": {
    "cell_id": "d7422c8b-0538-4f54-a511-9f301d809bc4",
    "deepnote_cell_type": "code",
    "deepnote_to_be_reexecuted": false,
    "execution_millis": 291,
    "execution_start": 1642512451384,
    "source_hash": "530659d7",
    "tags": []
   },
   "outputs": [],
   "source": [
    "#replace garden wrong values\n",
    "df['garden'] = df['garden'].str.replace('Jaarlijkse vergadering', 'Geen tuin')\n",
    "df['garden'] = df['garden'].str.replace('Plaats', 'Geen tuin')\n",
    "df['garden'] = df['garden'].str.replace('Capaciteit', 'Geen tuin')\n",
    "df['garden'] = df['garden'].str.replace('Isolatie', 'Geen tuin')"
   ]
  },
  {
   "cell_type": "code",
   "execution_count": 319,
   "metadata": {
    "cell_id": "b6ba23e7-a0c9-42db-8d48-e9dd5caae5bc",
    "deepnote_cell_type": "code",
    "deepnote_to_be_reexecuted": false,
    "execution_millis": 1115,
    "execution_start": 1642512451686,
    "source_hash": "bddc39f3",
    "tags": []
   },
   "outputs": [],
   "source": [
    "#replace aantalfotos wrong values\n",
    "df['aantalfotos'] = df['aantalfotos'].str.replace('2,16', '16')\n",
    "df['aantalfotos'] = df['aantalfotos'].str.replace('3,16', '16')\n",
    "df['aantalfotos'] = df['aantalfotos'].str.replace('4,4,10', '10')\n",
    "df['aantalfotos'] = df['aantalfotos'].str.replace('2,9', '9')\n",
    "df['aantalfotos'] = df['aantalfotos'].str.replace('3,8,2', '8')\n",
    "df['aantalfotos'] = df['aantalfotos'].str.replace('12,30', '30')\n",
    "df['aantalfotos'] = df['aantalfotos'].str.replace('3,5,8', '8')\n",
    "df['aantalfotos'] = df['aantalfotos'].str.replace('4,4,26', '8')\n",
    "df['aantalfotos'] = df['aantalfotos'].str.replace('5,24', '8')\n",
    "df['aantalfotos'] = df['aantalfotos'].str.replace('4,4,9', '9')\n",
    "df['aantalfotos'] = df['aantalfotos'].str.replace('4,4,10', '10')\n",
    "df['aantalfotos'] = df['aantalfotos'].str.replace('2,5', '5')\n",
    "df['aantalfotos'] = df['aantalfotos'].str.replace('3,13', '13')\n",
    "df['aantalfotos'] = df['aantalfotos'].str.replace('3,11', '11')"
   ]
  },
  {
   "cell_type": "code",
   "execution_count": 320,
   "metadata": {
    "cell_id": "205d7a4e-3fc9-4824-8539-9f892ccd18b9",
    "deepnote_cell_type": "code",
    "deepnote_to_be_reexecuted": false,
    "execution_millis": 16,
    "execution_start": 1642512452817,
    "source_hash": "d1f44cc8",
    "tags": []
   },
   "outputs": [],
   "source": [
    "#aantalfotos to int\n",
    "df['aantalfotos'] = df['aantalfotos'].astype(int)"
   ]
  },
  {
   "cell_type": "code",
   "execution_count": 321,
   "metadata": {
    "cell_id": "7f48bf16-bb67-447a-88a3-695d5f642396",
    "deepnote_cell_type": "code",
    "deepnote_output_heights": [
     404.9375
    ],
    "deepnote_to_be_reexecuted": false,
    "execution_millis": 5,
    "execution_start": 1642512452838,
    "source_hash": "52430027",
    "tags": []
   },
   "outputs": [
    {
     "data": {
      "text/plain": [
       "house_description      object\n",
       "living_area_surface     int32\n",
       "property_surface        int32\n",
       "construction_year      object\n",
       "garden                 object\n",
       "type_house             object\n",
       "energy_label           object\n",
       "number_bathrooms       object\n",
       "aantalfotos             int32\n",
       "publication_date       object\n",
       "date_of_signiture      object\n",
       "sell_time              object\n",
       "plaats                 object\n",
       "postcode               object\n",
       "ask_price              object\n",
       "number_room             int32\n",
       "bedrooms                int32\n",
       "sell_time_cal           int32\n",
       "construction_year_1     int32\n",
       "asking_price            int32\n",
       "dtype: object"
      ]
     },
     "execution_count": 321,
     "metadata": {},
     "output_type": "execute_result"
    }
   ],
   "source": [
    "df.dtypes"
   ]
  },
  {
   "cell_type": "code",
   "execution_count": 322,
   "metadata": {
    "cell_id": "abc322be-61fa-4223-b82c-e2b7dbb52847",
    "deepnote_cell_type": "code",
    "deepnote_output_heights": [
     611
    ],
    "deepnote_to_be_reexecuted": false,
    "execution_millis": 89,
    "execution_start": 1642512452843,
    "source_hash": "c085b6ba",
    "tags": []
   },
   "outputs": [
    {
     "data": {
      "text/html": [
       "<div>\n",
       "<style scoped>\n",
       "    .dataframe tbody tr th:only-of-type {\n",
       "        vertical-align: middle;\n",
       "    }\n",
       "\n",
       "    .dataframe tbody tr th {\n",
       "        vertical-align: top;\n",
       "    }\n",
       "\n",
       "    .dataframe thead th {\n",
       "        text-align: right;\n",
       "    }\n",
       "</style>\n",
       "<table border=\"1\" class=\"dataframe\">\n",
       "  <thead>\n",
       "    <tr style=\"text-align: right;\">\n",
       "      <th></th>\n",
       "      <th>house_description</th>\n",
       "      <th>living_area_surface</th>\n",
       "      <th>property_surface</th>\n",
       "      <th>construction_year</th>\n",
       "      <th>garden</th>\n",
       "      <th>type_house</th>\n",
       "      <th>energy_label</th>\n",
       "      <th>number_bathrooms</th>\n",
       "      <th>aantalfotos</th>\n",
       "      <th>publication_date</th>\n",
       "      <th>date_of_signiture</th>\n",
       "      <th>sell_time</th>\n",
       "      <th>plaats</th>\n",
       "      <th>postcode</th>\n",
       "      <th>ask_price</th>\n",
       "      <th>number_room</th>\n",
       "      <th>bedrooms</th>\n",
       "      <th>sell_time_cal</th>\n",
       "      <th>construction_year_1</th>\n",
       "      <th>asking_price</th>\n",
       "    </tr>\n",
       "    <tr>\n",
       "      <th>id</th>\n",
       "      <th></th>\n",
       "      <th></th>\n",
       "      <th></th>\n",
       "      <th></th>\n",
       "      <th></th>\n",
       "      <th></th>\n",
       "      <th></th>\n",
       "      <th></th>\n",
       "      <th></th>\n",
       "      <th></th>\n",
       "      <th></th>\n",
       "      <th></th>\n",
       "      <th></th>\n",
       "      <th></th>\n",
       "      <th></th>\n",
       "      <th></th>\n",
       "      <th></th>\n",
       "      <th></th>\n",
       "      <th></th>\n",
       "      <th></th>\n",
       "    </tr>\n",
       "  </thead>\n",
       "  <tbody>\n",
       "    <tr>\n",
       "      <th>0</th>\n",
       "      <td>Een heerlijk, lichte  middenwoning  gelegen in...</td>\n",
       "      <td>115</td>\n",
       "      <td>166</td>\n",
       "      <td>1962</td>\n",
       "      <td>Tuin</td>\n",
       "      <td>Eengezinswoning, tussenwoning</td>\n",
       "      <td>D</td>\n",
       "      <td>1 badkamer en 1 apart toilet</td>\n",
       "      <td>61</td>\n",
       "      <td>2021-10-27</td>\n",
       "      <td>2021-11-24</td>\n",
       "      <td>4 weken</td>\n",
       "      <td>Heiloo</td>\n",
       "      <td>1851SK</td>\n",
       "      <td>375.000</td>\n",
       "      <td>6</td>\n",
       "      <td>5</td>\n",
       "      <td>28</td>\n",
       "      <td>1962</td>\n",
       "      <td>375000</td>\n",
       "    </tr>\n",
       "    <tr>\n",
       "      <th>1</th>\n",
       "      <td>Instapklare en ruime  twee-onder-een-kapwoning...</td>\n",
       "      <td>130</td>\n",
       "      <td>243</td>\n",
       "      <td>1992</td>\n",
       "      <td>Tuin</td>\n",
       "      <td>Eengezinswoning, 2-onder-1-kapwoning</td>\n",
       "      <td>A</td>\n",
       "      <td>1 badkamer en 1 apart toilet</td>\n",
       "      <td>46</td>\n",
       "      <td>2021-07-10</td>\n",
       "      <td>2021-07-22</td>\n",
       "      <td>12 dagen</td>\n",
       "      <td>Vlijmen</td>\n",
       "      <td>5251SG</td>\n",
       "      <td>425.000</td>\n",
       "      <td>5</td>\n",
       "      <td>4</td>\n",
       "      <td>12</td>\n",
       "      <td>1992</td>\n",
       "      <td>425000</td>\n",
       "    </tr>\n",
       "    <tr>\n",
       "      <th>2</th>\n",
       "      <td>Mooie en ruime  helft  van een  dubbel woonhui...</td>\n",
       "      <td>124</td>\n",
       "      <td>245</td>\n",
       "      <td>1981</td>\n",
       "      <td>Tuin</td>\n",
       "      <td>Eengezinswoning, 2-onder-1-kapwoning</td>\n",
       "      <td>C</td>\n",
       "      <td>1 badkamer en 1 apart toilet</td>\n",
       "      <td>43</td>\n",
       "      <td>2021-08-17</td>\n",
       "      <td>2021-11-29</td>\n",
       "      <td>3 maanden</td>\n",
       "      <td>Dinxperlo</td>\n",
       "      <td>7091TB</td>\n",
       "      <td>299.000</td>\n",
       "      <td>5</td>\n",
       "      <td>4</td>\n",
       "      <td>104</td>\n",
       "      <td>1981</td>\n",
       "      <td>299000</td>\n",
       "    </tr>\n",
       "    <tr>\n",
       "      <th>3</th>\n",
       "      <td>Geheel opgeknapte hoekwoning  met  dakopbouw e...</td>\n",
       "      <td>92</td>\n",
       "      <td>257</td>\n",
       "      <td>1961</td>\n",
       "      <td>Tuin</td>\n",
       "      <td>Eengezinswoning, hoekwoning</td>\n",
       "      <td>D</td>\n",
       "      <td>1 badkamer en 1 apart toilet</td>\n",
       "      <td>35</td>\n",
       "      <td>2021-08-27</td>\n",
       "      <td>2021-09-14</td>\n",
       "      <td>2 weken</td>\n",
       "      <td>Hellevoetsluis</td>\n",
       "      <td>3222CA</td>\n",
       "      <td>295.000</td>\n",
       "      <td>5</td>\n",
       "      <td>4</td>\n",
       "      <td>18</td>\n",
       "      <td>1961</td>\n",
       "      <td>295000</td>\n",
       "    </tr>\n",
       "    <tr>\n",
       "      <th>4</th>\n",
       "      <td>Deze ruime en  goed  onderhouden eindwoning  m...</td>\n",
       "      <td>126</td>\n",
       "      <td>131</td>\n",
       "      <td>1983</td>\n",
       "      <td>Tuin</td>\n",
       "      <td>Eengezinswoning, eindwoning</td>\n",
       "      <td>A</td>\n",
       "      <td>1 badkamer en 1 apart toilet</td>\n",
       "      <td>29</td>\n",
       "      <td>2021-11-26</td>\n",
       "      <td>2021-12-20</td>\n",
       "      <td>3 weken</td>\n",
       "      <td>Rotterdam</td>\n",
       "      <td>3068GN</td>\n",
       "      <td>345.000</td>\n",
       "      <td>5</td>\n",
       "      <td>4</td>\n",
       "      <td>24</td>\n",
       "      <td>1983</td>\n",
       "      <td>345000</td>\n",
       "    </tr>\n",
       "  </tbody>\n",
       "</table>\n",
       "</div>"
      ],
      "text/plain": [
       "                                    house_description  living_area_surface  \\\n",
       "id                                                                           \n",
       "0   Een heerlijk, lichte  middenwoning  gelegen in...                  115   \n",
       "1   Instapklare en ruime  twee-onder-een-kapwoning...                  130   \n",
       "2   Mooie en ruime  helft  van een  dubbel woonhui...                  124   \n",
       "3   Geheel opgeknapte hoekwoning  met  dakopbouw e...                   92   \n",
       "4   Deze ruime en  goed  onderhouden eindwoning  m...                  126   \n",
       "\n",
       "    property_surface construction_year garden  \\\n",
       "id                                              \n",
       "0                166              1962   Tuin   \n",
       "1                243              1992   Tuin   \n",
       "2                245              1981   Tuin   \n",
       "3                257              1961   Tuin   \n",
       "4                131              1983   Tuin   \n",
       "\n",
       "                              type_house energy_label  \\\n",
       "id                                                      \n",
       "0          Eengezinswoning, tussenwoning            D   \n",
       "1   Eengezinswoning, 2-onder-1-kapwoning            A   \n",
       "2   Eengezinswoning, 2-onder-1-kapwoning            C   \n",
       "3            Eengezinswoning, hoekwoning            D   \n",
       "4            Eengezinswoning, eindwoning            A   \n",
       "\n",
       "                number_bathrooms  aantalfotos publication_date  \\\n",
       "id                                                               \n",
       "0   1 badkamer en 1 apart toilet           61       2021-10-27   \n",
       "1   1 badkamer en 1 apart toilet           46       2021-07-10   \n",
       "2   1 badkamer en 1 apart toilet           43       2021-08-17   \n",
       "3   1 badkamer en 1 apart toilet           35       2021-08-27   \n",
       "4   1 badkamer en 1 apart toilet           29       2021-11-26   \n",
       "\n",
       "   date_of_signiture  sell_time          plaats postcode ask_price  \\\n",
       "id                                                                   \n",
       "0         2021-11-24    4 weken          Heiloo   1851SK   375.000   \n",
       "1         2021-07-22   12 dagen         Vlijmen   5251SG   425.000   \n",
       "2         2021-11-29  3 maanden       Dinxperlo   7091TB   299.000   \n",
       "3         2021-09-14    2 weken  Hellevoetsluis   3222CA   295.000   \n",
       "4         2021-12-20    3 weken       Rotterdam   3068GN   345.000   \n",
       "\n",
       "    number_room  bedrooms  sell_time_cal  construction_year_1  asking_price  \n",
       "id                                                                           \n",
       "0             6         5             28                 1962        375000  \n",
       "1             5         4             12                 1992        425000  \n",
       "2             5         4            104                 1981        299000  \n",
       "3             5         4             18                 1961        295000  \n",
       "4             5         4             24                 1983        345000  "
      ]
     },
     "execution_count": 322,
     "metadata": {},
     "output_type": "execute_result"
    }
   ],
   "source": [
    "df.head()"
   ]
  },
  {
   "cell_type": "code",
   "execution_count": 323,
   "metadata": {
    "cell_id": "89905f2f-d1c6-4372-ba30-622eefec2c73",
    "deepnote_cell_type": "code",
    "deepnote_to_be_reexecuted": false,
    "execution_millis": 370,
    "execution_start": 1642512452939,
    "source_hash": "cd707925",
    "tags": []
   },
   "outputs": [],
   "source": [
    "#make column house_type1 with categorys\n",
    "#Split postcode\n",
    "new = df['type_house'].str.split(\" \", n = 1, expand = True)\n",
    "  \n",
    "# making separate first name column from new data frame\n",
    "df[\"type_house1\"]= new[0]\n",
    "  \n",
    "# making separate last name column from new data frame\n",
    "df[\"type_house2\"]= new[1]\n",
    "  \n",
    "# Dropping old Name columns"
   ]
  },
  {
   "cell_type": "code",
   "execution_count": 324,
   "metadata": {
    "cell_id": "f0fd3b50-fe86-488c-a17a-051216681067",
    "deepnote_cell_type": "code",
    "deepnote_output_heights": [
     611
    ],
    "deepnote_to_be_reexecuted": false,
    "execution_millis": 307,
    "execution_start": 1642512453317,
    "source_hash": "f48e4f55",
    "tags": []
   },
   "outputs": [
    {
     "data": {
      "text/plain": [
       "array(['Eengezinswoning,', 'Herenhuis,', 'Bovenwoning', 'Portiekflat',\n",
       "       'Maisonnette', 'Woonboerderij,', 'Galerijflat', 'Benedenwoning',\n",
       "       'Villa,', 'Penthouse', 'Bungalow,', 'Tussenverdieping',\n",
       "       'Portiekwoning', 'Landhuis,', 'Dubbel', 'Beneden', 'Grachtenpand,',\n",
       "       'Woonboot,', 'Woonwagen,', 'Landgoed,', 'Studentenkamer'],\n",
       "      dtype=object)"
      ]
     },
     "execution_count": 324,
     "metadata": {},
     "output_type": "execute_result"
    }
   ],
   "source": [
    "df['type_house1'].unique()"
   ]
  },
  {
   "cell_type": "code",
   "execution_count": 325,
   "metadata": {
    "cell_id": "11e2f9a8-511a-4a9d-bc25-5acb5da73b80",
    "deepnote_cell_type": "code",
    "deepnote_output_heights": [
     251.4375
    ],
    "deepnote_to_be_reexecuted": false,
    "execution_millis": 57,
    "execution_start": 1642512453341,
    "source_hash": "4c4f8b12",
    "tags": []
   },
   "outputs": [],
   "source": [
    "df['type_house1'] = df['type_house1'].str.strip(',')"
   ]
  },
  {
   "cell_type": "code",
   "execution_count": 326,
   "metadata": {
    "cell_id": "aa264a13-d494-4550-bd90-a334e5c6fb32",
    "deepnote_cell_type": "code",
    "deepnote_output_heights": [
     251.4375
    ],
    "deepnote_to_be_reexecuted": false,
    "execution_millis": 241,
    "execution_start": 1642512453404,
    "source_hash": "4b75280b",
    "tags": []
   },
   "outputs": [
    {
     "data": {
      "text/plain": [
       "id\n",
       "0         Eengezinswoning\n",
       "1         Eengezinswoning\n",
       "2         Eengezinswoning\n",
       "3         Eengezinswoning\n",
       "4         Eengezinswoning\n",
       "               ...       \n",
       "174955    Eengezinswoning\n",
       "174956    Eengezinswoning\n",
       "174957    Eengezinswoning\n",
       "174958              Villa\n",
       "174959    Eengezinswoning\n",
       "Name: type_house1, Length: 169717, dtype: object"
      ]
     },
     "execution_count": 326,
     "metadata": {},
     "output_type": "execute_result"
    }
   ],
   "source": [
    "df['type_house1']"
   ]
  },
  {
   "cell_type": "code",
   "execution_count": 327,
   "metadata": {
    "cell_id": "a5715161-cfaf-49e4-9ab2-161ade2f14c3",
    "deepnote_cell_type": "code",
    "deepnote_to_be_reexecuted": false,
    "execution_millis": 0,
    "execution_start": 1642512453420,
    "source_hash": "1acd3f1a",
    "tags": []
   },
   "outputs": [],
   "source": [
    "del df['type_house2']"
   ]
  },
  {
   "cell_type": "code",
   "execution_count": 349,
   "metadata": {},
   "outputs": [],
   "source": [
    "#df.dtypes"
   ]
  },
  {
   "cell_type": "code",
   "execution_count": 347,
   "metadata": {},
   "outputs": [
    {
     "data": {
      "text/html": [
       "<div>\n",
       "<style scoped>\n",
       "    .dataframe tbody tr th:only-of-type {\n",
       "        vertical-align: middle;\n",
       "    }\n",
       "\n",
       "    .dataframe tbody tr th {\n",
       "        vertical-align: top;\n",
       "    }\n",
       "\n",
       "    .dataframe thead th {\n",
       "        text-align: right;\n",
       "    }\n",
       "</style>\n",
       "<table border=\"1\" class=\"dataframe\">\n",
       "  <thead>\n",
       "    <tr style=\"text-align: right;\">\n",
       "      <th></th>\n",
       "      <th>house_description</th>\n",
       "      <th>living_area_surface</th>\n",
       "      <th>property_surface</th>\n",
       "      <th>construction_year</th>\n",
       "      <th>garden</th>\n",
       "      <th>type_house</th>\n",
       "      <th>energy_label</th>\n",
       "      <th>number_bathrooms</th>\n",
       "      <th>aantalfotos</th>\n",
       "      <th>publication_date</th>\n",
       "      <th>...</th>\n",
       "      <th>plaats</th>\n",
       "      <th>postcode</th>\n",
       "      <th>ask_price</th>\n",
       "      <th>number_room</th>\n",
       "      <th>bedrooms</th>\n",
       "      <th>sell_time_cal</th>\n",
       "      <th>construction_year_1</th>\n",
       "      <th>asking_price</th>\n",
       "      <th>type_house1</th>\n",
       "      <th>aantalfotos_cat</th>\n",
       "    </tr>\n",
       "    <tr>\n",
       "      <th>id</th>\n",
       "      <th></th>\n",
       "      <th></th>\n",
       "      <th></th>\n",
       "      <th></th>\n",
       "      <th></th>\n",
       "      <th></th>\n",
       "      <th></th>\n",
       "      <th></th>\n",
       "      <th></th>\n",
       "      <th></th>\n",
       "      <th></th>\n",
       "      <th></th>\n",
       "      <th></th>\n",
       "      <th></th>\n",
       "      <th></th>\n",
       "      <th></th>\n",
       "      <th></th>\n",
       "      <th></th>\n",
       "      <th></th>\n",
       "      <th></th>\n",
       "      <th></th>\n",
       "    </tr>\n",
       "  </thead>\n",
       "  <tbody>\n",
       "    <tr>\n",
       "      <th>0</th>\n",
       "      <td>Een heerlijk, lichte  middenwoning  gelegen in...</td>\n",
       "      <td>115</td>\n",
       "      <td>166</td>\n",
       "      <td>1962</td>\n",
       "      <td>Tuin</td>\n",
       "      <td>Eengezinswoning, tussenwoning</td>\n",
       "      <td>D</td>\n",
       "      <td>1 badkamer en 1 apart toilet</td>\n",
       "      <td>61</td>\n",
       "      <td>2021-10-27</td>\n",
       "      <td>...</td>\n",
       "      <td>Heiloo</td>\n",
       "      <td>1851SK</td>\n",
       "      <td>375.000</td>\n",
       "      <td>6</td>\n",
       "      <td>5</td>\n",
       "      <td>28</td>\n",
       "      <td>1962</td>\n",
       "      <td>375000</td>\n",
       "      <td>Eengezinswoning</td>\n",
       "      <td>(55.2, 62.8]</td>\n",
       "    </tr>\n",
       "    <tr>\n",
       "      <th>1</th>\n",
       "      <td>Instapklare en ruime  twee-onder-een-kapwoning...</td>\n",
       "      <td>130</td>\n",
       "      <td>243</td>\n",
       "      <td>1992</td>\n",
       "      <td>Tuin</td>\n",
       "      <td>Eengezinswoning, 2-onder-1-kapwoning</td>\n",
       "      <td>A</td>\n",
       "      <td>1 badkamer en 1 apart toilet</td>\n",
       "      <td>46</td>\n",
       "      <td>2021-07-10</td>\n",
       "      <td>...</td>\n",
       "      <td>Vlijmen</td>\n",
       "      <td>5251SG</td>\n",
       "      <td>425.000</td>\n",
       "      <td>5</td>\n",
       "      <td>4</td>\n",
       "      <td>12</td>\n",
       "      <td>1992</td>\n",
       "      <td>425000</td>\n",
       "      <td>Eengezinswoning</td>\n",
       "      <td>(40.0, 47.6]</td>\n",
       "    </tr>\n",
       "    <tr>\n",
       "      <th>2</th>\n",
       "      <td>Mooie en ruime  helft  van een  dubbel woonhui...</td>\n",
       "      <td>124</td>\n",
       "      <td>245</td>\n",
       "      <td>1981</td>\n",
       "      <td>Tuin</td>\n",
       "      <td>Eengezinswoning, 2-onder-1-kapwoning</td>\n",
       "      <td>C</td>\n",
       "      <td>1 badkamer en 1 apart toilet</td>\n",
       "      <td>43</td>\n",
       "      <td>2021-08-17</td>\n",
       "      <td>...</td>\n",
       "      <td>Dinxperlo</td>\n",
       "      <td>7091TB</td>\n",
       "      <td>299.000</td>\n",
       "      <td>5</td>\n",
       "      <td>4</td>\n",
       "      <td>104</td>\n",
       "      <td>1981</td>\n",
       "      <td>299000</td>\n",
       "      <td>Eengezinswoning</td>\n",
       "      <td>(40.0, 47.6]</td>\n",
       "    </tr>\n",
       "    <tr>\n",
       "      <th>3</th>\n",
       "      <td>Geheel opgeknapte hoekwoning  met  dakopbouw e...</td>\n",
       "      <td>92</td>\n",
       "      <td>257</td>\n",
       "      <td>1961</td>\n",
       "      <td>Tuin</td>\n",
       "      <td>Eengezinswoning, hoekwoning</td>\n",
       "      <td>D</td>\n",
       "      <td>1 badkamer en 1 apart toilet</td>\n",
       "      <td>35</td>\n",
       "      <td>2021-08-27</td>\n",
       "      <td>...</td>\n",
       "      <td>Hellevoetsluis</td>\n",
       "      <td>3222CA</td>\n",
       "      <td>295.000</td>\n",
       "      <td>5</td>\n",
       "      <td>4</td>\n",
       "      <td>18</td>\n",
       "      <td>1961</td>\n",
       "      <td>295000</td>\n",
       "      <td>Eengezinswoning</td>\n",
       "      <td>(32.4, 40.0]</td>\n",
       "    </tr>\n",
       "    <tr>\n",
       "      <th>4</th>\n",
       "      <td>Deze ruime en  goed  onderhouden eindwoning  m...</td>\n",
       "      <td>126</td>\n",
       "      <td>131</td>\n",
       "      <td>1983</td>\n",
       "      <td>Tuin</td>\n",
       "      <td>Eengezinswoning, eindwoning</td>\n",
       "      <td>A</td>\n",
       "      <td>1 badkamer en 1 apart toilet</td>\n",
       "      <td>29</td>\n",
       "      <td>2021-11-26</td>\n",
       "      <td>...</td>\n",
       "      <td>Rotterdam</td>\n",
       "      <td>3068GN</td>\n",
       "      <td>345.000</td>\n",
       "      <td>5</td>\n",
       "      <td>4</td>\n",
       "      <td>24</td>\n",
       "      <td>1983</td>\n",
       "      <td>345000</td>\n",
       "      <td>Eengezinswoning</td>\n",
       "      <td>(24.8, 32.4]</td>\n",
       "    </tr>\n",
       "  </tbody>\n",
       "</table>\n",
       "<p>5 rows × 22 columns</p>\n",
       "</div>"
      ],
      "text/plain": [
       "                                    house_description  living_area_surface  \\\n",
       "id                                                                           \n",
       "0   Een heerlijk, lichte  middenwoning  gelegen in...                  115   \n",
       "1   Instapklare en ruime  twee-onder-een-kapwoning...                  130   \n",
       "2   Mooie en ruime  helft  van een  dubbel woonhui...                  124   \n",
       "3   Geheel opgeknapte hoekwoning  met  dakopbouw e...                   92   \n",
       "4   Deze ruime en  goed  onderhouden eindwoning  m...                  126   \n",
       "\n",
       "    property_surface construction_year garden  \\\n",
       "id                                              \n",
       "0                166              1962   Tuin   \n",
       "1                243              1992   Tuin   \n",
       "2                245              1981   Tuin   \n",
       "3                257              1961   Tuin   \n",
       "4                131              1983   Tuin   \n",
       "\n",
       "                              type_house energy_label  \\\n",
       "id                                                      \n",
       "0          Eengezinswoning, tussenwoning            D   \n",
       "1   Eengezinswoning, 2-onder-1-kapwoning            A   \n",
       "2   Eengezinswoning, 2-onder-1-kapwoning            C   \n",
       "3            Eengezinswoning, hoekwoning            D   \n",
       "4            Eengezinswoning, eindwoning            A   \n",
       "\n",
       "                number_bathrooms  aantalfotos publication_date  ...  \\\n",
       "id                                                              ...   \n",
       "0   1 badkamer en 1 apart toilet           61       2021-10-27  ...   \n",
       "1   1 badkamer en 1 apart toilet           46       2021-07-10  ...   \n",
       "2   1 badkamer en 1 apart toilet           43       2021-08-17  ...   \n",
       "3   1 badkamer en 1 apart toilet           35       2021-08-27  ...   \n",
       "4   1 badkamer en 1 apart toilet           29       2021-11-26  ...   \n",
       "\n",
       "            plaats postcode ask_price number_room bedrooms  sell_time_cal  \\\n",
       "id                                                                          \n",
       "0           Heiloo   1851SK   375.000           6        5             28   \n",
       "1          Vlijmen   5251SG   425.000           5        4             12   \n",
       "2        Dinxperlo   7091TB   299.000           5        4            104   \n",
       "3   Hellevoetsluis   3222CA   295.000           5        4             18   \n",
       "4        Rotterdam   3068GN   345.000           5        4             24   \n",
       "\n",
       "    construction_year_1  asking_price      type_house1  aantalfotos_cat  \n",
       "id                                                                       \n",
       "0                  1962        375000  Eengezinswoning     (55.2, 62.8]  \n",
       "1                  1992        425000  Eengezinswoning     (40.0, 47.6]  \n",
       "2                  1981        299000  Eengezinswoning     (40.0, 47.6]  \n",
       "3                  1961        295000  Eengezinswoning     (32.4, 40.0]  \n",
       "4                  1983        345000  Eengezinswoning     (24.8, 32.4]  \n",
       "\n",
       "[5 rows x 22 columns]"
      ]
     },
     "execution_count": 347,
     "metadata": {},
     "output_type": "execute_result"
    }
   ],
   "source": [
    "df.head()"
   ]
  },
  {
   "cell_type": "code",
   "execution_count": 328,
   "metadata": {
    "cell_id": "00025-bd2cd000-f369-47a6-a022-9f77442e4b05",
    "deepnote_cell_type": "code",
    "deepnote_to_be_reexecuted": false,
    "execution_millis": 1,
    "execution_start": 1642512453420,
    "source_hash": "a4bb6d81"
   },
   "outputs": [],
   "source": [
    "#class NameRemapper(object):\n",
    "    #renamings = {\n",
    "        #'type_house': {\n",
    "            #'Eengezinswoning, tussenwoning': '0',\n",
    "            #'Eengezinswoing, 2-onder-1-kapwoning': '1'\n",
    "        #},\n",
    "        #'education': {\n",
    "            #'0': 'unknown_0',\n",
    "            #'1': 'graduate school',\n",
    "            #'2': 'university',\n",
    "            #'3': 'high school',\n",
    "            #'4': 'others',\n",
    "            #'5': 'unknown_5',\n",
    "            #'6': 'unknown_6'\n",
    "        #},\n",
    "        #'marriage': {\n",
    "            #'0': 'others_0',\n",
    "            #'1': 'married',\n",
    "            #'2': 'single',\n",
    "            #'3': 'others'\n",
    "        #}\n",
    "    #}\n",
    "\n",
    "    #def rename_columns(self, df, copy=True):\n",
    "        #if copy is True:\n",
    "            #df = df.copy()\n",
    "        #for i in self.renamings.keys():\n",
    "            #if i in df.columns:\n",
    "                #df[i] = df[i].map(self.renamings[i])\n",
    "        #return df\n",
    "\n",
    "#name_remapper = NameRemapper()"
   ]
  },
  {
   "cell_type": "code",
   "execution_count": 329,
   "metadata": {
    "cell_id": "00026-fb719a3b-486d-44d0-921a-e3a4830ca546",
    "deepnote_cell_type": "code",
    "deepnote_output_heights": [
     90
    ],
    "deepnote_to_be_reexecuted": false,
    "execution_millis": 1,
    "execution_start": 1642512453422,
    "source_hash": "f208f7ed"
   },
   "outputs": [],
   "source": [
    "#(\n",
    "    #credit_card_df.groupby('default')\n",
    "    #.size()\n",
    "    #.reset_index(name='N')\n",
    "    #.assign(total = lambda x: x.N.sum())\n",
    "    #.assign(p = lambda x: x.N / x.total * 100)\n",
    "#)"
   ]
  },
  {
   "cell_type": "code",
   "execution_count": 330,
   "metadata": {
    "cell_id": "f1399adc-c2b7-4531-90d5-1f2879b25623",
    "deepnote_cell_type": "code",
    "deepnote_to_be_reexecuted": false,
    "execution_millis": 17543,
    "execution_start": 1642512491748,
    "source_hash": "4f5c6e99",
    "tags": []
   },
   "outputs": [],
   "source": [
    "#to export csv\n",
    "df.to_csv('funda_after_eda.csv')"
   ]
  },
  {
   "cell_type": "markdown",
   "metadata": {
    "cell_id": "00027-32c9c412-e1ad-49c7-978d-3feb52f83562",
    "deepnote_cell_type": "markdown"
   },
   "source": [
    "- We have an imbalanced classification dataset. This means that the target label that we want to predict is not distributed evenly (i.e., 50% of the observations from class 0 and 50% of the observations from class 1). Here the negative class (=no default) dominates, which is typical for these kind of financial applications\n",
    "\n",
    "- The more imbalanced the dataset, the harder it is for standard classification algorithms to achieve good performance. Most algorithm's performance peaks at a perfectly balanced dataset and degrades the more imbalance there is.\n",
    "\n",
    "- In our case the imbalance is not too bad. In practice, you can have datasets with 5% or fewer observations from the positive class for this kind of applications.\n",
    "\n",
    "- There are many options on how to deal with imbalance and it's an active area of research. Some possibilities are:\n",
    "  - downsample the dominant class. In this case, we could downsample from the 0 class so as to achieve parity with the 1 class. The downside of this, of course, is that we discard data that could hold relevant information for the predictive task at hand\n",
    "\n",
    "  - generate artificial data from the minority class. A method to do this is, e.g., the smote method: https://imbalanced-learn.org/stable/references/generated/imblearn.over_sampling.SMOTE.html, see https://machinelearningmastery.com/smote-oversampling-for-imbalanced-classification/ for an explanation."
   ]
  },
  {
   "cell_type": "markdown",
   "metadata": {
    "cell_id": "00028-7f69904c-15ea-48f1-bdb4-40143c48aab2",
    "deepnote_cell_type": "markdown"
   },
   "source": [
    "See below a visual explanation of the smote technique to oversample the minority class. For a member of the minority class x, we calculate its k-nearest-neighbors and generate m synthetic minority class examples by randomly picking a point on the line connecting them."
   ]
  },
  {
   "cell_type": "markdown",
   "metadata": {
    "cell_id": "00029-b7e992fb-8b42-4ed0-a625-20893263b230",
    "deepnote_cell_type": "markdown"
   },
   "source": [
    "!['Smote diagram'](img/smote_diagram.png)"
   ]
  },
  {
   "cell_type": "markdown",
   "metadata": {
    "cell_id": "00030-18ce3e58-b25f-4ead-a1fb-13fbd6591ce4",
    "deepnote_cell_type": "markdown"
   },
   "source": [
    "For the present dataset, however, the imbalance is not that severe. So we continue we the dataset without undersampling/oversampling."
   ]
  },
  {
   "cell_type": "code",
   "execution_count": 331,
   "metadata": {
    "cell_id": "00031-930a9f5f-a194-4c37-84f2-b4a7aa01eec2",
    "deepnote_cell_type": "code",
    "deepnote_output_heights": [
     78.796875
    ],
    "deepnote_to_be_reexecuted": true,
    "execution_millis": 0,
    "execution_start": 1642433537709,
    "source_hash": "4210630"
   },
   "outputs": [],
   "source": [
    "#divid column into x categories\n",
    "df = df.assign(aantalfotos_cat = pd.cut(df['aantalfotos'], 5, labels = ['very low', 'low', 'medium', 'high', 'very high']))"
   ]
  },
  {
   "cell_type": "code",
   "execution_count": 332,
   "metadata": {
    "cell_id": "00032-80dd67c0-99fd-42ee-81d1-71fbebe741cc",
    "deepnote_cell_type": "code",
    "deepnote_to_be_reexecuted": true,
    "execution_millis": 1,
    "execution_start": 1642433537710,
    "source_hash": "6835e4dd"
   },
   "outputs": [],
   "source": [
    "#frequenty table\n",
    "def generate_freq_table(df, variable = ['garden']):\n",
    "    dfs = []\n",
    "    for i in variable:\n",
    "        df_count = (\n",
    "            df.groupby(i)\n",
    "            .size()\n",
    "            .reset_index(name='N')\n",
    "            .assign(var = i)\n",
    "            .rename(columns={i: 'category'})\n",
    "        )\n",
    "        dfs.append(df_count)\n",
    "        res = pd.concat(dfs)\n",
    "        res['category'] = res['category'].astype(str)\n",
    "    return res"
   ]
  },
  {
   "cell_type": "code",
   "execution_count": 333,
   "metadata": {
    "cell_id": "00033-f2bc0439-1d85-46d9-9c41-f7df4a8b39c7",
    "deepnote_cell_type": "code",
    "deepnote_output_heights": [
     438
    ],
    "deepnote_table_loading": false,
    "deepnote_table_state": {
     "filters": [],
     "pageIndex": 0,
     "pageSize": 10,
     "sortBy": []
    },
    "deepnote_to_be_reexecuted": true,
    "execution_millis": 4,
    "execution_start": 1642433537741,
    "source_hash": "ed3edd7a"
   },
   "outputs": [
    {
     "data": {
      "text/html": [
       "<div>\n",
       "<style scoped>\n",
       "    .dataframe tbody tr th:only-of-type {\n",
       "        vertical-align: middle;\n",
       "    }\n",
       "\n",
       "    .dataframe tbody tr th {\n",
       "        vertical-align: top;\n",
       "    }\n",
       "\n",
       "    .dataframe thead th {\n",
       "        text-align: right;\n",
       "    }\n",
       "</style>\n",
       "<table border=\"1\" class=\"dataframe\">\n",
       "  <thead>\n",
       "    <tr style=\"text-align: right;\">\n",
       "      <th></th>\n",
       "      <th>category</th>\n",
       "      <th>N</th>\n",
       "      <th>var</th>\n",
       "    </tr>\n",
       "  </thead>\n",
       "  <tbody>\n",
       "    <tr>\n",
       "      <th>0</th>\n",
       "      <td>Achtertuin</td>\n",
       "      <td>8904</td>\n",
       "      <td>garden</td>\n",
       "    </tr>\n",
       "    <tr>\n",
       "      <th>1</th>\n",
       "      <td>Balkon/dakterras</td>\n",
       "      <td>24627</td>\n",
       "      <td>garden</td>\n",
       "    </tr>\n",
       "    <tr>\n",
       "      <th>2</th>\n",
       "      <td>Geen tuin</td>\n",
       "      <td>22827</td>\n",
       "      <td>garden</td>\n",
       "    </tr>\n",
       "    <tr>\n",
       "      <th>3</th>\n",
       "      <td>Patio/atrium</td>\n",
       "      <td>77</td>\n",
       "      <td>garden</td>\n",
       "    </tr>\n",
       "    <tr>\n",
       "      <th>4</th>\n",
       "      <td>Tuin</td>\n",
       "      <td>112533</td>\n",
       "      <td>garden</td>\n",
       "    </tr>\n",
       "    <tr>\n",
       "      <th>5</th>\n",
       "      <td>Voortuin</td>\n",
       "      <td>146</td>\n",
       "      <td>garden</td>\n",
       "    </tr>\n",
       "    <tr>\n",
       "      <th>6</th>\n",
       "      <td>Voorzieningen</td>\n",
       "      <td>254</td>\n",
       "      <td>garden</td>\n",
       "    </tr>\n",
       "    <tr>\n",
       "      <th>7</th>\n",
       "      <td>Zijtuin</td>\n",
       "      <td>153</td>\n",
       "      <td>garden</td>\n",
       "    </tr>\n",
       "    <tr>\n",
       "      <th>8</th>\n",
       "      <td>Zonneterras</td>\n",
       "      <td>196</td>\n",
       "      <td>garden</td>\n",
       "    </tr>\n",
       "    <tr>\n",
       "      <th>0</th>\n",
       "      <td>very low</td>\n",
       "      <td>69380</td>\n",
       "      <td>aantalfotos_cat</td>\n",
       "    </tr>\n",
       "    <tr>\n",
       "      <th>1</th>\n",
       "      <td>low</td>\n",
       "      <td>95275</td>\n",
       "      <td>aantalfotos_cat</td>\n",
       "    </tr>\n",
       "    <tr>\n",
       "      <th>2</th>\n",
       "      <td>medium</td>\n",
       "      <td>4856</td>\n",
       "      <td>aantalfotos_cat</td>\n",
       "    </tr>\n",
       "    <tr>\n",
       "      <th>3</th>\n",
       "      <td>high</td>\n",
       "      <td>191</td>\n",
       "      <td>aantalfotos_cat</td>\n",
       "    </tr>\n",
       "    <tr>\n",
       "      <th>4</th>\n",
       "      <td>very high</td>\n",
       "      <td>15</td>\n",
       "      <td>aantalfotos_cat</td>\n",
       "    </tr>\n",
       "  </tbody>\n",
       "</table>\n",
       "</div>"
      ],
      "text/plain": [
       "           category       N              var\n",
       "0        Achtertuin    8904           garden\n",
       "1  Balkon/dakterras   24627           garden\n",
       "2         Geen tuin   22827           garden\n",
       "3      Patio/atrium      77           garden\n",
       "4              Tuin  112533           garden\n",
       "5          Voortuin     146           garden\n",
       "6     Voorzieningen     254           garden\n",
       "7           Zijtuin     153           garden\n",
       "8       Zonneterras     196           garden\n",
       "0          very low   69380  aantalfotos_cat\n",
       "1               low   95275  aantalfotos_cat\n",
       "2            medium    4856  aantalfotos_cat\n",
       "3              high     191  aantalfotos_cat\n",
       "4         very high      15  aantalfotos_cat"
      ]
     },
     "execution_count": 333,
     "metadata": {},
     "output_type": "execute_result"
    }
   ],
   "source": [
    "#decide what column to use for freq_table\n",
    "generate_freq_table(df, ['garden','aantalfotos_cat'])"
   ]
  },
  {
   "cell_type": "code",
   "execution_count": 334,
   "metadata": {
    "cell_id": "00034-92475377-a183-4747-9f63-1f66735a50b6",
    "deepnote_cell_type": "code",
    "deepnote_to_be_reexecuted": true,
    "execution_millis": 3,
    "execution_start": 1642433537746,
    "source_hash": "ffce7b1a"
   },
   "outputs": [],
   "source": [
    "def generate_freq_plot(freq_table):\n",
    "    return (\n",
    "        ggplot(freq_table, aes(x='var', y='N', fill='category')) +\n",
    "        geom_col(stat='identity', position='dodge')\n",
    "    )"
   ]
  },
  {
   "cell_type": "code",
   "execution_count": 335,
   "metadata": {
    "cell_id": "00035-534b959c-03f7-45b4-acb7-0ba3a5c99cbf",
    "deepnote_cell_type": "code",
    "deepnote_output_heights": [
     432,
     21.1875
    ],
    "deepnote_to_be_reexecuted": true,
    "execution_millis": 491,
    "execution_start": 1642433537756,
    "source_hash": "1bb23d0f"
   },
   "outputs": [
    {
     "data": {
      "image/png": "[encoded data removed]",
      "text/plain": [
       "<Figure size 640x480 with 1 Axes>"
      ]
     },
     "metadata": {},
     "output_type": "display_data"
    },
    {
     "data": {
      "text/plain": [
       "<ggplot: (130273086248)>"
      ]
     },
     "execution_count": 335,
     "metadata": {},
     "output_type": "execute_result"
    }
   ],
   "source": [
    "generate_freq_plot(generate_freq_table(df, ['garden']))"
   ]
  },
  {
   "cell_type": "code",
   "execution_count": 336,
   "metadata": {
    "cell_id": "00036-025e055e-2720-436d-a612-0ff9e58c1114",
    "deepnote_cell_type": "code",
    "deepnote_output_heights": [
     432,
     21.1875
    ],
    "deepnote_to_be_reexecuted": true,
    "execution_millis": 488,
    "execution_start": 1642433538257,
    "source_hash": "1bb23d0f"
   },
   "outputs": [
    {
     "data": {
      "image/png": "[encoded data removed]",
      "text/plain": [
       "<Figure size 640x480 with 1 Axes>"
      ]
     },
     "metadata": {},
     "output_type": "display_data"
    },
    {
     "data": {
      "text/plain": [
       "<ggplot: (130273088100)>"
      ]
     },
     "execution_count": 336,
     "metadata": {},
     "output_type": "execute_result"
    }
   ],
   "source": [
    "generate_freq_plot(generate_freq_table(df, ['garden']))"
   ]
  },
  {
   "cell_type": "code",
   "execution_count": 337,
   "metadata": {
    "cell_id": "00037-3a599237-2c24-494e-8a0e-5e3d1d5e5b55",
    "deepnote_cell_type": "code",
    "deepnote_output_heights": [
     569,
     21.1875
    ],
    "deepnote_table_loading": false,
    "deepnote_table_state": {
     "filters": [],
     "pageIndex": 0,
     "pageSize": 10,
     "sortBy": []
    },
    "deepnote_to_be_reexecuted": true,
    "execution_millis": 809,
    "execution_start": 1642435803035,
    "source_hash": "8d9de517"
   },
   "outputs": [
    {
     "data": {
      "image/png": "[encoded data removed]",
      "text/plain": [
       "<Figure size 640x480 with 1 Axes>"
      ]
     },
     "metadata": {},
     "output_type": "display_data"
    },
    {
     "data": {
      "text/plain": [
       "<ggplot: (130282475249)>"
      ]
     },
     "execution_count": 337,
     "metadata": {},
     "output_type": "execute_result"
    }
   ],
   "source": [
    "df = df.assign(aantalfotos_cat = pd.cut(df['aantalfotos'], 20))\n",
    "generate_freq_plot(generate_freq_table(df, ['aantalfotos_cat']))"
   ]
  },
  {
   "cell_type": "code",
   "execution_count": 338,
   "metadata": {
    "cell_id": "5a05516f-4174-4d46-aabb-e4b0dec2e66c",
    "deepnote_cell_type": "code",
    "deepnote_table_loading": false,
    "deepnote_table_state": {
     "filters": [],
     "pageIndex": 0,
     "pageSize": 10,
     "sortBy": [
      {
       "id": "category",
       "type": "asc"
      }
     ]
    },
    "deepnote_to_be_reexecuted": true,
    "execution_millis": 33,
    "execution_start": 1642435845422,
    "source_hash": "5088b758",
    "tags": []
   },
   "outputs": [
    {
     "data": {
      "text/html": [
       "<div>\n",
       "<style scoped>\n",
       "    .dataframe tbody tr th:only-of-type {\n",
       "        vertical-align: middle;\n",
       "    }\n",
       "\n",
       "    .dataframe tbody tr th {\n",
       "        vertical-align: top;\n",
       "    }\n",
       "\n",
       "    .dataframe thead th {\n",
       "        text-align: right;\n",
       "    }\n",
       "</style>\n",
       "<table border=\"1\" class=\"dataframe\">\n",
       "  <thead>\n",
       "    <tr style=\"text-align: right;\">\n",
       "      <th></th>\n",
       "      <th>category</th>\n",
       "      <th>N</th>\n",
       "      <th>var</th>\n",
       "    </tr>\n",
       "  </thead>\n",
       "  <tbody>\n",
       "    <tr>\n",
       "      <th>0</th>\n",
       "      <td>(1.848, 9.6]</td>\n",
       "      <td>5722</td>\n",
       "      <td>aantalfotos_cat</td>\n",
       "    </tr>\n",
       "    <tr>\n",
       "      <th>1</th>\n",
       "      <td>(9.6, 17.2]</td>\n",
       "      <td>4842</td>\n",
       "      <td>aantalfotos_cat</td>\n",
       "    </tr>\n",
       "    <tr>\n",
       "      <th>2</th>\n",
       "      <td>(17.2, 24.8]</td>\n",
       "      <td>16377</td>\n",
       "      <td>aantalfotos_cat</td>\n",
       "    </tr>\n",
       "    <tr>\n",
       "      <th>3</th>\n",
       "      <td>(24.8, 32.4]</td>\n",
       "      <td>42439</td>\n",
       "      <td>aantalfotos_cat</td>\n",
       "    </tr>\n",
       "    <tr>\n",
       "      <th>4</th>\n",
       "      <td>(32.4, 40.0]</td>\n",
       "      <td>48004</td>\n",
       "      <td>aantalfotos_cat</td>\n",
       "    </tr>\n",
       "    <tr>\n",
       "      <th>5</th>\n",
       "      <td>(40.0, 47.6]</td>\n",
       "      <td>26277</td>\n",
       "      <td>aantalfotos_cat</td>\n",
       "    </tr>\n",
       "    <tr>\n",
       "      <th>6</th>\n",
       "      <td>(47.6, 55.2]</td>\n",
       "      <td>15132</td>\n",
       "      <td>aantalfotos_cat</td>\n",
       "    </tr>\n",
       "    <tr>\n",
       "      <th>7</th>\n",
       "      <td>(55.2, 62.8]</td>\n",
       "      <td>5862</td>\n",
       "      <td>aantalfotos_cat</td>\n",
       "    </tr>\n",
       "    <tr>\n",
       "      <th>8</th>\n",
       "      <td>(62.8, 70.4]</td>\n",
       "      <td>2945</td>\n",
       "      <td>aantalfotos_cat</td>\n",
       "    </tr>\n",
       "    <tr>\n",
       "      <th>9</th>\n",
       "      <td>(70.4, 78.0]</td>\n",
       "      <td>1193</td>\n",
       "      <td>aantalfotos_cat</td>\n",
       "    </tr>\n",
       "    <tr>\n",
       "      <th>10</th>\n",
       "      <td>(78.0, 85.6]</td>\n",
       "      <td>475</td>\n",
       "      <td>aantalfotos_cat</td>\n",
       "    </tr>\n",
       "    <tr>\n",
       "      <th>11</th>\n",
       "      <td>(85.6, 93.2]</td>\n",
       "      <td>243</td>\n",
       "      <td>aantalfotos_cat</td>\n",
       "    </tr>\n",
       "    <tr>\n",
       "      <th>12</th>\n",
       "      <td>(93.2, 100.8]</td>\n",
       "      <td>105</td>\n",
       "      <td>aantalfotos_cat</td>\n",
       "    </tr>\n",
       "    <tr>\n",
       "      <th>13</th>\n",
       "      <td>(100.8, 108.4]</td>\n",
       "      <td>48</td>\n",
       "      <td>aantalfotos_cat</td>\n",
       "    </tr>\n",
       "    <tr>\n",
       "      <th>14</th>\n",
       "      <td>(108.4, 116.0]</td>\n",
       "      <td>27</td>\n",
       "      <td>aantalfotos_cat</td>\n",
       "    </tr>\n",
       "    <tr>\n",
       "      <th>15</th>\n",
       "      <td>(116.0, 123.6]</td>\n",
       "      <td>11</td>\n",
       "      <td>aantalfotos_cat</td>\n",
       "    </tr>\n",
       "    <tr>\n",
       "      <th>16</th>\n",
       "      <td>(123.6, 131.2]</td>\n",
       "      <td>9</td>\n",
       "      <td>aantalfotos_cat</td>\n",
       "    </tr>\n",
       "    <tr>\n",
       "      <th>17</th>\n",
       "      <td>(131.2, 138.8]</td>\n",
       "      <td>3</td>\n",
       "      <td>aantalfotos_cat</td>\n",
       "    </tr>\n",
       "    <tr>\n",
       "      <th>18</th>\n",
       "      <td>(138.8, 146.4]</td>\n",
       "      <td>1</td>\n",
       "      <td>aantalfotos_cat</td>\n",
       "    </tr>\n",
       "    <tr>\n",
       "      <th>19</th>\n",
       "      <td>(146.4, 154.0]</td>\n",
       "      <td>2</td>\n",
       "      <td>aantalfotos_cat</td>\n",
       "    </tr>\n",
       "  </tbody>\n",
       "</table>\n",
       "</div>"
      ],
      "text/plain": [
       "          category      N              var\n",
       "0     (1.848, 9.6]   5722  aantalfotos_cat\n",
       "1      (9.6, 17.2]   4842  aantalfotos_cat\n",
       "2     (17.2, 24.8]  16377  aantalfotos_cat\n",
       "3     (24.8, 32.4]  42439  aantalfotos_cat\n",
       "4     (32.4, 40.0]  48004  aantalfotos_cat\n",
       "5     (40.0, 47.6]  26277  aantalfotos_cat\n",
       "6     (47.6, 55.2]  15132  aantalfotos_cat\n",
       "7     (55.2, 62.8]   5862  aantalfotos_cat\n",
       "8     (62.8, 70.4]   2945  aantalfotos_cat\n",
       "9     (70.4, 78.0]   1193  aantalfotos_cat\n",
       "10    (78.0, 85.6]    475  aantalfotos_cat\n",
       "11    (85.6, 93.2]    243  aantalfotos_cat\n",
       "12   (93.2, 100.8]    105  aantalfotos_cat\n",
       "13  (100.8, 108.4]     48  aantalfotos_cat\n",
       "14  (108.4, 116.0]     27  aantalfotos_cat\n",
       "15  (116.0, 123.6]     11  aantalfotos_cat\n",
       "16  (123.6, 131.2]      9  aantalfotos_cat\n",
       "17  (131.2, 138.8]      3  aantalfotos_cat\n",
       "18  (138.8, 146.4]      1  aantalfotos_cat\n",
       "19  (146.4, 154.0]      2  aantalfotos_cat"
      ]
     },
     "execution_count": 338,
     "metadata": {},
     "output_type": "execute_result"
    }
   ],
   "source": [
    "generate_freq_table(df, ['aantalfotos_cat'])"
   ]
  },
  {
   "cell_type": "markdown",
   "metadata": {
    "cell_id": "00038-1e17af38-e282-490f-a3e3-ffccada1c2ec",
    "deepnote_cell_type": "markdown"
   },
   "source": [
    "- The age variable is quite right skewed. This is normal with this kind of variables. However, often transforming variables so that they follow more closely a normal distribution can help with the performance of the model. \n",
    "\n",
    "- This can be achieved by applying e.g. a log or square root transformation to the variable.\n",
    "\n",
    "- More generally, one can use a box-cox transformation https://en.wikipedia.org/wiki/Power_transform from scipy.stats.boxcox to attempt to achieve a closer distribution to normality\n",
    "\n",
    "This is particularly the case if the target to be predicted is continuous and very right skewed, as it's often the case with e.g. house prices. Then, transforming the target so that it follows more closely a normal distribution can have a positive impact on the performance of the model. In this case, one trains a model to predict e.g. the log of the target, and to generate the actual prediction one applies the inverse transformation. Let's see an example on the age variable."
   ]
  },
  {
   "cell_type": "code",
   "execution_count": 339,
   "metadata": {
    "cell_id": "00039-6e4f208f-9cee-4d17-ba5e-aad65b160014",
    "deepnote_cell_type": "code",
    "deepnote_output_heights": [
     null,
     432,
     21.1875,
     null,
     433,
     21.1875
    ],
    "deepnote_to_be_reexecuted": true,
    "execution_millis": 2717,
    "execution_start": 1642433633472,
    "source_hash": "a66be9ed"
   },
   "outputs": [
    {
     "name": "stderr",
     "output_type": "stream",
     "text": [
      "C:\\Users\\Eigenaar\\anaconda3\\lib\\site-packages\\plotnine\\stats\\stat_bin.py:95: PlotnineWarning: 'stat_bin()' using 'bins = 281'. Pick better value with 'binwidth'.\n"
     ]
    },
    {
     "data": {
      "image/png": "[encoded data removed]",
      "text/plain": [
       "<Figure size 640x480 with 1 Axes>"
      ]
     },
     "metadata": {},
     "output_type": "display_data"
    },
    {
     "data": {
      "text/plain": [
       "<ggplot: (130281505762)>"
      ]
     },
     "execution_count": 339,
     "metadata": {},
     "output_type": "execute_result"
    },
    {
     "name": "stderr",
     "output_type": "stream",
     "text": [
      "C:\\Users\\Eigenaar\\anaconda3\\lib\\site-packages\\plotnine\\stats\\stat_bin.py:95: PlotnineWarning: 'stat_bin()' using 'bins = 281'. Pick better value with 'binwidth'.\n"
     ]
    },
    {
     "data": {
      "image/png": "[encoded data removed]",
      "text/plain": [
       "<Figure size 640x480 with 1 Axes>"
      ]
     },
     "metadata": {},
     "output_type": "display_data"
    },
    {
     "data": {
      "text/plain": [
       "<ggplot: (130272559108)>"
      ]
     },
     "execution_count": 339,
     "metadata": {},
     "output_type": "execute_result"
    }
   ],
   "source": [
    "# first we look at what the log transformation does\n",
    "(\n",
    "    ggplot(df, aes(x='aantalfotos')) +\n",
    "    geom_histogram()\n",
    ")\n",
    "\n",
    "(\n",
    "    ggplot(df.assign(aantalfotos_log = lambda x: np.log(x.aantalfotos)), aes(x='aantalfotos_log')) +\n",
    "    geom_histogram()\n",
    ")"
   ]
  },
  {
   "cell_type": "code",
   "execution_count": 340,
   "metadata": {
    "cell_id": "00040-15ac6d96-09ea-4dd5-b9f1-5e31ec483e41",
    "deepnote_cell_type": "code",
    "deepnote_output_heights": [
     null,
     433,
     21.1875
    ],
    "deepnote_to_be_reexecuted": true,
    "execution_millis": 1667,
    "execution_start": 1642433769121,
    "source_hash": "d9890881"
   },
   "outputs": [
    {
     "name": "stderr",
     "output_type": "stream",
     "text": [
      "C:\\Users\\Eigenaar\\anaconda3\\lib\\site-packages\\plotnine\\stats\\stat_bin.py:95: PlotnineWarning: 'stat_bin()' using 'bins = 259'. Pick better value with 'binwidth'.\n"
     ]
    },
    {
     "data": {
      "image/png": "[encoded data removed]",
      "text/plain": [
       "<Figure size 640x480 with 1 Axes>"
      ]
     },
     "metadata": {},
     "output_type": "display_data"
    },
    {
     "data": {
      "text/plain": [
       "<ggplot: (130272686327)>"
      ]
     },
     "execution_count": 340,
     "metadata": {},
     "output_type": "execute_result"
    },
    {
     "name": "stdout",
     "output_type": "stream",
     "text": [
      "Here's how the inverse of the box-coxed transformed age looks:\n",
      "[61. 46. 43. ... 49. 53. 55.]\n",
      "Which is identical to the original value of age:\n",
      "[61 46 43 ... 49 53 55]\n"
     ]
    }
   ],
   "source": [
    "# let's try a boxcox transform\n",
    "# first we find the box-cox transforms of the age column\n",
    "aantalfotos_boxed = scipy.stats.boxcox(df.aantalfotos) # returns a tuple with (1) vector of transformed values, (2) lambda value found by the optimizer. The lambda value specifies the exact closed-form of the transforming function\n",
    "aantalfotos_boxed_v = aantalfotos_boxed[0] # the transformed values\n",
    "aantalfotos_boxed_lambda = aantalfotos_boxed[1] # the lambda value found by the optimizer\n",
    "\n",
    "# the age variable now looks closer to normal, although the gaps in the range show that this approach has limited \n",
    "# value for an inherently discrete variable like age. However, for continuous variables this can substantially improve the performance of \n",
    "# your model\n",
    "(\n",
    "    ggplot(df.assign(aantalfotos_box = aantalfotos_boxed_v), aes(x='aantalfotos_box')) +\n",
    "    geom_histogram()\n",
    ")\n",
    "\n",
    "# we can then apply the inverse transform using box_cox_inv and passing in the lambda value. This will transform\n",
    "# the box-coxed age back to the original vector\n",
    "aantalfotos_boxed_inv = scipy.special.inv_boxcox(aantalfotos_boxed_v, aantalfotos_boxed_lambda)\n",
    "print(\"Here's how the inverse of the box-coxed transformed age looks:\")\n",
    "print(aantalfotos_boxed_inv)\n",
    "print(\"Which is identical to the original value of age:\")\n",
    "print(df.aantalfotos.to_numpy())"
   ]
  },
  {
   "cell_type": "markdown",
   "metadata": {
    "cell_id": "00041-dffa60a5-c1a7-4152-ac5d-e84837a64e91",
    "deepnote_cell_type": "markdown"
   },
   "source": [
    "We can calculate a frequency table with pd.crosstab, in order to evaluate where in the covariate space the highest concentration of defaults occur, and which variables are likely to be good class separators (predictors)."
   ]
  },
  {
   "cell_type": "code",
   "execution_count": 341,
   "metadata": {
    "cell_id": "00042-f03367a9-1958-4887-b6c5-e423e81e86b8",
    "deepnote_cell_type": "code",
    "deepnote_to_be_reexecuted": true,
    "execution_millis": 0,
    "execution_start": 1642434867275,
    "source_hash": "b4d21859"
   },
   "outputs": [],
   "source": [
    "def calculate_freq_table(df, variables):\n",
    "    var_series = [df[i] for i in variables]\n",
    "    freq_table = pd.crosstab(var_series, df['sell_time_cal'])\n",
    "    freq_table = freq_table.assign(N_obs = freq_table.sum(axis=1))\n",
    "    freq_table = freq_table.assign(p = freq_table[1]/freq_table.N_obs)\n",
    "    percentage_table = freq_table[['N_obs','p']]\n",
    "    percentage_table.columns.name = None\n",
    "    percentage_table = percentage_table.reset_index()\n",
    "    return freq_table, percentage_table"
   ]
  },
  {
   "cell_type": "code",
   "execution_count": 342,
   "metadata": {
    "cell_id": "00043-78bd61e1-27c5-4386-af61-cf6b3f5389f8",
    "deepnote_cell_type": "code",
    "deepnote_output_heights": [
     611
    ],
    "deepnote_to_be_reexecuted": true,
    "execution_millis": 449,
    "execution_start": 1642434925460,
    "source_hash": "7754cea"
   },
   "outputs": [],
   "source": [
    "freq_table_garden_energy_label = calculate_freq_table(df, ['garden', 'energy_label'])"
   ]
  },
  {
   "cell_type": "code",
   "execution_count": 343,
   "metadata": {
    "cell_id": "00044-c07479e2-0f18-430a-a921-9a95afee55ac",
    "deepnote_cell_type": "code",
    "deepnote_output_heights": [
     194
    ],
    "deepnote_to_be_reexecuted": true,
    "execution_millis": 3991,
    "execution_start": 1642434979189,
    "source_hash": "7cebe0dc"
   },
   "outputs": [
    {
     "data": {
      "text/html": [
       "<div>\n",
       "<style scoped>\n",
       "    .dataframe tbody tr th:only-of-type {\n",
       "        vertical-align: middle;\n",
       "    }\n",
       "\n",
       "    .dataframe tbody tr th {\n",
       "        vertical-align: top;\n",
       "    }\n",
       "\n",
       "    .dataframe thead th {\n",
       "        text-align: right;\n",
       "    }\n",
       "</style>\n",
       "<table border=\"1\" class=\"dataframe\">\n",
       "  <thead>\n",
       "    <tr style=\"text-align: right;\">\n",
       "      <th></th>\n",
       "      <th>garden</th>\n",
       "      <th>energy_label</th>\n",
       "      <th>N_obs</th>\n",
       "      <th>p</th>\n",
       "    </tr>\n",
       "  </thead>\n",
       "  <tbody>\n",
       "    <tr>\n",
       "      <th>0</th>\n",
       "      <td>Achtertuin</td>\n",
       "      <td>A</td>\n",
       "      <td>1655</td>\n",
       "      <td>0.003625</td>\n",
       "    </tr>\n",
       "    <tr>\n",
       "      <th>1</th>\n",
       "      <td>Achtertuin</td>\n",
       "      <td>A+</td>\n",
       "      <td>18</td>\n",
       "      <td>0.000000</td>\n",
       "    </tr>\n",
       "    <tr>\n",
       "      <th>2</th>\n",
       "      <td>Achtertuin</td>\n",
       "      <td>A++</td>\n",
       "      <td>16</td>\n",
       "      <td>0.000000</td>\n",
       "    </tr>\n",
       "    <tr>\n",
       "      <th>3</th>\n",
       "      <td>Achtertuin</td>\n",
       "      <td>A+++</td>\n",
       "      <td>7</td>\n",
       "      <td>0.000000</td>\n",
       "    </tr>\n",
       "    <tr>\n",
       "      <th>4</th>\n",
       "      <td>Achtertuin</td>\n",
       "      <td>B</td>\n",
       "      <td>1199</td>\n",
       "      <td>0.001668</td>\n",
       "    </tr>\n",
       "    <tr>\n",
       "      <th>...</th>\n",
       "      <td>...</td>\n",
       "      <td>...</td>\n",
       "      <td>...</td>\n",
       "      <td>...</td>\n",
       "    </tr>\n",
       "    <tr>\n",
       "      <th>80</th>\n",
       "      <td>Zonneterras</td>\n",
       "      <td>C</td>\n",
       "      <td>31</td>\n",
       "      <td>0.000000</td>\n",
       "    </tr>\n",
       "    <tr>\n",
       "      <th>81</th>\n",
       "      <td>Zonneterras</td>\n",
       "      <td>D</td>\n",
       "      <td>14</td>\n",
       "      <td>0.000000</td>\n",
       "    </tr>\n",
       "    <tr>\n",
       "      <th>82</th>\n",
       "      <td>Zonneterras</td>\n",
       "      <td>E</td>\n",
       "      <td>22</td>\n",
       "      <td>0.000000</td>\n",
       "    </tr>\n",
       "    <tr>\n",
       "      <th>83</th>\n",
       "      <td>Zonneterras</td>\n",
       "      <td>F</td>\n",
       "      <td>14</td>\n",
       "      <td>0.000000</td>\n",
       "    </tr>\n",
       "    <tr>\n",
       "      <th>84</th>\n",
       "      <td>Zonneterras</td>\n",
       "      <td>G</td>\n",
       "      <td>22</td>\n",
       "      <td>0.000000</td>\n",
       "    </tr>\n",
       "  </tbody>\n",
       "</table>\n",
       "<p>85 rows × 4 columns</p>\n",
       "</div>"
      ],
      "text/plain": [
       "         garden energy_label  N_obs         p\n",
       "0    Achtertuin            A   1655  0.003625\n",
       "1    Achtertuin           A+     18  0.000000\n",
       "2    Achtertuin          A++     16  0.000000\n",
       "3    Achtertuin         A+++      7  0.000000\n",
       "4    Achtertuin            B   1199  0.001668\n",
       "..          ...          ...    ...       ...\n",
       "80  Zonneterras            C     31  0.000000\n",
       "81  Zonneterras            D     14  0.000000\n",
       "82  Zonneterras            E     22  0.000000\n",
       "83  Zonneterras            F     14  0.000000\n",
       "84  Zonneterras            G     22  0.000000\n",
       "\n",
       "[85 rows x 4 columns]"
      ]
     },
     "execution_count": 343,
     "metadata": {},
     "output_type": "execute_result"
    },
    {
     "data": {
      "image/png": "[encoded data removed]",
      "text/plain": [
       "<Figure size 640x480 with 9 Axes>"
      ]
     },
     "metadata": {},
     "output_type": "display_data"
    },
    {
     "data": {
      "text/plain": [
       "<ggplot: (130272642440)>"
      ]
     },
     "execution_count": 343,
     "metadata": {},
     "output_type": "execute_result"
    }
   ],
   "source": [
    "name_remapper.rename_columns(freq_table_garden_energy_label[1])\n",
    "\n",
    "(\n",
    "    ggplot(\n",
    "    name_remapper.rename_columns(freq_table_garden_energy_label[1]), aes(x='energy_label', y='p')) + geom_bar(stat='identity', position='dodge')\n",
    "    + facet_wrap('garden')\n",
    "    + labs(y='Proportion')\n",
    "    + ggtitle('Proportion of defaults by marriage status and gender')\n",
    ")"
   ]
  },
  {
   "cell_type": "markdown",
   "metadata": {
    "cell_id": "00045-69f3a8fe-1372-441b-a560-e658e41aa19a",
    "deepnote_cell_type": "markdown"
   },
   "source": [
    "looks like marriage category others_0 has lower default risk than the other categories."
   ]
  },
  {
   "cell_type": "code",
   "execution_count": 344,
   "metadata": {
    "cell_id": "00046-044269a4-e675-459b-9002-b75e9378ba21",
    "deepnote_cell_type": "code",
    "deepnote_output_heights": [
     90
    ],
    "deepnote_to_be_reexecuted": true,
    "source_hash": "bcdbd502"
   },
   "outputs": [
    {
     "data": {
      "text/html": [
       "<div>\n",
       "<style scoped>\n",
       "    .dataframe tbody tr th:only-of-type {\n",
       "        vertical-align: middle;\n",
       "    }\n",
       "\n",
       "    .dataframe tbody tr th {\n",
       "        vertical-align: top;\n",
       "    }\n",
       "\n",
       "    .dataframe thead th {\n",
       "        text-align: right;\n",
       "    }\n",
       "</style>\n",
       "<table border=\"1\" class=\"dataframe\">\n",
       "  <thead>\n",
       "    <tr style=\"text-align: right;\">\n",
       "      <th></th>\n",
       "      <th>energy_label</th>\n",
       "      <th>N_obs</th>\n",
       "      <th>p</th>\n",
       "    </tr>\n",
       "  </thead>\n",
       "  <tbody>\n",
       "    <tr>\n",
       "      <th>0</th>\n",
       "      <td>A</td>\n",
       "      <td>36994</td>\n",
       "      <td>0.002514</td>\n",
       "    </tr>\n",
       "    <tr>\n",
       "      <th>1</th>\n",
       "      <td>A+</td>\n",
       "      <td>716</td>\n",
       "      <td>0.004190</td>\n",
       "    </tr>\n",
       "    <tr>\n",
       "      <th>2</th>\n",
       "      <td>A++</td>\n",
       "      <td>330</td>\n",
       "      <td>0.000000</td>\n",
       "    </tr>\n",
       "    <tr>\n",
       "      <th>3</th>\n",
       "      <td>A+++</td>\n",
       "      <td>426</td>\n",
       "      <td>0.002347</td>\n",
       "    </tr>\n",
       "    <tr>\n",
       "      <th>4</th>\n",
       "      <td>A++++</td>\n",
       "      <td>76</td>\n",
       "      <td>0.197368</td>\n",
       "    </tr>\n",
       "    <tr>\n",
       "      <th>5</th>\n",
       "      <td>A+++++</td>\n",
       "      <td>61</td>\n",
       "      <td>0.000000</td>\n",
       "    </tr>\n",
       "    <tr>\n",
       "      <th>6</th>\n",
       "      <td>B</td>\n",
       "      <td>24762</td>\n",
       "      <td>0.001413</td>\n",
       "    </tr>\n",
       "    <tr>\n",
       "      <th>7</th>\n",
       "      <td>C</td>\n",
       "      <td>43348</td>\n",
       "      <td>0.002007</td>\n",
       "    </tr>\n",
       "    <tr>\n",
       "      <th>8</th>\n",
       "      <td>D</td>\n",
       "      <td>19932</td>\n",
       "      <td>0.001806</td>\n",
       "    </tr>\n",
       "    <tr>\n",
       "      <th>9</th>\n",
       "      <td>E</td>\n",
       "      <td>15594</td>\n",
       "      <td>0.001924</td>\n",
       "    </tr>\n",
       "    <tr>\n",
       "      <th>10</th>\n",
       "      <td>F</td>\n",
       "      <td>13368</td>\n",
       "      <td>0.001945</td>\n",
       "    </tr>\n",
       "    <tr>\n",
       "      <th>11</th>\n",
       "      <td>G</td>\n",
       "      <td>14110</td>\n",
       "      <td>0.002197</td>\n",
       "    </tr>\n",
       "  </tbody>\n",
       "</table>\n",
       "</div>"
      ],
      "text/plain": [
       "   energy_label  N_obs         p\n",
       "0             A  36994  0.002514\n",
       "1            A+    716  0.004190\n",
       "2           A++    330  0.000000\n",
       "3          A+++    426  0.002347\n",
       "4         A++++     76  0.197368\n",
       "5        A+++++     61  0.000000\n",
       "6             B  24762  0.001413\n",
       "7             C  43348  0.002007\n",
       "8             D  19932  0.001806\n",
       "9             E  15594  0.001924\n",
       "10            F  13368  0.001945\n",
       "11            G  14110  0.002197"
      ]
     },
     "execution_count": 344,
     "metadata": {},
     "output_type": "execute_result"
    }
   ],
   "source": [
    "name_remapper.rename_columns(calculate_freq_table(df, ['energy_label'])[1])"
   ]
  },
  {
   "cell_type": "markdown",
   "metadata": {
    "cell_id": "00047-81ea6323-16c9-4b2e-b118-180f138afc5c",
    "deepnote_cell_type": "markdown"
   },
   "source": [
    "It looks like males are more likely to default than females in this dataset. Is this statistically significant? Assuming that the sample of customers is a random sample and the observations are independent (which they are in this case), we could run a z-test of proportions to check if this difference is significant (https://online.stat.psu.edu/stat415/lesson/9/9.4)."
   ]
  },
  {
   "cell_type": "code",
   "execution_count": 345,
   "metadata": {
    "cell_id": "00048-179149b8-9737-4306-aba4-381aaf9bf088",
    "deepnote_cell_type": "code",
    "deepnote_output_heights": [
     498,
     21.1875
    ],
    "deepnote_to_be_reexecuted": true,
    "source_hash": "7b6a53af"
   },
   "outputs": [
    {
     "ename": "PlotnineError",
     "evalue": "\"Could not evaluate the 'x' mapping: 'education' (original error: name 'education' is not defined)\"",
     "output_type": "error",
     "traceback": [
      "\u001b[1;31m---------------------------------------------------------------------------\u001b[0m",
      "\u001b[1;31mNameError\u001b[0m                                 Traceback (most recent call last)",
      "\u001b[1;32m~\\anaconda3\\lib\\site-packages\\plotnine\\mapping\\evaluation.py\u001b[0m in \u001b[0;36mevaluate\u001b[1;34m(aesthetics, data, env)\u001b[0m\n\u001b[0;32m    216\u001b[0m                 \u001b[1;32mtry\u001b[0m\u001b[1;33m:\u001b[0m\u001b[1;33m\u001b[0m\u001b[1;33m\u001b[0m\u001b[0m\n\u001b[1;32m--> 217\u001b[1;33m                     \u001b[0mnew_val\u001b[0m \u001b[1;33m=\u001b[0m \u001b[0menv\u001b[0m\u001b[1;33m.\u001b[0m\u001b[0meval\u001b[0m\u001b[1;33m(\u001b[0m\u001b[0mcol\u001b[0m\u001b[1;33m,\u001b[0m \u001b[0minner_namespace\u001b[0m\u001b[1;33m=\u001b[0m\u001b[0mdata\u001b[0m\u001b[1;33m)\u001b[0m\u001b[1;33m\u001b[0m\u001b[1;33m\u001b[0m\u001b[0m\n\u001b[0m\u001b[0;32m    218\u001b[0m                 \u001b[1;32mexcept\u001b[0m \u001b[0mException\u001b[0m \u001b[1;32mas\u001b[0m \u001b[0me\u001b[0m\u001b[1;33m:\u001b[0m\u001b[1;33m\u001b[0m\u001b[1;33m\u001b[0m\u001b[0m\n",
      "\u001b[1;32m~\\anaconda3\\lib\\site-packages\\patsy\\eval.py\u001b[0m in \u001b[0;36meval\u001b[1;34m(self, expr, source_name, inner_namespace)\u001b[0m\n\u001b[0;32m    164\u001b[0m         \u001b[0mcode\u001b[0m \u001b[1;33m=\u001b[0m \u001b[0mcompile\u001b[0m\u001b[1;33m(\u001b[0m\u001b[0mexpr\u001b[0m\u001b[1;33m,\u001b[0m \u001b[0msource_name\u001b[0m\u001b[1;33m,\u001b[0m \u001b[1;34m\"eval\"\u001b[0m\u001b[1;33m,\u001b[0m \u001b[0mself\u001b[0m\u001b[1;33m.\u001b[0m\u001b[0mflags\u001b[0m\u001b[1;33m,\u001b[0m \u001b[1;32mFalse\u001b[0m\u001b[1;33m)\u001b[0m\u001b[1;33m\u001b[0m\u001b[1;33m\u001b[0m\u001b[0m\n\u001b[1;32m--> 165\u001b[1;33m         return eval(code, {}, VarLookupDict([inner_namespace]\n\u001b[0m\u001b[0;32m    166\u001b[0m                                             + self._namespaces))\n",
      "\u001b[1;32m<string>\u001b[0m in \u001b[0;36m<module>\u001b[1;34m\u001b[0m\n",
      "\u001b[1;31mNameError\u001b[0m: name 'education' is not defined",
      "\nDuring handling of the above exception, another exception occurred:\n",
      "\u001b[1;31mPlotnineError\u001b[0m                             Traceback (most recent call last)",
      "\u001b[1;32m~\\anaconda3\\lib\\site-packages\\IPython\\core\\formatters.py\u001b[0m in \u001b[0;36m__call__\u001b[1;34m(self, obj)\u001b[0m\n\u001b[0;32m    700\u001b[0m                 \u001b[0mtype_pprinters\u001b[0m\u001b[1;33m=\u001b[0m\u001b[0mself\u001b[0m\u001b[1;33m.\u001b[0m\u001b[0mtype_printers\u001b[0m\u001b[1;33m,\u001b[0m\u001b[1;33m\u001b[0m\u001b[1;33m\u001b[0m\u001b[0m\n\u001b[0;32m    701\u001b[0m                 deferred_pprinters=self.deferred_printers)\n\u001b[1;32m--> 702\u001b[1;33m             \u001b[0mprinter\u001b[0m\u001b[1;33m.\u001b[0m\u001b[0mpretty\u001b[0m\u001b[1;33m(\u001b[0m\u001b[0mobj\u001b[0m\u001b[1;33m)\u001b[0m\u001b[1;33m\u001b[0m\u001b[1;33m\u001b[0m\u001b[0m\n\u001b[0m\u001b[0;32m    703\u001b[0m             \u001b[0mprinter\u001b[0m\u001b[1;33m.\u001b[0m\u001b[0mflush\u001b[0m\u001b[1;33m(\u001b[0m\u001b[1;33m)\u001b[0m\u001b[1;33m\u001b[0m\u001b[1;33m\u001b[0m\u001b[0m\n\u001b[0;32m    704\u001b[0m             \u001b[1;32mreturn\u001b[0m \u001b[0mstream\u001b[0m\u001b[1;33m.\u001b[0m\u001b[0mgetvalue\u001b[0m\u001b[1;33m(\u001b[0m\u001b[1;33m)\u001b[0m\u001b[1;33m\u001b[0m\u001b[1;33m\u001b[0m\u001b[0m\n",
      "\u001b[1;32m~\\anaconda3\\lib\\site-packages\\IPython\\lib\\pretty.py\u001b[0m in \u001b[0;36mpretty\u001b[1;34m(self, obj)\u001b[0m\n\u001b[0;32m    392\u001b[0m                         \u001b[1;32mif\u001b[0m \u001b[0mcls\u001b[0m \u001b[1;32mis\u001b[0m \u001b[1;32mnot\u001b[0m \u001b[0mobject\u001b[0m\u001b[0;31m \u001b[0m\u001b[0;31m\\\u001b[0m\u001b[1;33m\u001b[0m\u001b[1;33m\u001b[0m\u001b[0m\n\u001b[0;32m    393\u001b[0m                                 \u001b[1;32mand\u001b[0m \u001b[0mcallable\u001b[0m\u001b[1;33m(\u001b[0m\u001b[0mcls\u001b[0m\u001b[1;33m.\u001b[0m\u001b[0m__dict__\u001b[0m\u001b[1;33m.\u001b[0m\u001b[0mget\u001b[0m\u001b[1;33m(\u001b[0m\u001b[1;34m'__repr__'\u001b[0m\u001b[1;33m)\u001b[0m\u001b[1;33m)\u001b[0m\u001b[1;33m:\u001b[0m\u001b[1;33m\u001b[0m\u001b[1;33m\u001b[0m\u001b[0m\n\u001b[1;32m--> 394\u001b[1;33m                             \u001b[1;32mreturn\u001b[0m \u001b[0m_repr_pprint\u001b[0m\u001b[1;33m(\u001b[0m\u001b[0mobj\u001b[0m\u001b[1;33m,\u001b[0m \u001b[0mself\u001b[0m\u001b[1;33m,\u001b[0m \u001b[0mcycle\u001b[0m\u001b[1;33m)\u001b[0m\u001b[1;33m\u001b[0m\u001b[1;33m\u001b[0m\u001b[0m\n\u001b[0m\u001b[0;32m    395\u001b[0m \u001b[1;33m\u001b[0m\u001b[0m\n\u001b[0;32m    396\u001b[0m             \u001b[1;32mreturn\u001b[0m \u001b[0m_default_pprint\u001b[0m\u001b[1;33m(\u001b[0m\u001b[0mobj\u001b[0m\u001b[1;33m,\u001b[0m \u001b[0mself\u001b[0m\u001b[1;33m,\u001b[0m \u001b[0mcycle\u001b[0m\u001b[1;33m)\u001b[0m\u001b[1;33m\u001b[0m\u001b[1;33m\u001b[0m\u001b[0m\n",
      "\u001b[1;32m~\\anaconda3\\lib\\site-packages\\IPython\\lib\\pretty.py\u001b[0m in \u001b[0;36m_repr_pprint\u001b[1;34m(obj, p, cycle)\u001b[0m\n\u001b[0;32m    698\u001b[0m     \u001b[1;34m\"\"\"A pprint that just redirects to the normal repr function.\"\"\"\u001b[0m\u001b[1;33m\u001b[0m\u001b[1;33m\u001b[0m\u001b[0m\n\u001b[0;32m    699\u001b[0m     \u001b[1;31m# Find newlines and replace them with p.break_()\u001b[0m\u001b[1;33m\u001b[0m\u001b[1;33m\u001b[0m\u001b[0m\n\u001b[1;32m--> 700\u001b[1;33m     \u001b[0moutput\u001b[0m \u001b[1;33m=\u001b[0m \u001b[0mrepr\u001b[0m\u001b[1;33m(\u001b[0m\u001b[0mobj\u001b[0m\u001b[1;33m)\u001b[0m\u001b[1;33m\u001b[0m\u001b[1;33m\u001b[0m\u001b[0m\n\u001b[0m\u001b[0;32m    701\u001b[0m     \u001b[0mlines\u001b[0m \u001b[1;33m=\u001b[0m \u001b[0moutput\u001b[0m\u001b[1;33m.\u001b[0m\u001b[0msplitlines\u001b[0m\u001b[1;33m(\u001b[0m\u001b[1;33m)\u001b[0m\u001b[1;33m\u001b[0m\u001b[1;33m\u001b[0m\u001b[0m\n\u001b[0;32m    702\u001b[0m     \u001b[1;32mwith\u001b[0m \u001b[0mp\u001b[0m\u001b[1;33m.\u001b[0m\u001b[0mgroup\u001b[0m\u001b[1;33m(\u001b[0m\u001b[1;33m)\u001b[0m\u001b[1;33m:\u001b[0m\u001b[1;33m\u001b[0m\u001b[1;33m\u001b[0m\u001b[0m\n",
      "\u001b[1;32m~\\anaconda3\\lib\\site-packages\\plotnine\\ggplot.py\u001b[0m in \u001b[0;36m__repr__\u001b[1;34m(self)\u001b[0m\n\u001b[0;32m     95\u001b[0m         \u001b[0mPrint\u001b[0m\u001b[1;33m/\u001b[0m\u001b[0mshow\u001b[0m \u001b[0mthe\u001b[0m \u001b[0mplot\u001b[0m\u001b[1;33m\u001b[0m\u001b[1;33m\u001b[0m\u001b[0m\n\u001b[0;32m     96\u001b[0m         \"\"\"\n\u001b[1;32m---> 97\u001b[1;33m         \u001b[0mself\u001b[0m\u001b[1;33m.\u001b[0m\u001b[0m__str__\u001b[0m\u001b[1;33m(\u001b[0m\u001b[1;33m)\u001b[0m\u001b[1;33m\u001b[0m\u001b[1;33m\u001b[0m\u001b[0m\n\u001b[0m\u001b[0;32m     98\u001b[0m         \u001b[1;32mreturn\u001b[0m \u001b[1;34m'<ggplot: (%d)>'\u001b[0m \u001b[1;33m%\u001b[0m \u001b[0mself\u001b[0m\u001b[1;33m.\u001b[0m\u001b[0m__hash__\u001b[0m\u001b[1;33m(\u001b[0m\u001b[1;33m)\u001b[0m\u001b[1;33m\u001b[0m\u001b[1;33m\u001b[0m\u001b[0m\n\u001b[0;32m     99\u001b[0m \u001b[1;33m\u001b[0m\u001b[0m\n",
      "\u001b[1;32m~\\anaconda3\\lib\\site-packages\\plotnine\\ggplot.py\u001b[0m in \u001b[0;36m__str__\u001b[1;34m(self)\u001b[0m\n\u001b[0;32m     86\u001b[0m         \u001b[0mPrint\u001b[0m\u001b[1;33m/\u001b[0m\u001b[0mshow\u001b[0m \u001b[0mthe\u001b[0m \u001b[0mplot\u001b[0m\u001b[1;33m\u001b[0m\u001b[1;33m\u001b[0m\u001b[0m\n\u001b[0;32m     87\u001b[0m         \"\"\"\n\u001b[1;32m---> 88\u001b[1;33m         \u001b[0mself\u001b[0m\u001b[1;33m.\u001b[0m\u001b[0mdraw\u001b[0m\u001b[1;33m(\u001b[0m\u001b[0mshow\u001b[0m\u001b[1;33m=\u001b[0m\u001b[1;32mTrue\u001b[0m\u001b[1;33m)\u001b[0m\u001b[1;33m\u001b[0m\u001b[1;33m\u001b[0m\u001b[0m\n\u001b[0m\u001b[0;32m     89\u001b[0m \u001b[1;33m\u001b[0m\u001b[0m\n\u001b[0;32m     90\u001b[0m         \u001b[1;31m# Return and empty string so that print(p) is \"pretty\"\u001b[0m\u001b[1;33m\u001b[0m\u001b[1;33m\u001b[0m\u001b[0m\n",
      "\u001b[1;32m~\\anaconda3\\lib\\site-packages\\plotnine\\ggplot.py\u001b[0m in \u001b[0;36mdraw\u001b[1;34m(self, return_ggplot, show)\u001b[0m\n\u001b[0;32m    203\u001b[0m         \u001b[0mself\u001b[0m \u001b[1;33m=\u001b[0m \u001b[0mdeepcopy\u001b[0m\u001b[1;33m(\u001b[0m\u001b[0mself\u001b[0m\u001b[1;33m)\u001b[0m\u001b[1;33m\u001b[0m\u001b[1;33m\u001b[0m\u001b[0m\n\u001b[0;32m    204\u001b[0m         \u001b[1;32mwith\u001b[0m \u001b[0mplot_context\u001b[0m\u001b[1;33m(\u001b[0m\u001b[0mself\u001b[0m\u001b[1;33m,\u001b[0m \u001b[0mshow\u001b[0m\u001b[1;33m=\u001b[0m\u001b[0mshow\u001b[0m\u001b[1;33m)\u001b[0m\u001b[1;33m:\u001b[0m\u001b[1;33m\u001b[0m\u001b[1;33m\u001b[0m\u001b[0m\n\u001b[1;32m--> 205\u001b[1;33m             \u001b[0mself\u001b[0m\u001b[1;33m.\u001b[0m\u001b[0m_build\u001b[0m\u001b[1;33m(\u001b[0m\u001b[1;33m)\u001b[0m\u001b[1;33m\u001b[0m\u001b[1;33m\u001b[0m\u001b[0m\n\u001b[0m\u001b[0;32m    206\u001b[0m \u001b[1;33m\u001b[0m\u001b[0m\n\u001b[0;32m    207\u001b[0m             \u001b[1;31m# setup\u001b[0m\u001b[1;33m\u001b[0m\u001b[1;33m\u001b[0m\u001b[0m\n",
      "\u001b[1;32m~\\anaconda3\\lib\\site-packages\\plotnine\\ggplot.py\u001b[0m in \u001b[0;36m_build\u001b[1;34m(self)\u001b[0m\n\u001b[0;32m    287\u001b[0m         \u001b[1;31m# Compute aesthetics to produce data with generalised\u001b[0m\u001b[1;33m\u001b[0m\u001b[1;33m\u001b[0m\u001b[0m\n\u001b[0;32m    288\u001b[0m         \u001b[1;31m# variable names\u001b[0m\u001b[1;33m\u001b[0m\u001b[1;33m\u001b[0m\u001b[0m\n\u001b[1;32m--> 289\u001b[1;33m         \u001b[0mlayers\u001b[0m\u001b[1;33m.\u001b[0m\u001b[0mcompute_aesthetics\u001b[0m\u001b[1;33m(\u001b[0m\u001b[0mself\u001b[0m\u001b[1;33m)\u001b[0m\u001b[1;33m\u001b[0m\u001b[1;33m\u001b[0m\u001b[0m\n\u001b[0m\u001b[0;32m    290\u001b[0m \u001b[1;33m\u001b[0m\u001b[0m\n\u001b[0;32m    291\u001b[0m         \u001b[1;31m# Transform data using all scales\u001b[0m\u001b[1;33m\u001b[0m\u001b[1;33m\u001b[0m\u001b[0m\n",
      "\u001b[1;32m~\\anaconda3\\lib\\site-packages\\plotnine\\layer.py\u001b[0m in \u001b[0;36mcompute_aesthetics\u001b[1;34m(self, plot)\u001b[0m\n\u001b[0;32m     67\u001b[0m     \u001b[1;32mdef\u001b[0m \u001b[0mcompute_aesthetics\u001b[0m\u001b[1;33m(\u001b[0m\u001b[0mself\u001b[0m\u001b[1;33m,\u001b[0m \u001b[0mplot\u001b[0m\u001b[1;33m)\u001b[0m\u001b[1;33m:\u001b[0m\u001b[1;33m\u001b[0m\u001b[1;33m\u001b[0m\u001b[0m\n\u001b[0;32m     68\u001b[0m         \u001b[1;32mfor\u001b[0m \u001b[0ml\u001b[0m \u001b[1;32min\u001b[0m \u001b[0mself\u001b[0m\u001b[1;33m:\u001b[0m\u001b[1;33m\u001b[0m\u001b[1;33m\u001b[0m\u001b[0m\n\u001b[1;32m---> 69\u001b[1;33m             \u001b[0ml\u001b[0m\u001b[1;33m.\u001b[0m\u001b[0mcompute_aesthetics\u001b[0m\u001b[1;33m(\u001b[0m\u001b[0mplot\u001b[0m\u001b[1;33m)\u001b[0m\u001b[1;33m\u001b[0m\u001b[1;33m\u001b[0m\u001b[0m\n\u001b[0m\u001b[0;32m     70\u001b[0m \u001b[1;33m\u001b[0m\u001b[0m\n\u001b[0;32m     71\u001b[0m     \u001b[1;32mdef\u001b[0m \u001b[0mcompute_statistic\u001b[0m\u001b[1;33m(\u001b[0m\u001b[0mself\u001b[0m\u001b[1;33m,\u001b[0m \u001b[0mlayout\u001b[0m\u001b[1;33m)\u001b[0m\u001b[1;33m:\u001b[0m\u001b[1;33m\u001b[0m\u001b[1;33m\u001b[0m\u001b[0m\n",
      "\u001b[1;32m~\\anaconda3\\lib\\site-packages\\plotnine\\layer.py\u001b[0m in \u001b[0;36mcompute_aesthetics\u001b[1;34m(self, plot)\u001b[0m\n\u001b[0;32m    299\u001b[0m         \u001b[0mexpression\u001b[0m \u001b[0mevaluation\u001b[0m \u001b[0mare\u001b[0m  \u001b[0mmade\u001b[0m \u001b[1;32min\u001b[0m \u001b[0mhere\u001b[0m\u001b[1;33m\u001b[0m\u001b[1;33m\u001b[0m\u001b[0m\n\u001b[0;32m    300\u001b[0m         \"\"\"\n\u001b[1;32m--> 301\u001b[1;33m         \u001b[0mevaled\u001b[0m \u001b[1;33m=\u001b[0m \u001b[0mevaluate\u001b[0m\u001b[1;33m(\u001b[0m\u001b[0mself\u001b[0m\u001b[1;33m.\u001b[0m\u001b[0mmapping\u001b[0m\u001b[1;33m.\u001b[0m\u001b[0m_starting\u001b[0m\u001b[1;33m,\u001b[0m \u001b[0mself\u001b[0m\u001b[1;33m.\u001b[0m\u001b[0mdata\u001b[0m\u001b[1;33m,\u001b[0m \u001b[0mplot\u001b[0m\u001b[1;33m.\u001b[0m\u001b[0menvironment\u001b[0m\u001b[1;33m)\u001b[0m\u001b[1;33m\u001b[0m\u001b[1;33m\u001b[0m\u001b[0m\n\u001b[0m\u001b[0;32m    302\u001b[0m         \u001b[0mevaled_aes\u001b[0m \u001b[1;33m=\u001b[0m \u001b[0maes\u001b[0m\u001b[1;33m(\u001b[0m\u001b[1;33m**\u001b[0m\u001b[1;33m{\u001b[0m\u001b[0mcol\u001b[0m\u001b[1;33m:\u001b[0m \u001b[0mcol\u001b[0m \u001b[1;32mfor\u001b[0m \u001b[0mcol\u001b[0m \u001b[1;32min\u001b[0m \u001b[0mevaled\u001b[0m\u001b[1;33m}\u001b[0m\u001b[1;33m)\u001b[0m\u001b[1;33m\u001b[0m\u001b[1;33m\u001b[0m\u001b[0m\n\u001b[0;32m    303\u001b[0m         \u001b[0mplot\u001b[0m\u001b[1;33m.\u001b[0m\u001b[0mscales\u001b[0m\u001b[1;33m.\u001b[0m\u001b[0madd_defaults\u001b[0m\u001b[1;33m(\u001b[0m\u001b[0mevaled\u001b[0m\u001b[1;33m,\u001b[0m \u001b[0mevaled_aes\u001b[0m\u001b[1;33m)\u001b[0m\u001b[1;33m\u001b[0m\u001b[1;33m\u001b[0m\u001b[0m\n",
      "\u001b[1;32m~\\anaconda3\\lib\\site-packages\\plotnine\\mapping\\evaluation.py\u001b[0m in \u001b[0;36mevaluate\u001b[1;34m(aesthetics, data, env)\u001b[0m\n\u001b[0;32m    217\u001b[0m                     \u001b[0mnew_val\u001b[0m \u001b[1;33m=\u001b[0m \u001b[0menv\u001b[0m\u001b[1;33m.\u001b[0m\u001b[0meval\u001b[0m\u001b[1;33m(\u001b[0m\u001b[0mcol\u001b[0m\u001b[1;33m,\u001b[0m \u001b[0minner_namespace\u001b[0m\u001b[1;33m=\u001b[0m\u001b[0mdata\u001b[0m\u001b[1;33m)\u001b[0m\u001b[1;33m\u001b[0m\u001b[1;33m\u001b[0m\u001b[0m\n\u001b[0;32m    218\u001b[0m                 \u001b[1;32mexcept\u001b[0m \u001b[0mException\u001b[0m \u001b[1;32mas\u001b[0m \u001b[0me\u001b[0m\u001b[1;33m:\u001b[0m\u001b[1;33m\u001b[0m\u001b[1;33m\u001b[0m\u001b[0m\n\u001b[1;32m--> 219\u001b[1;33m                     raise PlotnineError(\n\u001b[0m\u001b[0;32m    220\u001b[0m                         _TPL_EVAL_FAIL.format(ae, col, str(e)))\n\u001b[0;32m    221\u001b[0m \u001b[1;33m\u001b[0m\u001b[0m\n",
      "\u001b[1;31mPlotnineError\u001b[0m: \"Could not evaluate the 'x' mapping: 'education' (original error: name 'education' is not defined)\""
     ]
    }
   ],
   "source": [
    "(\n",
    "    ggplot(name_remapper.rename_columns(calculate_freq_table(df, ['garden'])[1]),\n",
    "    aes(x = 'education', y='p')\n",
    "    ) + geom_bar(stat='identity')\n",
    "    +  theme(axis_text_x=element_text(rotation=45, hjust=1))\n",
    ")"
   ]
  },
  {
   "cell_type": "markdown",
   "metadata": {
    "cell_id": "00049-5b9a8d89-5c08-4d8b-8a76-6382049fa3ac",
    "deepnote_cell_type": "markdown"
   },
   "source": [
    "Let's explore the payment delay information. Let's create a few more features:\n",
    "- max delay that the user incurred in\n",
    "- number of delays that the user incurred in"
   ]
  },
  {
   "cell_type": "code",
   "execution_count": null,
   "metadata": {
    "cell_id": "00050-9fdd2aca-5961-4ff4-aab4-0fea0782c9a9",
    "deepnote_cell_type": "code",
    "deepnote_to_be_reexecuted": true,
    "source_hash": "19f134b2"
   },
   "outputs": [],
   "source": [
    "max_delay = (credit_card_df[[x for x in credit_card_df.columns if x.startswith('pay_') and 'amt' not in x]]).max(axis=1)\n",
    "credit_card_df['max_delay'] = max_delay\n",
    "freq_delay = ((credit_card_df[[x for x in credit_card_df.columns if x.startswith('pay_') and 'amt' not in x]]) >= 0).sum(axis=1)\n",
    "credit_card_df['freq_delay'] = freq_delay"
   ]
  },
  {
   "cell_type": "code",
   "execution_count": null,
   "metadata": {
    "cell_id": "00051-2332ee2c-14ce-4ab0-bac9-7914d4dcaef4",
    "deepnote_cell_type": "code",
    "deepnote_output_heights": [
     433,
     21.1875,
     433,
     21.1875,
     433,
     21.1875,
     433,
     21.1875
    ],
    "deepnote_to_be_reexecuted": true,
    "source_hash": "429af20c"
   },
   "outputs": [
    {
     "data": {
      "image/png": "[encoded data removed]",
      "text/plain": [
       "<Figure size 640x480 with 1 Axes>"
      ]
     },
     "metadata": {
      "image/png": {
       "height": 431,
       "width": 563
      }
     },
     "output_type": "display_data"
    },
    {
     "data": {
      "text/plain": [
       "<ggplot: (130282383333)>"
      ]
     },
     "execution_count": 126,
     "metadata": {},
     "output_type": "execute_result"
    },
    {
     "data": {
      "image/png": "[encoded data removed]",
      "text/plain": [
       "<Figure size 640x480 with 1 Axes>"
      ]
     },
     "metadata": {
      "image/png": {
       "height": 431,
       "width": 563
      }
     },
     "output_type": "display_data"
    },
    {
     "data": {
      "text/plain": [
       "<ggplot: (130282432094)>"
      ]
     },
     "execution_count": 126,
     "metadata": {},
     "output_type": "execute_result"
    },
    {
     "data": {
      "image/png": "[encoded data removed]",
      "text/plain": [
       "<Figure size 640x480 with 1 Axes>"
      ]
     },
     "metadata": {
      "image/png": {
       "height": 431,
       "width": 571
      }
     },
     "output_type": "display_data"
    },
    {
     "data": {
      "text/plain": [
       "<ggplot: (130282472196)>"
      ]
     },
     "execution_count": 126,
     "metadata": {},
     "output_type": "execute_result"
    },
    {
     "data": {
      "image/png": "[encoded data removed]",
      "text/plain": [
       "<Figure size 640x480 with 1 Axes>"
      ]
     },
     "metadata": {
      "image/png": {
       "height": 431,
       "width": 563
      }
     },
     "output_type": "display_data"
    },
    {
     "data": {
      "text/plain": [
       "<ggplot: (130282673180)>"
      ]
     },
     "execution_count": 126,
     "metadata": {},
     "output_type": "execute_result"
    }
   ],
   "source": [
    "(\n",
    "    ggplot(calculate_freq_table(credit_card_df, ['max_delay'])[1], aes(x='factor(max_delay)', y='p')) +\n",
    "    geom_bar(stat='identity')\n",
    ")\n",
    "\n",
    "\n",
    "(\n",
    "    ggplot(calculate_freq_table(credit_card_df, ['pay_1'])[1], aes(x='factor(pay_1)', y='p')) +\n",
    "    geom_bar(stat='identity')\n",
    ")\n",
    "\n",
    "(\n",
    "    ggplot(calculate_freq_table(credit_card_df, ['pay_6'])[1], aes(x='factor(pay_6)', y='p')) +\n",
    "    geom_bar(stat='identity')\n",
    ")\n",
    "\n",
    "\n",
    "(\n",
    "    ggplot(calculate_freq_table(credit_card_df, ['freq_delay'])[1], aes(x='factor(freq_delay)', y='p')) +\n",
    "    geom_bar(stat='identity')\n",
    ")\n"
   ]
  },
  {
   "cell_type": "code",
   "execution_count": null,
   "metadata": {
    "cell_id": "00052-a9b11855-2cdd-4637-a6c1-92f9b3b7fe4d",
    "deepnote_cell_type": "code",
    "deepnote_output_heights": [
     null,
     433,
     21.1875,
     432,
     21.1875
    ],
    "deepnote_to_be_reexecuted": true,
    "source_hash": "29fee861"
   },
   "outputs": [
    {
     "name": "stderr",
     "output_type": "stream",
     "text": [
      "C:\\Users\\Eigenaar\\anaconda3\\lib\\site-packages\\plotnine\\stats\\stat_bin.py:95: PlotnineWarning: 'stat_bin()' using 'bins = 81'. Pick better value with 'binwidth'.\n"
     ]
    },
    {
     "data": {
      "image/png": "[encoded data removed]",
      "text/plain": [
       "<Figure size 640x480 with 1 Axes>"
      ]
     },
     "metadata": {
      "image/png": {
       "height": 431,
       "width": 575
      }
     },
     "output_type": "display_data"
    },
    {
     "data": {
      "text/plain": [
       "<ggplot: (130282397377)>"
      ]
     },
     "execution_count": 127,
     "metadata": {},
     "output_type": "execute_result"
    },
    {
     "data": {
      "image/png": "[encoded data removed]",
      "text/plain": [
       "<Figure size 640x480 with 1 Axes>"
      ]
     },
     "metadata": {
      "image/png": {
       "height": 430,
       "width": 599
      }
     },
     "output_type": "display_data"
    },
    {
     "data": {
      "text/plain": [
       "<ggplot: (130282476855)>"
      ]
     },
     "execution_count": 127,
     "metadata": {},
     "output_type": "execute_result"
    }
   ],
   "source": [
    "# let's look at limit balance. Also very skewed.\n",
    "(\n",
    "    ggplot(credit_card_df, aes(x = 'limit_bal'))\n",
    "    + geom_histogram()\n",
    ")\n",
    "\n",
    "# boxplot of limit balance vs default\n",
    "(\n",
    "    ggplot(credit_card_df)\n",
    "    + geom_boxplot(aes(x='factor(default)', y='limit_bal'))\n",
    ")"
   ]
  },
  {
   "cell_type": "code",
   "execution_count": null,
   "metadata": {
    "cell_id": "00053-1740f72d-d2ca-4c49-acc4-d1b2766e6274",
    "deepnote_cell_type": "code",
    "deepnote_output_heights": [
     433,
     21.1875
    ],
    "deepnote_to_be_reexecuted": true,
    "source_hash": "a7003992"
   },
   "outputs": [
    {
     "data": {
      "image/png": "[encoded data removed]",
      "text/plain": [
       "<Figure size 640x480 with 1 Axes>"
      ]
     },
     "metadata": {
      "image/png": {
       "height": 431,
       "width": 726
      }
     },
     "output_type": "display_data"
    },
    {
     "data": {
      "text/plain": [
       "<ggplot: (130273308582)>"
      ]
     },
     "execution_count": 128,
     "metadata": {},
     "output_type": "execute_result"
    }
   ],
   "source": [
    "# nicer: density plot of limit balance vs default\n",
    "(\n",
    "    ggplot(credit_card_df.sample(15000), aes(x='limit_bal', fill='factor(default)'))\n",
    "    + geom_density(alpha=0.3)\n",
    ")"
   ]
  },
  {
   "cell_type": "code",
   "execution_count": null,
   "metadata": {
    "cell_id": "00054-5dc8bd74-75be-4986-a45a-89d4ecd0fe78",
    "deepnote_cell_type": "code",
    "deepnote_output_heights": [
     null,
     611,
     21.1875
    ],
    "deepnote_to_be_reexecuted": true,
    "source_hash": "2c423507"
   },
   "outputs": [
    {
     "name": "stderr",
     "output_type": "stream",
     "text": [
      "C:\\Users\\Eigenaar\\anaconda3\\lib\\site-packages\\plotnine\\stats\\stat_density.py:151: PlotnineWarning: To compute the density of a group with only one value set the bandwidth manually. e.g `bw=0.1`\n",
      "C:\\Users\\Eigenaar\\anaconda3\\lib\\site-packages\\plotnine\\stats\\stat_density.py:154: PlotnineWarning: Groups with fewer than 2 data points have been removed.\n"
     ]
    },
    {
     "data": {
      "image/png": "[encoded data removed]",
      "text/plain": [
       "<Figure size 1000x1000 with 7 Axes>"
      ]
     },
     "metadata": {
      "image/png": {
       "height": 887,
       "width": 1005
      }
     },
     "output_type": "display_data"
    },
    {
     "data": {
      "text/plain": [
       "<ggplot: (130270866845)>"
      ]
     },
     "execution_count": 129,
     "metadata": {},
     "output_type": "execute_result"
    }
   ],
   "source": [
    "(\n",
    "    ggplot(credit_card_df.sample(15000), aes(x='bill_amt1', fill='factor(default)'))\n",
    "    + geom_density(alpha=0.3)\n",
    "    + facet_wrap('education')\n",
    "    +  theme(axis_text_x=element_text(rotation=45, hjust=1))\n",
    "     + theme(figure_size=(10, 10))  # here you define the plot size\n",
    ")"
   ]
  },
  {
   "cell_type": "markdown",
   "metadata": {
    "cell_id": "00055-9bce4b09-1095-4a91-afc6-c1f1c8ae1832",
    "deepnote_cell_type": "markdown"
   },
   "source": [
    "We now save the dataset to disk that we will use for modelling"
   ]
  },
  {
   "cell_type": "code",
   "execution_count": null,
   "metadata": {
    "cell_id": "00056-23ed2f8a-5e6a-4923-b471-8ef7de9332bb",
    "deepnote_cell_type": "code",
    "deepnote_to_be_reexecuted": true,
    "source_hash": "687a341a"
   },
   "outputs": [],
   "source": [
    "credit_card_df = credit_card_df.drop(['age_cat'], axis=1)"
   ]
  },
  {
   "cell_type": "markdown",
   "metadata": {
    "cell_id": "00057-c297bffe-2743-44b6-849a-c25281b546fd",
    "deepnote_cell_type": "markdown"
   },
   "source": [
    "We now write the dataset to disk for modelling.\n",
    "There are various formats that can be used to store intermediate datasets for a ML pipeline: csv, pickle, feather, parquet...\n",
    "We will use feather here."
   ]
  },
  {
   "cell_type": "code",
   "execution_count": null,
   "metadata": {
    "cell_id": "00058-93da4c68-dcd6-4844-9317-2f2aee81c6e0",
    "deepnote_cell_type": "code",
    "deepnote_to_be_reexecuted": true,
    "source_hash": "71ab3f5d"
   },
   "outputs": [
    {
     "ename": "ImportError",
     "evalue": "Missing optional dependency 'pyarrow'.  Use pip or conda to install pyarrow.",
     "output_type": "error",
     "traceback": [
      "\u001b[1;31m---------------------------------------------------------------------------\u001b[0m",
      "\u001b[1;31mImportError\u001b[0m                               Traceback (most recent call last)",
      "\u001b[1;32m~\\AppData\\Local\\Temp/ipykernel_1752/701338541.py\u001b[0m in \u001b[0;36m<module>\u001b[1;34m\u001b[0m\n\u001b[0;32m      1\u001b[0m \u001b[0moutput_path\u001b[0m \u001b[1;33m=\u001b[0m \u001b[0mos\u001b[0m\u001b[1;33m.\u001b[0m\u001b[0mpath\u001b[0m\u001b[1;33m.\u001b[0m\u001b[0mjoin\u001b[0m\u001b[1;33m(\u001b[0m\u001b[1;34m'..'\u001b[0m\u001b[1;33m,\u001b[0m \u001b[1;34m'dataset'\u001b[0m\u001b[1;33m,\u001b[0m \u001b[1;34m'modelling_dataset.feather'\u001b[0m\u001b[1;33m)\u001b[0m\u001b[1;33m\u001b[0m\u001b[1;33m\u001b[0m\u001b[0m\n\u001b[1;32m----> 2\u001b[1;33m \u001b[0mcredit_card_df\u001b[0m\u001b[1;33m.\u001b[0m\u001b[0mreset_index\u001b[0m\u001b[1;33m(\u001b[0m\u001b[1;33m)\u001b[0m\u001b[1;33m.\u001b[0m\u001b[0mto_feather\u001b[0m\u001b[1;33m(\u001b[0m\u001b[0moutput_path\u001b[0m\u001b[1;33m)\u001b[0m\u001b[1;33m\u001b[0m\u001b[1;33m\u001b[0m\u001b[0m\n\u001b[0m",
      "\u001b[1;32m~\\anaconda3\\lib\\site-packages\\pandas\\util\\_decorators.py\u001b[0m in \u001b[0;36mwrapper\u001b[1;34m(*args, **kwargs)\u001b[0m\n\u001b[0;32m    205\u001b[0m                 \u001b[1;32melse\u001b[0m\u001b[1;33m:\u001b[0m\u001b[1;33m\u001b[0m\u001b[1;33m\u001b[0m\u001b[0m\n\u001b[0;32m    206\u001b[0m                     \u001b[0mkwargs\u001b[0m\u001b[1;33m[\u001b[0m\u001b[0mnew_arg_name\u001b[0m\u001b[1;33m]\u001b[0m \u001b[1;33m=\u001b[0m \u001b[0mnew_arg_value\u001b[0m\u001b[1;33m\u001b[0m\u001b[1;33m\u001b[0m\u001b[0m\n\u001b[1;32m--> 207\u001b[1;33m             \u001b[1;32mreturn\u001b[0m \u001b[0mfunc\u001b[0m\u001b[1;33m(\u001b[0m\u001b[1;33m*\u001b[0m\u001b[0margs\u001b[0m\u001b[1;33m,\u001b[0m \u001b[1;33m**\u001b[0m\u001b[0mkwargs\u001b[0m\u001b[1;33m)\u001b[0m\u001b[1;33m\u001b[0m\u001b[1;33m\u001b[0m\u001b[0m\n\u001b[0m\u001b[0;32m    208\u001b[0m \u001b[1;33m\u001b[0m\u001b[0m\n\u001b[0;32m    209\u001b[0m         \u001b[1;32mreturn\u001b[0m \u001b[0mcast\u001b[0m\u001b[1;33m(\u001b[0m\u001b[0mF\u001b[0m\u001b[1;33m,\u001b[0m \u001b[0mwrapper\u001b[0m\u001b[1;33m)\u001b[0m\u001b[1;33m\u001b[0m\u001b[1;33m\u001b[0m\u001b[0m\n",
      "\u001b[1;32m~\\anaconda3\\lib\\site-packages\\pandas\\core\\frame.py\u001b[0m in \u001b[0;36mto_feather\u001b[1;34m(self, path, **kwargs)\u001b[0m\n\u001b[0;32m   2517\u001b[0m         \u001b[1;32mfrom\u001b[0m \u001b[0mpandas\u001b[0m\u001b[1;33m.\u001b[0m\u001b[0mio\u001b[0m\u001b[1;33m.\u001b[0m\u001b[0mfeather_format\u001b[0m \u001b[1;32mimport\u001b[0m \u001b[0mto_feather\u001b[0m\u001b[1;33m\u001b[0m\u001b[1;33m\u001b[0m\u001b[0m\n\u001b[0;32m   2518\u001b[0m \u001b[1;33m\u001b[0m\u001b[0m\n\u001b[1;32m-> 2519\u001b[1;33m         \u001b[0mto_feather\u001b[0m\u001b[1;33m(\u001b[0m\u001b[0mself\u001b[0m\u001b[1;33m,\u001b[0m \u001b[0mpath\u001b[0m\u001b[1;33m,\u001b[0m \u001b[1;33m**\u001b[0m\u001b[0mkwargs\u001b[0m\u001b[1;33m)\u001b[0m\u001b[1;33m\u001b[0m\u001b[1;33m\u001b[0m\u001b[0m\n\u001b[0m\u001b[0;32m   2520\u001b[0m \u001b[1;33m\u001b[0m\u001b[0m\n\u001b[0;32m   2521\u001b[0m     @doc(\n",
      "\u001b[1;32m~\\anaconda3\\lib\\site-packages\\pandas\\io\\feather_format.py\u001b[0m in \u001b[0;36mto_feather\u001b[1;34m(df, path, storage_options, **kwargs)\u001b[0m\n\u001b[0;32m     43\u001b[0m         \u001b[1;33m.\u001b[0m\u001b[1;33m.\u001b[0m \u001b[0mversionadded\u001b[0m\u001b[1;33m:\u001b[0m\u001b[1;33m:\u001b[0m \u001b[1;36m1.1\u001b[0m\u001b[1;36m.0\u001b[0m\u001b[1;33m\u001b[0m\u001b[1;33m\u001b[0m\u001b[0m\n\u001b[0;32m     44\u001b[0m     \"\"\"\n\u001b[1;32m---> 45\u001b[1;33m     \u001b[0mimport_optional_dependency\u001b[0m\u001b[1;33m(\u001b[0m\u001b[1;34m\"pyarrow\"\u001b[0m\u001b[1;33m)\u001b[0m\u001b[1;33m\u001b[0m\u001b[1;33m\u001b[0m\u001b[0m\n\u001b[0m\u001b[0;32m     46\u001b[0m     \u001b[1;32mfrom\u001b[0m \u001b[0mpyarrow\u001b[0m \u001b[1;32mimport\u001b[0m \u001b[0mfeather\u001b[0m\u001b[1;33m\u001b[0m\u001b[1;33m\u001b[0m\u001b[0m\n\u001b[0;32m     47\u001b[0m \u001b[1;33m\u001b[0m\u001b[0m\n",
      "\u001b[1;32m~\\anaconda3\\lib\\site-packages\\pandas\\compat\\_optional.py\u001b[0m in \u001b[0;36mimport_optional_dependency\u001b[1;34m(name, extra, errors, min_version)\u001b[0m\n\u001b[0;32m    116\u001b[0m     \u001b[1;32mexcept\u001b[0m \u001b[0mImportError\u001b[0m\u001b[1;33m:\u001b[0m\u001b[1;33m\u001b[0m\u001b[1;33m\u001b[0m\u001b[0m\n\u001b[0;32m    117\u001b[0m         \u001b[1;32mif\u001b[0m \u001b[0merrors\u001b[0m \u001b[1;33m==\u001b[0m \u001b[1;34m\"raise\"\u001b[0m\u001b[1;33m:\u001b[0m\u001b[1;33m\u001b[0m\u001b[1;33m\u001b[0m\u001b[0m\n\u001b[1;32m--> 118\u001b[1;33m             \u001b[1;32mraise\u001b[0m \u001b[0mImportError\u001b[0m\u001b[1;33m(\u001b[0m\u001b[0mmsg\u001b[0m\u001b[1;33m)\u001b[0m \u001b[1;32mfrom\u001b[0m \u001b[1;32mNone\u001b[0m\u001b[1;33m\u001b[0m\u001b[1;33m\u001b[0m\u001b[0m\n\u001b[0m\u001b[0;32m    119\u001b[0m         \u001b[1;32melse\u001b[0m\u001b[1;33m:\u001b[0m\u001b[1;33m\u001b[0m\u001b[1;33m\u001b[0m\u001b[0m\n\u001b[0;32m    120\u001b[0m             \u001b[1;32mreturn\u001b[0m \u001b[1;32mNone\u001b[0m\u001b[1;33m\u001b[0m\u001b[1;33m\u001b[0m\u001b[0m\n",
      "\u001b[1;31mImportError\u001b[0m: Missing optional dependency 'pyarrow'.  Use pip or conda to install pyarrow."
     ]
    }
   ],
   "source": [
    "output_path = os.path.join('..', 'dataset', 'modelling_dataset.feather')\n",
    "credit_card_df.reset_index().to_feather(output_path)"
   ]
  }
 ],
 "metadata": {
  "deepnote": {},
  "deepnote_execution_queue": [],
  "deepnote_notebook_id": "f69b0133-5762-4095-b25b-5a81265190b2",
  "kernelspec": {
   "display_name": "Python 3 (ipykernel)",
   "language": "python",
   "name": "python3"
  },
  "language_info": {
   "codemirror_mode": {
    "name": "ipython",
    "version": 3
   },
   "file_extension": ".py",
   "mimetype": "text/x-python",
   "name": "python",
   "nbconvert_exporter": "python",
   "pygments_lexer": "ipython3",
   "version": "3.9.7"
  },
  "orig_nbformat": 2
 },
 "nbformat": 4,
 "nbformat_minor": 2
}
